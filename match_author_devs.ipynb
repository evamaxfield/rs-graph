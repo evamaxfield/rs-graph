{
 "cells": [
  {
   "cell_type": "code",
   "execution_count": 1,
   "metadata": {},
   "outputs": [
    {
     "data": {
      "application/vnd.jupyter.widget-view+json": {
       "model_id": "cfc4ee38a5ba4135838da520285aa9ba",
       "version_major": 2,
       "version_minor": 0
      },
      "text/plain": [
       "Batches:   0%|          | 0/1 [00:00<?, ?it/s]"
      ]
     },
     "metadata": {},
     "output_type": "display_data"
    },
    {
     "data": {
      "application/vnd.jupyter.widget-view+json": {
       "model_id": "6cd0e693d0b74ba79278d05b9696b2f9",
       "version_major": 2,
       "version_minor": 0
      },
      "text/plain": [
       "Batches:   0%|          | 0/1 [00:00<?, ?it/s]"
      ]
     },
     "metadata": {},
     "output_type": "display_data"
    },
    {
     "data": {
      "application/vnd.jupyter.widget-view+json": {
       "model_id": "f096bd2fe1e547f9a52eafebeb064df9",
       "version_major": 2,
       "version_minor": 0
      },
      "text/plain": [
       "Batches:   0%|          | 0/1 [00:00<?, ?it/s]"
      ]
     },
     "metadata": {},
     "output_type": "display_data"
    },
    {
     "data": {
      "application/vnd.jupyter.widget-view+json": {
       "model_id": "ae09625aa6de40f4a6854c88db86e9e7",
       "version_major": 2,
       "version_minor": 0
      },
      "text/plain": [
       "Batches:   0%|          | 0/1 [00:00<?, ?it/s]"
      ]
     },
     "metadata": {},
     "output_type": "display_data"
    },
    {
     "data": {
      "application/vnd.jupyter.widget-view+json": {
       "model_id": "4e43f36162c24b17ab1eb7fda252b225",
       "version_major": 2,
       "version_minor": 0
      },
      "text/plain": [
       "Batches:   0%|          | 0/1 [00:00<?, ?it/s]"
      ]
     },
     "metadata": {},
     "output_type": "display_data"
    },
    {
     "data": {
      "application/vnd.jupyter.widget-view+json": {
       "model_id": "a7f9f21225254bde981f235ff14aed1e",
       "version_major": 2,
       "version_minor": 0
      },
      "text/plain": [
       "Batches:   0%|          | 0/1 [00:00<?, ?it/s]"
      ]
     },
     "metadata": {},
     "output_type": "display_data"
    },
    {
     "data": {
      "text/plain": [
       "['match', 'no-match']"
      ]
     },
     "execution_count": 1,
     "metadata": {},
     "output_type": "execute_result"
    }
   ],
   "source": [
    "from rs_graph.modeling import predict_dev_author_matches\n",
    "\n",
    "eva_github = {\n",
    "    \"username\": \"evamaxfield\",\n",
    "    \"name\": \"Eva Maxfield Brown\",\n",
    "    \"email\": \"None\",\n",
    "}\n",
    "eva_author = {\n",
    "    \"name\": \"Eva Maxfield Brown\",\n",
    "}\n",
    "nic_github = {\n",
    "    \"username\": \"nniiicc\",\n",
    "    \"name\": \"Nic Weber\",\n",
    "    \"email\": \"None\",\n",
    "}\n",
    "\n",
    "predictions = predict_dev_author_matches(\n",
    "    [eva_github, nic_github],\n",
    "    [eva_author, eva_author],\n",
    ")\n",
    "predictions"
   ]
  },
  {
   "cell_type": "code",
   "execution_count": 2,
   "metadata": {},
   "outputs": [
    {
     "name": "stdout",
     "output_type": "stream",
     "text": [
      "(15731, 8)\n",
      "(100, 4)\n"
     ]
    }
   ],
   "source": [
    "import pandas as pd\n",
    "from tqdm import tqdm\n",
    "\n",
    "from rs_graph.data import (\n",
    "    load_author_contributions_dataset,\n",
    "    load_repo_contributors_dataset,\n",
    ")\n",
    "\n",
    "# Load the two datasets\n",
    "devs = load_repo_contributors_dataset()\n",
    "authors = load_author_contributions_dataset().sample(100)\n",
    "\n",
    "print(devs.shape)\n",
    "print(authors.shape)"
   ]
  },
  {
   "cell_type": "code",
   "execution_count": 3,
   "metadata": {},
   "outputs": [
    {
     "data": {
      "text/html": [
       "<div>\n",
       "<style scoped>\n",
       "    .dataframe tbody tr th:only-of-type {\n",
       "        vertical-align: middle;\n",
       "    }\n",
       "\n",
       "    .dataframe tbody tr th {\n",
       "        vertical-align: top;\n",
       "    }\n",
       "\n",
       "    .dataframe thead th {\n",
       "        text-align: right;\n",
       "    }\n",
       "</style>\n",
       "<table border=\"1\" class=\"dataframe\">\n",
       "  <thead>\n",
       "    <tr style=\"text-align: right;\">\n",
       "      <th></th>\n",
       "      <th>name</th>\n",
       "      <th>author_id</th>\n",
       "    </tr>\n",
       "  </thead>\n",
       "  <tbody>\n",
       "    <tr>\n",
       "      <th>21</th>\n",
       "      <td>R. Gelderloos</td>\n",
       "      <td>9619392</td>\n",
       "    </tr>\n",
       "    <tr>\n",
       "      <th>80</th>\n",
       "      <td>Jennifer A. Schmidt</td>\n",
       "      <td>2149991567</td>\n",
       "    </tr>\n",
       "    <tr>\n",
       "      <th>38</th>\n",
       "      <td>Andreas Selamtzis</td>\n",
       "      <td>5050126</td>\n",
       "    </tr>\n",
       "  </tbody>\n",
       "</table>\n",
       "</div>"
      ],
      "text/plain": [
       "                   name   author_id\n",
       "21        R. Gelderloos     9619392\n",
       "80  Jennifer A. Schmidt  2149991567\n",
       "38    Andreas Selamtzis     5050126"
      ]
     },
     "execution_count": 3,
     "metadata": {},
     "output_type": "execute_result"
    }
   ],
   "source": [
    "processed_authors = []\n",
    "repo_to_author_id_lut = {}\n",
    "for _, author in authors.iterrows():\n",
    "    repos = [c[\"repo\"] for c in author.contributions]\n",
    "\n",
    "    for repo in repos:\n",
    "        if repo not in repo_to_author_id_lut:\n",
    "            repo_to_author_id_lut[repo] = []\n",
    "\n",
    "        repo_to_author_id_lut[repo].append(author.author_id)\n",
    "\n",
    "    processed_authors.append({\n",
    "        \"name\": author[\"name\"],\n",
    "        \"author_id\": author.author_id,\n",
    "    })\n",
    "\n",
    "processed_authors = pd.DataFrame(processed_authors)\n",
    "processed_authors.sample(3)"
   ]
  },
  {
   "cell_type": "code",
   "execution_count": 4,
   "metadata": {},
   "outputs": [
    {
     "data": {
      "text/html": [
       "<div>\n",
       "<style scoped>\n",
       "    .dataframe tbody tr th:only-of-type {\n",
       "        vertical-align: middle;\n",
       "    }\n",
       "\n",
       "    .dataframe tbody tr th {\n",
       "        vertical-align: top;\n",
       "    }\n",
       "\n",
       "    .dataframe thead th {\n",
       "        text-align: right;\n",
       "    }\n",
       "</style>\n",
       "<table border=\"1\" class=\"dataframe\">\n",
       "  <thead>\n",
       "    <tr style=\"text-align: right;\">\n",
       "      <th></th>\n",
       "      <th>username</th>\n",
       "      <th>name</th>\n",
       "      <th>email</th>\n",
       "    </tr>\n",
       "  </thead>\n",
       "  <tbody>\n",
       "    <tr>\n",
       "      <th>5438</th>\n",
       "      <td>gabuzi</td>\n",
       "      <td>None</td>\n",
       "      <td>None</td>\n",
       "    </tr>\n",
       "    <tr>\n",
       "      <th>9804</th>\n",
       "      <td>rspavel</td>\n",
       "      <td>Robert Pavel</td>\n",
       "      <td>None</td>\n",
       "    </tr>\n",
       "    <tr>\n",
       "      <th>4463</th>\n",
       "      <td>db434</td>\n",
       "      <td>Daniel Bates</td>\n",
       "      <td>None</td>\n",
       "    </tr>\n",
       "  </tbody>\n",
       "</table>\n",
       "</div>"
      ],
      "text/plain": [
       "     username          name email\n",
       "5438   gabuzi          None  None\n",
       "9804  rspavel  Robert Pavel  None\n",
       "4463    db434  Daniel Bates  None"
      ]
     },
     "execution_count": 4,
     "metadata": {},
     "output_type": "execute_result"
    }
   ],
   "source": [
    "# Create dataframe of dev username, name, email, repos, and co_contributors\n",
    "processed_devs = []\n",
    "repo_to_dev_lut = {}\n",
    "for dev, group in devs.groupby(\"username\"):\n",
    "    repos = group[\"repo\"].tolist()\n",
    "\n",
    "    for repo in repos:\n",
    "        if repo not in repo_to_dev_lut:\n",
    "            repo_to_dev_lut[repo] = []\n",
    "\n",
    "        repo_to_dev_lut[repo].append(dev)\n",
    "\n",
    "    processed_devs.append({\n",
    "        \"username\": dev,\n",
    "        \"name\": group.iloc[0][\"name\"],\n",
    "        \"email\": group.iloc[0][\"email\"],\n",
    "    })\n",
    "\n",
    "processed_devs = pd.DataFrame(processed_devs)\n",
    "processed_devs.sample(3)"
   ]
  },
  {
   "cell_type": "code",
   "execution_count": 5,
   "metadata": {},
   "outputs": [
    {
     "name": "stderr",
     "output_type": "stream",
     "text": [
      "100%|██████████| 2610/2610 [00:00<00:00, 2619.72it/s]\n"
     ]
    },
    {
     "data": {
      "text/html": [
       "<div>\n",
       "<style scoped>\n",
       "    .dataframe tbody tr th:only-of-type {\n",
       "        vertical-align: middle;\n",
       "    }\n",
       "\n",
       "    .dataframe tbody tr th {\n",
       "        vertical-align: top;\n",
       "    }\n",
       "\n",
       "    .dataframe thead th {\n",
       "        text-align: right;\n",
       "    }\n",
       "</style>\n",
       "<table border=\"1\" class=\"dataframe\">\n",
       "  <thead>\n",
       "    <tr style=\"text-align: right;\">\n",
       "      <th></th>\n",
       "      <th>repo</th>\n",
       "      <th>dev_details</th>\n",
       "      <th>author_details</th>\n",
       "    </tr>\n",
       "  </thead>\n",
       "  <tbody>\n",
       "    <tr>\n",
       "      <th>226</th>\n",
       "      <td>https://github.com/Ouranosinc/xclim</td>\n",
       "      <td>{'username': 'Beauprel', 'name': 'Alexis BL', ...</td>\n",
       "      <td>{'name': 'Philippe Roy', 'author_id': '2146989...</td>\n",
       "    </tr>\n",
       "    <tr>\n",
       "      <th>734</th>\n",
       "      <td>https://github.com/mlpack/mlpack</td>\n",
       "      <td>{'username': 'gboyer', 'name': 'Garry Boyer', ...</td>\n",
       "      <td>{'name': 'Ryan R. Curtin', 'author_id': '34658...</td>\n",
       "    </tr>\n",
       "    <tr>\n",
       "      <th>435</th>\n",
       "      <td>https://github.com/bids-standard/pybids</td>\n",
       "      <td>{'username': 'hjmjohnson', 'name': 'Hans Johns...</td>\n",
       "      <td>{'name': 'Michael Hanke', 'author_id': '1761354'}</td>\n",
       "    </tr>\n",
       "  </tbody>\n",
       "</table>\n",
       "</div>"
      ],
      "text/plain": [
       "                                        repo  \\\n",
       "226      https://github.com/Ouranosinc/xclim   \n",
       "734         https://github.com/mlpack/mlpack   \n",
       "435  https://github.com/bids-standard/pybids   \n",
       "\n",
       "                                           dev_details  \\\n",
       "226  {'username': 'Beauprel', 'name': 'Alexis BL', ...   \n",
       "734  {'username': 'gboyer', 'name': 'Garry Boyer', ...   \n",
       "435  {'username': 'hjmjohnson', 'name': 'Hans Johns...   \n",
       "\n",
       "                                        author_details  \n",
       "226  {'name': 'Philippe Roy', 'author_id': '2146989...  \n",
       "734  {'name': 'Ryan R. Curtin', 'author_id': '34658...  \n",
       "435  {'name': 'Michael Hanke', 'author_id': '1761354'}  "
      ]
     },
     "execution_count": 5,
     "metadata": {},
     "output_type": "execute_result"
    }
   ],
   "source": [
    "# Create comparison dataframe of devs and authors in the same repo\n",
    "repo_and_dev_author_comparisons = []\n",
    "for repo, dev_usernames in tqdm(repo_to_dev_lut.items()):\n",
    "    if repo not in repo_to_author_id_lut:\n",
    "        continue\n",
    "\n",
    "    author_ids = repo_to_author_id_lut[repo]\n",
    "\n",
    "    for dev_username in dev_usernames:\n",
    "        for author_id in author_ids:\n",
    "            dev_details = processed_devs.loc[\n",
    "                processed_devs[\"username\"] == dev_username\n",
    "            ].iloc[0].to_dict()\n",
    "            author_details = processed_authors.loc[\n",
    "                processed_authors[\"author_id\"] == author_id\n",
    "            ].iloc[0].to_dict()\n",
    "\n",
    "            # Append\n",
    "            repo_and_dev_author_comparisons.append({\n",
    "                \"repo\": repo,\n",
    "                \"dev_details\": dev_details,\n",
    "                \"author_details\": author_details,\n",
    "            })\n",
    "\n",
    "repo_and_dev_author_comparisons = pd.DataFrame(repo_and_dev_author_comparisons)\n",
    "repo_and_dev_author_comparisons.sample(3)"
   ]
  },
  {
   "cell_type": "code",
   "execution_count": 6,
   "metadata": {},
   "outputs": [
    {
     "data": {
      "application/vnd.jupyter.widget-view+json": {
       "model_id": "e2df46325dc84a479b9dbae71970bd23",
       "version_major": 2,
       "version_minor": 0
      },
      "text/plain": [
       "Batches:   0%|          | 0/33 [00:00<?, ?it/s]"
      ]
     },
     "metadata": {},
     "output_type": "display_data"
    },
    {
     "data": {
      "application/vnd.jupyter.widget-view+json": {
       "model_id": "cfa87a54318840c6aa31d9f4f31a2b77",
       "version_major": 2,
       "version_minor": 0
      },
      "text/plain": [
       "Batches:   0%|          | 0/33 [00:00<?, ?it/s]"
      ]
     },
     "metadata": {},
     "output_type": "display_data"
    },
    {
     "data": {
      "application/vnd.jupyter.widget-view+json": {
       "model_id": "cf444f0c0825492dab454074f7c7c4a7",
       "version_major": 2,
       "version_minor": 0
      },
      "text/plain": [
       "Batches:   0%|          | 0/33 [00:00<?, ?it/s]"
      ]
     },
     "metadata": {},
     "output_type": "display_data"
    },
    {
     "data": {
      "application/vnd.jupyter.widget-view+json": {
       "model_id": "fe6e20b5489b4705b80962119ed94b5c",
       "version_major": 2,
       "version_minor": 0
      },
      "text/plain": [
       "Batches:   0%|          | 0/33 [00:00<?, ?it/s]"
      ]
     },
     "metadata": {},
     "output_type": "display_data"
    },
    {
     "data": {
      "application/vnd.jupyter.widget-view+json": {
       "model_id": "79e59503848c4960b0cfee1ea2d07065",
       "version_major": 2,
       "version_minor": 0
      },
      "text/plain": [
       "Batches:   0%|          | 0/33 [00:00<?, ?it/s]"
      ]
     },
     "metadata": {},
     "output_type": "display_data"
    },
    {
     "data": {
      "application/vnd.jupyter.widget-view+json": {
       "model_id": "e54e3f4a77db4b8e84d3d2a3e8ec41d2",
       "version_major": 2,
       "version_minor": 0
      },
      "text/plain": [
       "Batches:   0%|          | 0/33 [00:00<?, ?it/s]"
      ]
     },
     "metadata": {},
     "output_type": "display_data"
    },
    {
     "data": {
      "text/plain": [
       "no-match    994\n",
       "match        51\n",
       "Name: predictions, dtype: int64"
      ]
     },
     "execution_count": 6,
     "metadata": {},
     "output_type": "execute_result"
    }
   ],
   "source": [
    "repo_and_dev_author_comparisons[\"predictions\"] = predict_dev_author_matches(\n",
    "    repo_and_dev_author_comparisons[\"dev_details\"].tolist(),\n",
    "    repo_and_dev_author_comparisons[\"author_details\"].tolist(),\n",
    ")\n",
    "repo_and_dev_author_comparisons[\"predictions\"].value_counts()"
   ]
  },
  {
   "cell_type": "code",
   "execution_count": 7,
   "metadata": {},
   "outputs": [
    {
     "data": {
      "text/html": [
       "<div>\n",
       "<style scoped>\n",
       "    .dataframe tbody tr th:only-of-type {\n",
       "        vertical-align: middle;\n",
       "    }\n",
       "\n",
       "    .dataframe tbody tr th {\n",
       "        vertical-align: top;\n",
       "    }\n",
       "\n",
       "    .dataframe thead th {\n",
       "        text-align: right;\n",
       "    }\n",
       "</style>\n",
       "<table border=\"1\" class=\"dataframe\">\n",
       "  <thead>\n",
       "    <tr style=\"text-align: right;\">\n",
       "      <th></th>\n",
       "      <th>dev_details</th>\n",
       "      <th>author_details</th>\n",
       "    </tr>\n",
       "  </thead>\n",
       "  <tbody>\n",
       "    <tr>\n",
       "      <th>0</th>\n",
       "      <td>{'username': '1313e', 'name': 'Ellert van der ...</td>\n",
       "      <td>{'name': 'Ellert van der Velden', 'author_id':...</td>\n",
       "    </tr>\n",
       "    <tr>\n",
       "      <th>1</th>\n",
       "      <td>{'username': '1313e', 'name': 'Ellert van der ...</td>\n",
       "      <td>{'name': 'Ellert van der Velden', 'author_id':...</td>\n",
       "    </tr>\n",
       "    <tr>\n",
       "      <th>48</th>\n",
       "      <td>{'username': 'asalmgren', 'name': 'Ann Almgren...</td>\n",
       "      <td>{'name': 'A. Almgren', 'author_id': '2896475'}</td>\n",
       "    </tr>\n",
       "    <tr>\n",
       "      <th>86</th>\n",
       "      <td>{'username': 'asalmgren', 'name': 'Ann Almgren...</td>\n",
       "      <td>{'name': 'A. Almgren', 'author_id': '2896475'}</td>\n",
       "    </tr>\n",
       "    <tr>\n",
       "      <th>108</th>\n",
       "      <td>{'username': 'bbenneke', 'name': 'Björn Bennek...</td>\n",
       "      <td>{'name': 'B. Benneke', 'author_id': '7176439'}</td>\n",
       "    </tr>\n",
       "    <tr>\n",
       "      <th>128</th>\n",
       "      <td>{'username': 'williamjameshandley', 'name': 'W...</td>\n",
       "      <td>{'name': 'Will Handley', 'author_id': '1453931...</td>\n",
       "    </tr>\n",
       "    <tr>\n",
       "      <th>139</th>\n",
       "      <td>{'username': 'williamjameshandley', 'name': 'W...</td>\n",
       "      <td>{'name': 'Will Handley', 'author_id': '1453931...</td>\n",
       "    </tr>\n",
       "    <tr>\n",
       "      <th>173</th>\n",
       "      <td>{'username': 'agosiewska', 'name': 'Alicja Gos...</td>\n",
       "      <td>{'name': 'Alicja Gosiewska', 'author_id': '514...</td>\n",
       "    </tr>\n",
       "    <tr>\n",
       "      <th>225</th>\n",
       "      <td>{'username': 'Balinus', 'name': 'Philippe Roy'...</td>\n",
       "      <td>{'name': 'Philippe Roy', 'author_id': '2146989...</td>\n",
       "    </tr>\n",
       "    <tr>\n",
       "      <th>269</th>\n",
       "      <td>{'username': 'bgupt', 'name': 'Brajesh Gupt', ...</td>\n",
       "      <td>{'name': 'Brajesh Gupt', 'author_id': '15964560'}</td>\n",
       "    </tr>\n",
       "    <tr>\n",
       "      <th>295</th>\n",
       "      <td>{'username': 'RussellGarwood', 'name': 'Russel...</td>\n",
       "      <td>{'name': 'R. Garwood', 'author_id': '3969116'}</td>\n",
       "    </tr>\n",
       "    <tr>\n",
       "      <th>308</th>\n",
       "      <td>{'username': 'liasiegelman', 'name': 'Lia Sieg...</td>\n",
       "      <td>{'name': 'L. Siegelman', 'author_id': '91948652'}</td>\n",
       "    </tr>\n",
       "    <tr>\n",
       "      <th>316</th>\n",
       "      <td>{'username': 'Garyfallidis', 'name': 'Elefther...</td>\n",
       "      <td>{'name': 'Eleftherios Garyfallidis', 'author_i...</td>\n",
       "    </tr>\n",
       "    <tr>\n",
       "      <th>344</th>\n",
       "      <td>{'username': 'Carlitosh', 'name': 'Carlos Hern...</td>\n",
       "      <td>{'name': 'Carlos H. Hernandez', 'author_id': '...</td>\n",
       "    </tr>\n",
       "    <tr>\n",
       "      <th>355</th>\n",
       "      <td>{'username': 'bwang64', 'name': 'Yingke Wang',...</td>\n",
       "      <td>{'name': 'Yingke Wang', 'author_id': '22176698...</td>\n",
       "    </tr>\n",
       "    <tr>\n",
       "      <th>382</th>\n",
       "      <td>{'username': 'chdahlqvist', 'name': 'Carl-Henr...</td>\n",
       "      <td>{'name': 'Carl-Henrik Dahlqvist', 'author_id':...</td>\n",
       "    </tr>\n",
       "    <tr>\n",
       "      <th>397</th>\n",
       "      <td>{'username': 'JamesPHoughton', 'name': 'James ...</td>\n",
       "      <td>{'name': 'James L. Houghton', 'author_id': '15...</td>\n",
       "    </tr>\n",
       "    <tr>\n",
       "      <th>421</th>\n",
       "      <td>{'username': 'ynop', 'name': 'Matthias', 'emai...</td>\n",
       "      <td>{'name': 'Matthias Büchi', 'author_id': '17537...</td>\n",
       "    </tr>\n",
       "    <tr>\n",
       "      <th>490</th>\n",
       "      <td>{'username': 'kyleam', 'name': 'Kyle Meyer', '...</td>\n",
       "      <td>{'name': 'Kyle Meyer', 'author_id': '46362843'}</td>\n",
       "    </tr>\n",
       "    <tr>\n",
       "      <th>497</th>\n",
       "      <td>{'username': 'mih', 'name': 'Michael Hanke', '...</td>\n",
       "      <td>{'name': 'Michael Hanke', 'author_id': '1761354'}</td>\n",
       "    </tr>\n",
       "    <tr>\n",
       "      <th>513</th>\n",
       "      <td>{'username': 'joesingo', 'name': 'Joe Singleto...</td>\n",
       "      <td>{'name': 'J. Singleton', 'author_id': '2060898...</td>\n",
       "    </tr>\n",
       "    <tr>\n",
       "      <th>581</th>\n",
       "      <td>{'username': 'GiuseppeMassari', 'name': 'Giuse...</td>\n",
       "      <td>{'name': 'G. Massari', 'author_id': '2501494'}</td>\n",
       "    </tr>\n",
       "    <tr>\n",
       "      <th>622</th>\n",
       "      <td>{'username': 'asalmgren', 'name': 'Ann Almgren...</td>\n",
       "      <td>{'name': 'A. Almgren', 'author_id': '2896475'}</td>\n",
       "    </tr>\n",
       "    <tr>\n",
       "      <th>649</th>\n",
       "      <td>{'username': 'lepmik', 'name': 'Mikkel Elle Le...</td>\n",
       "      <td>{'name': 'M. Lepperød', 'author_id': '14049585...</td>\n",
       "    </tr>\n",
       "    <tr>\n",
       "      <th>675</th>\n",
       "      <td>{'username': 'alogg', 'name': 'Anders Logg', '...</td>\n",
       "      <td>{'name': 'A. Logg', 'author_id': '2717947'}</td>\n",
       "    </tr>\n",
       "    <tr>\n",
       "      <th>676</th>\n",
       "      <td>{'username': 'anderslogg', 'name': 'Anders Log...</td>\n",
       "      <td>{'name': 'A. Logg', 'author_id': '2717947'}</td>\n",
       "    </tr>\n",
       "    <tr>\n",
       "      <th>698</th>\n",
       "      <td>{'username': 'bbengfort', 'name': 'Benjamin Be...</td>\n",
       "      <td>{'name': 'Benjamin Bengfort', 'author_id': '28...</td>\n",
       "    </tr>\n",
       "    <tr>\n",
       "      <th>744</th>\n",
       "      <td>{'username': 'rcurtin', 'name': 'Ryan Curtin',...</td>\n",
       "      <td>{'name': 'Ryan R. Curtin', 'author_id': '34658...</td>\n",
       "    </tr>\n",
       "    <tr>\n",
       "      <th>754</th>\n",
       "      <td>{'username': 'KirstensGitHub', 'name': 'Kirste...</td>\n",
       "      <td>{'name': 'K. Ziman', 'author_id': '40978203'}</td>\n",
       "    </tr>\n",
       "    <tr>\n",
       "      <th>765</th>\n",
       "      <td>{'username': 'ndawe', 'name': 'Noel Dawe', 'em...</td>\n",
       "      <td>{'name': 'E. Dawe', 'author_id': '29530579'}</td>\n",
       "    </tr>\n",
       "    <tr>\n",
       "      <th>784</th>\n",
       "      <td>{'username': 'MalteBrunn', 'name': 'Malte Brun...</td>\n",
       "      <td>{'name': 'Malte Brunn', 'author_id': '37676281'}</td>\n",
       "    </tr>\n",
       "    <tr>\n",
       "      <th>804</th>\n",
       "      <td>{'username': 'vmagnin', 'name': 'Vincent Magni...</td>\n",
       "      <td>{'name': 'Vincent Magnin', 'author_id': '20950...</td>\n",
       "    </tr>\n",
       "    <tr>\n",
       "      <th>810</th>\n",
       "      <td>{'username': 'davidhassell', 'name': 'David Ha...</td>\n",
       "      <td>{'name': 'D. Hassell', 'author_id': '152463458'}</td>\n",
       "    </tr>\n",
       "    <tr>\n",
       "      <th>812</th>\n",
       "      <td>{'username': 'NicolasHug', 'name': 'Nicolas Hu...</td>\n",
       "      <td>{'name': 'Nicolas Hug', 'author_id': '3205930'}</td>\n",
       "    </tr>\n",
       "    <tr>\n",
       "      <th>842</th>\n",
       "      <td>{'username': 'NicolettaK', 'name': 'Nicoletta ...</td>\n",
       "      <td>{'name': 'N. Krachmalnicoff', 'author_id': '70...</td>\n",
       "    </tr>\n",
       "    <tr>\n",
       "      <th>861</th>\n",
       "      <td>{'username': 'WeiqunZhang', 'name': 'Weiqun Zh...</td>\n",
       "      <td>{'name': 'Weiqun Zhang', 'author_id': '2264664...</td>\n",
       "    </tr>\n",
       "    <tr>\n",
       "      <th>884</th>\n",
       "      <td>{'username': 'asalmgren', 'name': 'Ann Almgren...</td>\n",
       "      <td>{'name': 'A. Almgren', 'author_id': '2896475'}</td>\n",
       "    </tr>\n",
       "    <tr>\n",
       "      <th>932</th>\n",
       "      <td>{'username': 'adithirgis', 'name': 'Adithi R. ...</td>\n",
       "      <td>{'name': 'A. Upadhya', 'author_id': '2006740022'}</td>\n",
       "    </tr>\n",
       "    <tr>\n",
       "      <th>935</th>\n",
       "      <td>{'username': 'adithirgis', 'name': 'Adithi R. ...</td>\n",
       "      <td>{'name': 'A. Upadhya', 'author_id': '2006740022'}</td>\n",
       "    </tr>\n",
       "    <tr>\n",
       "      <th>941</th>\n",
       "      <td>{'username': 'mih', 'name': 'Michael Hanke', '...</td>\n",
       "      <td>{'name': 'Michael Hanke', 'author_id': '1761354'}</td>\n",
       "    </tr>\n",
       "    <tr>\n",
       "      <th>952</th>\n",
       "      <td>{'username': 'jimrybarski', 'name': 'Jim Rybar...</td>\n",
       "      <td>{'name': 'James R. Rybarski', 'author_id': '88...</td>\n",
       "    </tr>\n",
       "    <tr>\n",
       "      <th>953</th>\n",
       "      <td>{'username': 'alexrockhill', 'name': 'Alex Roc...</td>\n",
       "      <td>{'name': 'A. Rockhill', 'author_id': '52212728'}</td>\n",
       "    </tr>\n",
       "    <tr>\n",
       "      <th>971</th>\n",
       "      <td>{'username': 'neuromusic', 'name': 'Justin Kig...</td>\n",
       "      <td>{'name': 'Justin Kiggins', 'author_id': '60757...</td>\n",
       "    </tr>\n",
       "    <tr>\n",
       "      <th>985</th>\n",
       "      <td>{'username': 'masspastore', 'name': 'Massimili...</td>\n",
       "      <td>{'name': 'M. Pastore', 'author_id': '145299924'}</td>\n",
       "    </tr>\n",
       "    <tr>\n",
       "      <th>991</th>\n",
       "      <td>{'username': 'cameronabrams', 'name': 'Cameron...</td>\n",
       "      <td>{'name': 'C. Abrams', 'author_id': '145020394'}</td>\n",
       "    </tr>\n",
       "    <tr>\n",
       "      <th>994</th>\n",
       "      <td>{'username': 'carnot-shailesh', 'name': 'Shail...</td>\n",
       "      <td>{'name': 'Shailesh Kumar', 'author_id': '21096...</td>\n",
       "    </tr>\n",
       "    <tr>\n",
       "      <th>995</th>\n",
       "      <td>{'username': 'shailesh1729', 'name': 'Shailesh...</td>\n",
       "      <td>{'name': 'Shailesh Kumar', 'author_id': '21096...</td>\n",
       "    </tr>\n",
       "    <tr>\n",
       "      <th>1001</th>\n",
       "      <td>{'username': 'ldanon', 'name': 'Leon Danon', '...</td>\n",
       "      <td>{'name': 'L. Danon', 'author_id': '2755880'}</td>\n",
       "    </tr>\n",
       "    <tr>\n",
       "      <th>1022</th>\n",
       "      <td>{'username': 'jdbaugher', 'name': 'Joseph Baug...</td>\n",
       "      <td>{'name': 'Joseph D. Baugher', 'author_id': '52...</td>\n",
       "    </tr>\n",
       "    <tr>\n",
       "      <th>1024</th>\n",
       "      <td>{'username': 'nonlinearfun', 'name': 'Chris Ea...</td>\n",
       "      <td>{'name': 'C. Earls', 'author_id': '115127177'}</td>\n",
       "    </tr>\n",
       "    <tr>\n",
       "      <th>1035</th>\n",
       "      <td>{'username': 'ronikobrosly', 'name': 'Roni Kob...</td>\n",
       "      <td>{'name': 'R. Kobrosly', 'author_id': '5316003'}</td>\n",
       "    </tr>\n",
       "  </tbody>\n",
       "</table>\n",
       "</div>"
      ],
      "text/plain": [
       "                                            dev_details  \\\n",
       "0     {'username': '1313e', 'name': 'Ellert van der ...   \n",
       "1     {'username': '1313e', 'name': 'Ellert van der ...   \n",
       "48    {'username': 'asalmgren', 'name': 'Ann Almgren...   \n",
       "86    {'username': 'asalmgren', 'name': 'Ann Almgren...   \n",
       "108   {'username': 'bbenneke', 'name': 'Björn Bennek...   \n",
       "128   {'username': 'williamjameshandley', 'name': 'W...   \n",
       "139   {'username': 'williamjameshandley', 'name': 'W...   \n",
       "173   {'username': 'agosiewska', 'name': 'Alicja Gos...   \n",
       "225   {'username': 'Balinus', 'name': 'Philippe Roy'...   \n",
       "269   {'username': 'bgupt', 'name': 'Brajesh Gupt', ...   \n",
       "295   {'username': 'RussellGarwood', 'name': 'Russel...   \n",
       "308   {'username': 'liasiegelman', 'name': 'Lia Sieg...   \n",
       "316   {'username': 'Garyfallidis', 'name': 'Elefther...   \n",
       "344   {'username': 'Carlitosh', 'name': 'Carlos Hern...   \n",
       "355   {'username': 'bwang64', 'name': 'Yingke Wang',...   \n",
       "382   {'username': 'chdahlqvist', 'name': 'Carl-Henr...   \n",
       "397   {'username': 'JamesPHoughton', 'name': 'James ...   \n",
       "421   {'username': 'ynop', 'name': 'Matthias', 'emai...   \n",
       "490   {'username': 'kyleam', 'name': 'Kyle Meyer', '...   \n",
       "497   {'username': 'mih', 'name': 'Michael Hanke', '...   \n",
       "513   {'username': 'joesingo', 'name': 'Joe Singleto...   \n",
       "581   {'username': 'GiuseppeMassari', 'name': 'Giuse...   \n",
       "622   {'username': 'asalmgren', 'name': 'Ann Almgren...   \n",
       "649   {'username': 'lepmik', 'name': 'Mikkel Elle Le...   \n",
       "675   {'username': 'alogg', 'name': 'Anders Logg', '...   \n",
       "676   {'username': 'anderslogg', 'name': 'Anders Log...   \n",
       "698   {'username': 'bbengfort', 'name': 'Benjamin Be...   \n",
       "744   {'username': 'rcurtin', 'name': 'Ryan Curtin',...   \n",
       "754   {'username': 'KirstensGitHub', 'name': 'Kirste...   \n",
       "765   {'username': 'ndawe', 'name': 'Noel Dawe', 'em...   \n",
       "784   {'username': 'MalteBrunn', 'name': 'Malte Brun...   \n",
       "804   {'username': 'vmagnin', 'name': 'Vincent Magni...   \n",
       "810   {'username': 'davidhassell', 'name': 'David Ha...   \n",
       "812   {'username': 'NicolasHug', 'name': 'Nicolas Hu...   \n",
       "842   {'username': 'NicolettaK', 'name': 'Nicoletta ...   \n",
       "861   {'username': 'WeiqunZhang', 'name': 'Weiqun Zh...   \n",
       "884   {'username': 'asalmgren', 'name': 'Ann Almgren...   \n",
       "932   {'username': 'adithirgis', 'name': 'Adithi R. ...   \n",
       "935   {'username': 'adithirgis', 'name': 'Adithi R. ...   \n",
       "941   {'username': 'mih', 'name': 'Michael Hanke', '...   \n",
       "952   {'username': 'jimrybarski', 'name': 'Jim Rybar...   \n",
       "953   {'username': 'alexrockhill', 'name': 'Alex Roc...   \n",
       "971   {'username': 'neuromusic', 'name': 'Justin Kig...   \n",
       "985   {'username': 'masspastore', 'name': 'Massimili...   \n",
       "991   {'username': 'cameronabrams', 'name': 'Cameron...   \n",
       "994   {'username': 'carnot-shailesh', 'name': 'Shail...   \n",
       "995   {'username': 'shailesh1729', 'name': 'Shailesh...   \n",
       "1001  {'username': 'ldanon', 'name': 'Leon Danon', '...   \n",
       "1022  {'username': 'jdbaugher', 'name': 'Joseph Baug...   \n",
       "1024  {'username': 'nonlinearfun', 'name': 'Chris Ea...   \n",
       "1035  {'username': 'ronikobrosly', 'name': 'Roni Kob...   \n",
       "\n",
       "                                         author_details  \n",
       "0     {'name': 'Ellert van der Velden', 'author_id':...  \n",
       "1     {'name': 'Ellert van der Velden', 'author_id':...  \n",
       "48       {'name': 'A. Almgren', 'author_id': '2896475'}  \n",
       "86       {'name': 'A. Almgren', 'author_id': '2896475'}  \n",
       "108      {'name': 'B. Benneke', 'author_id': '7176439'}  \n",
       "128   {'name': 'Will Handley', 'author_id': '1453931...  \n",
       "139   {'name': 'Will Handley', 'author_id': '1453931...  \n",
       "173   {'name': 'Alicja Gosiewska', 'author_id': '514...  \n",
       "225   {'name': 'Philippe Roy', 'author_id': '2146989...  \n",
       "269   {'name': 'Brajesh Gupt', 'author_id': '15964560'}  \n",
       "295      {'name': 'R. Garwood', 'author_id': '3969116'}  \n",
       "308   {'name': 'L. Siegelman', 'author_id': '91948652'}  \n",
       "316   {'name': 'Eleftherios Garyfallidis', 'author_i...  \n",
       "344   {'name': 'Carlos H. Hernandez', 'author_id': '...  \n",
       "355   {'name': 'Yingke Wang', 'author_id': '22176698...  \n",
       "382   {'name': 'Carl-Henrik Dahlqvist', 'author_id':...  \n",
       "397   {'name': 'James L. Houghton', 'author_id': '15...  \n",
       "421   {'name': 'Matthias Büchi', 'author_id': '17537...  \n",
       "490     {'name': 'Kyle Meyer', 'author_id': '46362843'}  \n",
       "497   {'name': 'Michael Hanke', 'author_id': '1761354'}  \n",
       "513   {'name': 'J. Singleton', 'author_id': '2060898...  \n",
       "581      {'name': 'G. Massari', 'author_id': '2501494'}  \n",
       "622      {'name': 'A. Almgren', 'author_id': '2896475'}  \n",
       "649   {'name': 'M. Lepperød', 'author_id': '14049585...  \n",
       "675         {'name': 'A. Logg', 'author_id': '2717947'}  \n",
       "676         {'name': 'A. Logg', 'author_id': '2717947'}  \n",
       "698   {'name': 'Benjamin Bengfort', 'author_id': '28...  \n",
       "744   {'name': 'Ryan R. Curtin', 'author_id': '34658...  \n",
       "754       {'name': 'K. Ziman', 'author_id': '40978203'}  \n",
       "765        {'name': 'E. Dawe', 'author_id': '29530579'}  \n",
       "784    {'name': 'Malte Brunn', 'author_id': '37676281'}  \n",
       "804   {'name': 'Vincent Magnin', 'author_id': '20950...  \n",
       "810    {'name': 'D. Hassell', 'author_id': '152463458'}  \n",
       "812     {'name': 'Nicolas Hug', 'author_id': '3205930'}  \n",
       "842   {'name': 'N. Krachmalnicoff', 'author_id': '70...  \n",
       "861   {'name': 'Weiqun Zhang', 'author_id': '2264664...  \n",
       "884      {'name': 'A. Almgren', 'author_id': '2896475'}  \n",
       "932   {'name': 'A. Upadhya', 'author_id': '2006740022'}  \n",
       "935   {'name': 'A. Upadhya', 'author_id': '2006740022'}  \n",
       "941   {'name': 'Michael Hanke', 'author_id': '1761354'}  \n",
       "952   {'name': 'James R. Rybarski', 'author_id': '88...  \n",
       "953    {'name': 'A. Rockhill', 'author_id': '52212728'}  \n",
       "971   {'name': 'Justin Kiggins', 'author_id': '60757...  \n",
       "985    {'name': 'M. Pastore', 'author_id': '145299924'}  \n",
       "991     {'name': 'C. Abrams', 'author_id': '145020394'}  \n",
       "994   {'name': 'Shailesh Kumar', 'author_id': '21096...  \n",
       "995   {'name': 'Shailesh Kumar', 'author_id': '21096...  \n",
       "1001       {'name': 'L. Danon', 'author_id': '2755880'}  \n",
       "1022  {'name': 'Joseph D. Baugher', 'author_id': '52...  \n",
       "1024     {'name': 'C. Earls', 'author_id': '115127177'}  \n",
       "1035    {'name': 'R. Kobrosly', 'author_id': '5316003'}  "
      ]
     },
     "execution_count": 7,
     "metadata": {},
     "output_type": "execute_result"
    }
   ],
   "source": [
    "repo_and_dev_author_comparisons.loc[\n",
    "    repo_and_dev_author_comparisons.predictions == \"match\"\n",
    "][[\"dev_details\", \"author_details\"]]"
   ]
  },
  {
   "cell_type": "code",
   "execution_count": null,
   "metadata": {},
   "outputs": [],
   "source": []
  }
 ],
 "metadata": {
  "kernelspec": {
   "display_name": "rs-graph",
   "language": "python",
   "name": "python3"
  },
  "language_info": {
   "codemirror_mode": {
    "name": "ipython",
    "version": 3
   },
   "file_extension": ".py",
   "mimetype": "text/x-python",
   "name": "python",
   "nbconvert_exporter": "python",
   "pygments_lexer": "ipython3",
   "version": "3.11.7"
  }
 },
 "nbformat": 4,
 "nbformat_minor": 2
}
