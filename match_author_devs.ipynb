{
 "cells": [
  {
   "cell_type": "code",
   "execution_count": 1,
   "metadata": {},
   "outputs": [
    {
     "data": {
      "application/vnd.jupyter.widget-view+json": {
       "model_id": "b097481819004cae8c733fc7eed8fda9",
       "version_major": 2,
       "version_minor": 0
      },
      "text/plain": [
       "Batches:   0%|          | 0/1 [00:00<?, ?it/s]"
      ]
     },
     "metadata": {},
     "output_type": "display_data"
    },
    {
     "data": {
      "application/vnd.jupyter.widget-view+json": {
       "model_id": "1e6effadacfe405a8a22b3f12c6695e4",
       "version_major": 2,
       "version_minor": 0
      },
      "text/plain": [
       "Batches:   0%|          | 0/1 [00:00<?, ?it/s]"
      ]
     },
     "metadata": {},
     "output_type": "display_data"
    },
    {
     "data": {
      "application/vnd.jupyter.widget-view+json": {
       "model_id": "17a4fd39c23348ec87565f49287873ae",
       "version_major": 2,
       "version_minor": 0
      },
      "text/plain": [
       "Batches:   0%|          | 0/1 [00:00<?, ?it/s]"
      ]
     },
     "metadata": {},
     "output_type": "display_data"
    },
    {
     "data": {
      "application/vnd.jupyter.widget-view+json": {
       "model_id": "bcb5dafc4b67424987b4c01dd4b500a5",
       "version_major": 2,
       "version_minor": 0
      },
      "text/plain": [
       "Batches:   0%|          | 0/1 [00:00<?, ?it/s]"
      ]
     },
     "metadata": {},
     "output_type": "display_data"
    },
    {
     "data": {
      "application/vnd.jupyter.widget-view+json": {
       "model_id": "2081ee7af8144c5fa35ea0fff4a96259",
       "version_major": 2,
       "version_minor": 0
      },
      "text/plain": [
       "Batches:   0%|          | 0/1 [00:00<?, ?it/s]"
      ]
     },
     "metadata": {},
     "output_type": "display_data"
    },
    {
     "data": {
      "application/vnd.jupyter.widget-view+json": {
       "model_id": "24cf56c77d984149bb4b04a44334ce4c",
       "version_major": 2,
       "version_minor": 0
      },
      "text/plain": [
       "Batches:   0%|          | 0/1 [00:00<?, ?it/s]"
      ]
     },
     "metadata": {},
     "output_type": "display_data"
    },
    {
     "data": {
      "text/plain": [
       "['match', 'no-match']"
      ]
     },
     "execution_count": 1,
     "metadata": {},
     "output_type": "execute_result"
    }
   ],
   "source": [
    "from rs_graph.modeling import predict_author_dev_matches\n",
    "\n",
    "eva_github = {\n",
    "    \"username\": \"evamaxfield\",\n",
    "    \"name\": \"Eva Maxfield Brown\",\n",
    "    \"email\": \"None\",\n",
    "}\n",
    "eva_author = {\n",
    "    \"name\": \"Eva Maxfield Brown\",\n",
    "}\n",
    "nic_github = {\n",
    "    \"username\": \"nniiicc\",\n",
    "    \"name\": \"Nic Weber\",\n",
    "    \"email\": \"None\",\n",
    "}\n",
    "\n",
    "predictions = predict_author_dev_matches(\n",
    "    [eva_github, nic_github],\n",
    "    [eva_author, eva_author],\n",
    ")\n",
    "predictions"
   ]
  },
  {
   "cell_type": "code",
   "execution_count": 2,
   "metadata": {},
   "outputs": [
    {
     "name": "stdout",
     "output_type": "stream",
     "text": [
      "(15731, 8)\n",
      "(100, 4)\n"
     ]
    }
   ],
   "source": [
    "import pandas as pd\n",
    "from tqdm import tqdm\n",
    "\n",
    "from rs_graph.data import (\n",
    "    load_author_contributions_dataset,\n",
    "    load_repo_contributors_dataset,\n",
    ")\n",
    "\n",
    "# Load the two datasets\n",
    "devs = load_repo_contributors_dataset()\n",
    "authors = load_author_contributions_dataset().sample(100)\n",
    "\n",
    "print(devs.shape)\n",
    "print(authors.shape)"
   ]
  },
  {
   "cell_type": "code",
   "execution_count": 3,
   "metadata": {},
   "outputs": [
    {
     "data": {
      "text/html": [
       "<div>\n",
       "<style scoped>\n",
       "    .dataframe tbody tr th:only-of-type {\n",
       "        vertical-align: middle;\n",
       "    }\n",
       "\n",
       "    .dataframe tbody tr th {\n",
       "        vertical-align: top;\n",
       "    }\n",
       "\n",
       "    .dataframe thead th {\n",
       "        text-align: right;\n",
       "    }\n",
       "</style>\n",
       "<table border=\"1\" class=\"dataframe\">\n",
       "  <thead>\n",
       "    <tr style=\"text-align: right;\">\n",
       "      <th></th>\n",
       "      <th>name</th>\n",
       "      <th>author_id</th>\n",
       "    </tr>\n",
       "  </thead>\n",
       "  <tbody>\n",
       "    <tr>\n",
       "      <th>96</th>\n",
       "      <td>D. Larremore</td>\n",
       "      <td>2900564</td>\n",
       "    </tr>\n",
       "    <tr>\n",
       "      <th>73</th>\n",
       "      <td>E. Toyserkani</td>\n",
       "      <td>1714046</td>\n",
       "    </tr>\n",
       "    <tr>\n",
       "      <th>28</th>\n",
       "      <td>M. Dobias</td>\n",
       "      <td>46362392</td>\n",
       "    </tr>\n",
       "  </tbody>\n",
       "</table>\n",
       "</div>"
      ],
      "text/plain": [
       "             name author_id\n",
       "96   D. Larremore   2900564\n",
       "73  E. Toyserkani   1714046\n",
       "28      M. Dobias  46362392"
      ]
     },
     "execution_count": 3,
     "metadata": {},
     "output_type": "execute_result"
    }
   ],
   "source": [
    "processed_authors = []\n",
    "repo_to_author_id_lut = {}\n",
    "for _, author in authors.iterrows():\n",
    "    repos = [c[\"repo\"] for c in author.contributions]\n",
    "\n",
    "    for repo in repos:\n",
    "        if repo not in repo_to_author_id_lut:\n",
    "            repo_to_author_id_lut[repo] = []\n",
    "\n",
    "        repo_to_author_id_lut[repo].append(author.author_id)\n",
    "\n",
    "    processed_authors.append({\n",
    "        \"name\": author[\"name\"],\n",
    "        \"author_id\": author.author_id,\n",
    "    })\n",
    "\n",
    "processed_authors = pd.DataFrame(processed_authors)\n",
    "processed_authors.sample(3)"
   ]
  },
  {
   "cell_type": "code",
   "execution_count": 4,
   "metadata": {},
   "outputs": [
    {
     "data": {
      "text/html": [
       "<div>\n",
       "<style scoped>\n",
       "    .dataframe tbody tr th:only-of-type {\n",
       "        vertical-align: middle;\n",
       "    }\n",
       "\n",
       "    .dataframe tbody tr th {\n",
       "        vertical-align: top;\n",
       "    }\n",
       "\n",
       "    .dataframe thead th {\n",
       "        text-align: right;\n",
       "    }\n",
       "</style>\n",
       "<table border=\"1\" class=\"dataframe\">\n",
       "  <thead>\n",
       "    <tr style=\"text-align: right;\">\n",
       "      <th></th>\n",
       "      <th>username</th>\n",
       "      <th>name</th>\n",
       "      <th>email</th>\n",
       "    </tr>\n",
       "  </thead>\n",
       "  <tbody>\n",
       "    <tr>\n",
       "      <th>121</th>\n",
       "      <td>AlexMikes</td>\n",
       "      <td>None</td>\n",
       "      <td>None</td>\n",
       "    </tr>\n",
       "    <tr>\n",
       "      <th>11437</th>\n",
       "      <td>wouterpeere</td>\n",
       "      <td>Wouter Peere</td>\n",
       "      <td>None</td>\n",
       "    </tr>\n",
       "    <tr>\n",
       "      <th>6018</th>\n",
       "      <td>hudajkhan</td>\n",
       "      <td>None</td>\n",
       "      <td>None</td>\n",
       "    </tr>\n",
       "  </tbody>\n",
       "</table>\n",
       "</div>"
      ],
      "text/plain": [
       "          username          name email\n",
       "121      AlexMikes          None  None\n",
       "11437  wouterpeere  Wouter Peere  None\n",
       "6018     hudajkhan          None  None"
      ]
     },
     "execution_count": 4,
     "metadata": {},
     "output_type": "execute_result"
    }
   ],
   "source": [
    "# Create dataframe of dev username, name, email, repos, and co_contributors\n",
    "processed_devs = []\n",
    "repo_to_dev_lut = {}\n",
    "for dev, group in devs.groupby(\"username\"):\n",
    "    repos = group[\"repo\"].tolist()\n",
    "\n",
    "    for repo in repos:\n",
    "        if repo not in repo_to_dev_lut:\n",
    "            repo_to_dev_lut[repo] = []\n",
    "\n",
    "        repo_to_dev_lut[repo].append(dev)\n",
    "\n",
    "    processed_devs.append({\n",
    "        \"username\": dev,\n",
    "        \"name\": group.iloc[0][\"name\"],\n",
    "        \"email\": group.iloc[0][\"email\"],\n",
    "    })\n",
    "\n",
    "processed_devs = pd.DataFrame(processed_devs)\n",
    "processed_devs.sample(3)"
   ]
  },
  {
   "cell_type": "code",
   "execution_count": 5,
   "metadata": {},
   "outputs": [
    {
     "name": "stderr",
     "output_type": "stream",
     "text": [
      "100%|██████████| 2610/2610 [00:00<00:00, 2667.21it/s]\n"
     ]
    },
    {
     "data": {
      "text/html": [
       "<div>\n",
       "<style scoped>\n",
       "    .dataframe tbody tr th:only-of-type {\n",
       "        vertical-align: middle;\n",
       "    }\n",
       "\n",
       "    .dataframe tbody tr th {\n",
       "        vertical-align: top;\n",
       "    }\n",
       "\n",
       "    .dataframe thead th {\n",
       "        text-align: right;\n",
       "    }\n",
       "</style>\n",
       "<table border=\"1\" class=\"dataframe\">\n",
       "  <thead>\n",
       "    <tr style=\"text-align: right;\">\n",
       "      <th></th>\n",
       "      <th>repo</th>\n",
       "      <th>dev_details</th>\n",
       "      <th>author_details</th>\n",
       "    </tr>\n",
       "  </thead>\n",
       "  <tbody>\n",
       "    <tr>\n",
       "      <th>206</th>\n",
       "      <td>https://github.com/resibots/limbo</td>\n",
       "      <td>{'username': 'chrismile', 'name': 'Christoph N...</td>\n",
       "      <td>{'name': 'Federico Allocati', 'author_id': '75...</td>\n",
       "    </tr>\n",
       "    <tr>\n",
       "      <th>691</th>\n",
       "      <td>https://github.com/ornladios/ADIOS2</td>\n",
       "      <td>{'username': 'philip-davis', 'name': 'Philip D...</td>\n",
       "      <td>{'name': 'Keichi Takahashi', 'author_id': '193...</td>\n",
       "    </tr>\n",
       "    <tr>\n",
       "      <th>57</th>\n",
       "      <td>https://github.com/michellab/BioSimSpace</td>\n",
       "      <td>{'username': 'msuruzhon', 'name': 'Miroslav Su...</td>\n",
       "      <td>{'name': 'F. Gervasio', 'author_id': '2407694'}</td>\n",
       "    </tr>\n",
       "  </tbody>\n",
       "</table>\n",
       "</div>"
      ],
      "text/plain": [
       "                                         repo  \\\n",
       "206         https://github.com/resibots/limbo   \n",
       "691       https://github.com/ornladios/ADIOS2   \n",
       "57   https://github.com/michellab/BioSimSpace   \n",
       "\n",
       "                                           dev_details  \\\n",
       "206  {'username': 'chrismile', 'name': 'Christoph N...   \n",
       "691  {'username': 'philip-davis', 'name': 'Philip D...   \n",
       "57   {'username': 'msuruzhon', 'name': 'Miroslav Su...   \n",
       "\n",
       "                                        author_details  \n",
       "206  {'name': 'Federico Allocati', 'author_id': '75...  \n",
       "691  {'name': 'Keichi Takahashi', 'author_id': '193...  \n",
       "57     {'name': 'F. Gervasio', 'author_id': '2407694'}  "
      ]
     },
     "execution_count": 5,
     "metadata": {},
     "output_type": "execute_result"
    }
   ],
   "source": [
    "# Create comparison dataframe of devs and authors in the same repo\n",
    "repo_and_dev_author_comparisons = []\n",
    "for repo, dev_usernames in tqdm(repo_to_dev_lut.items()):\n",
    "    if repo not in repo_to_author_id_lut:\n",
    "        continue\n",
    "\n",
    "    author_ids = repo_to_author_id_lut[repo]\n",
    "\n",
    "    for dev_username in dev_usernames:\n",
    "        for author_id in author_ids:\n",
    "            dev_details = processed_devs.loc[\n",
    "                processed_devs[\"username\"] == dev_username\n",
    "            ].iloc[0].to_dict()\n",
    "            author_details = processed_authors.loc[\n",
    "                processed_authors[\"author_id\"] == author_id\n",
    "            ].iloc[0].to_dict()\n",
    "\n",
    "            # Append\n",
    "            repo_and_dev_author_comparisons.append({\n",
    "                \"repo\": repo,\n",
    "                \"dev_details\": dev_details,\n",
    "                \"author_details\": author_details,\n",
    "            })\n",
    "\n",
    "repo_and_dev_author_comparisons = pd.DataFrame(repo_and_dev_author_comparisons)\n",
    "repo_and_dev_author_comparisons.sample(3)"
   ]
  },
  {
   "cell_type": "code",
   "execution_count": 7,
   "metadata": {},
   "outputs": [
    {
     "data": {
      "application/vnd.jupyter.widget-view+json": {
       "model_id": "149d28d413ee47548876cfa4e6793177",
       "version_major": 2,
       "version_minor": 0
      },
      "text/plain": [
       "Batches:   0%|          | 0/32 [00:00<?, ?it/s]"
      ]
     },
     "metadata": {},
     "output_type": "display_data"
    },
    {
     "data": {
      "application/vnd.jupyter.widget-view+json": {
       "model_id": "9d826d71f8ba46078bfc930546633d60",
       "version_major": 2,
       "version_minor": 0
      },
      "text/plain": [
       "Batches:   0%|          | 0/32 [00:00<?, ?it/s]"
      ]
     },
     "metadata": {},
     "output_type": "display_data"
    },
    {
     "data": {
      "application/vnd.jupyter.widget-view+json": {
       "model_id": "366fa20fa3204fe0b926306e53132d29",
       "version_major": 2,
       "version_minor": 0
      },
      "text/plain": [
       "Batches:   0%|          | 0/32 [00:00<?, ?it/s]"
      ]
     },
     "metadata": {},
     "output_type": "display_data"
    },
    {
     "data": {
      "application/vnd.jupyter.widget-view+json": {
       "model_id": "8603219e7a29441f8099c6a7fca5ee5f",
       "version_major": 2,
       "version_minor": 0
      },
      "text/plain": [
       "Batches:   0%|          | 0/32 [00:00<?, ?it/s]"
      ]
     },
     "metadata": {},
     "output_type": "display_data"
    },
    {
     "data": {
      "application/vnd.jupyter.widget-view+json": {
       "model_id": "91b6d0b24a404cc8a6ccdad3947c2b75",
       "version_major": 2,
       "version_minor": 0
      },
      "text/plain": [
       "Batches:   0%|          | 0/32 [00:00<?, ?it/s]"
      ]
     },
     "metadata": {},
     "output_type": "display_data"
    },
    {
     "data": {
      "application/vnd.jupyter.widget-view+json": {
       "model_id": "71652039ed474ba18e6e6ffcd9afc333",
       "version_major": 2,
       "version_minor": 0
      },
      "text/plain": [
       "Batches:   0%|          | 0/32 [00:00<?, ?it/s]"
      ]
     },
     "metadata": {},
     "output_type": "display_data"
    },
    {
     "data": {
      "text/plain": [
       "no-match    968\n",
       "match        56\n",
       "Name: predictions, dtype: int64"
      ]
     },
     "execution_count": 7,
     "metadata": {},
     "output_type": "execute_result"
    }
   ],
   "source": [
    "repo_and_dev_author_comparisons[\"predictions\"] = predict_author_dev_matches(\n",
    "    repo_and_dev_author_comparisons[\"dev_details\"].tolist(),\n",
    "    repo_and_dev_author_comparisons[\"author_details\"].tolist(),\n",
    ")\n",
    "repo_and_dev_author_comparisons[\"predictions\"].value_counts()"
   ]
  },
  {
   "cell_type": "code",
   "execution_count": 8,
   "metadata": {},
   "outputs": [
    {
     "data": {
      "text/html": [
       "<div>\n",
       "<style scoped>\n",
       "    .dataframe tbody tr th:only-of-type {\n",
       "        vertical-align: middle;\n",
       "    }\n",
       "\n",
       "    .dataframe tbody tr th {\n",
       "        vertical-align: top;\n",
       "    }\n",
       "\n",
       "    .dataframe thead th {\n",
       "        text-align: right;\n",
       "    }\n",
       "</style>\n",
       "<table border=\"1\" class=\"dataframe\">\n",
       "  <thead>\n",
       "    <tr style=\"text-align: right;\">\n",
       "      <th></th>\n",
       "      <th>dev_details</th>\n",
       "      <th>author_details</th>\n",
       "    </tr>\n",
       "  </thead>\n",
       "  <tbody>\n",
       "    <tr>\n",
       "      <th>158</th>\n",
       "      <td>{'username': 'tonielgeitani', 'name': 'Toni El...</td>\n",
       "      <td>{'name': 'Toni El Geitani', 'author_id': '2006...</td>\n",
       "    </tr>\n",
       "    <tr>\n",
       "      <th>162</th>\n",
       "      <td>{'username': 'bryanlimy', 'name': 'Bryan M. Li...</td>\n",
       "      <td>{'name': 'Bryan M. Li', 'author_id': '48218631'}</td>\n",
       "    </tr>\n",
       "    <tr>\n",
       "      <th>167</th>\n",
       "      <td>{'username': 'AnBucquet', 'name': 'BUCQUET Ant...</td>\n",
       "      <td>{'name': 'Anthime Bucquet', 'author_id': '1999...</td>\n",
       "    </tr>\n",
       "    <tr>\n",
       "      <th>198</th>\n",
       "      <td>{'username': 'PacoCosta', 'name': 'Francisco C...</td>\n",
       "      <td>{'name': 'Francisco Costa', 'author_id': '2150...</td>\n",
       "    </tr>\n",
       "    <tr>\n",
       "      <th>209</th>\n",
       "      <td>{'username': 'fedeallocati', 'name': 'Federico...</td>\n",
       "      <td>{'name': 'Federico Allocati', 'author_id': '75...</td>\n",
       "    </tr>\n",
       "    <tr>\n",
       "      <th>260</th>\n",
       "      <td>{'username': 'steven-murray', 'name': 'Steven ...</td>\n",
       "      <td>{'name': 'S. Murray', 'author_id': '47426998'}</td>\n",
       "    </tr>\n",
       "    <tr>\n",
       "      <th>271</th>\n",
       "      <td>{'username': 'Garyfallidis', 'name': 'Elefther...</td>\n",
       "      <td>{'name': 'Eleftherios Garyfallidis', 'author_i...</td>\n",
       "    </tr>\n",
       "    <tr>\n",
       "      <th>299</th>\n",
       "      <td>{'username': 'CKrawczyk', 'name': 'Coleman Kra...</td>\n",
       "      <td>{'name': 'Coleman Krawczyk', 'author_id': '984...</td>\n",
       "    </tr>\n",
       "    <tr>\n",
       "      <th>320</th>\n",
       "      <td>{'username': 'Carlitosh', 'name': 'Carlos Hern...</td>\n",
       "      <td>{'name': 'Carlos H. Hernandez', 'author_id': '...</td>\n",
       "    </tr>\n",
       "    <tr>\n",
       "      <th>351</th>\n",
       "      <td>{'username': 'emdupre', 'name': 'Elizabeth DuP...</td>\n",
       "      <td>{'name': 'E. Dupre', 'author_id': '33660027'}</td>\n",
       "    </tr>\n",
       "    <tr>\n",
       "      <th>393</th>\n",
       "      <td>{'username': 'eitanlees', 'name': 'Eitan Lees'...</td>\n",
       "      <td>{'name': 'Eitan Lees', 'author_id': '40066914'}</td>\n",
       "    </tr>\n",
       "    <tr>\n",
       "      <th>419</th>\n",
       "      <td>{'username': 'apizzuto', 'name': 'Alex Pizzuto...</td>\n",
       "      <td>{'name': 'A. Pizzuto', 'author_id': '77040484'}</td>\n",
       "    </tr>\n",
       "    <tr>\n",
       "      <th>442</th>\n",
       "      <td>{'username': 'farr', 'name': 'Will Meierjurgen...</td>\n",
       "      <td>{'name': 'W. Farr', 'author_id': '3305699'}</td>\n",
       "    </tr>\n",
       "    <tr>\n",
       "      <th>476</th>\n",
       "      <td>{'username': 'jeremiecoullon', 'name': 'Jeremi...</td>\n",
       "      <td>{'name': 'Jeremie Coullon', 'author_id': '1418...</td>\n",
       "    </tr>\n",
       "    <tr>\n",
       "      <th>481</th>\n",
       "      <td>{'username': 'QuayAu', 'name': 'Quay', 'email'...</td>\n",
       "      <td>{'name': 'Quay Au', 'author_id': '51306278'}</td>\n",
       "    </tr>\n",
       "    <tr>\n",
       "      <th>524</th>\n",
       "      <td>{'username': 'lucateo', 'name': 'Luca Teodori'...</td>\n",
       "      <td>{'name': 'L. Teodori', 'author_id': '1478322572'}</td>\n",
       "    </tr>\n",
       "    <tr>\n",
       "      <th>554</th>\n",
       "      <td>{'username': 'emdupre', 'name': 'Elizabeth DuP...</td>\n",
       "      <td>{'name': 'E. Dupre', 'author_id': '33660027'}</td>\n",
       "    </tr>\n",
       "    <tr>\n",
       "      <th>592</th>\n",
       "      <td>{'username': 'kyleam', 'name': 'Kyle Meyer', '...</td>\n",
       "      <td>{'name': 'Kyle Meyer', 'author_id': '46362843'}</td>\n",
       "    </tr>\n",
       "    <tr>\n",
       "      <th>604</th>\n",
       "      <td>{'username': 'Tobias-Dwyer', 'name': None, 'em...</td>\n",
       "      <td>{'name': 'Tobias Dwyer', 'author_id': '1447242...</td>\n",
       "    </tr>\n",
       "    <tr>\n",
       "      <th>622</th>\n",
       "      <td>{'username': 'LeoDutriaux', 'name': 'LeoDutria...</td>\n",
       "      <td>{'name': 'Léo Dutriaux', 'author_id': '46734551'}</td>\n",
       "    </tr>\n",
       "    <tr>\n",
       "      <th>630</th>\n",
       "      <td>{'username': 'girgink', 'name': 'Serkan Girgin...</td>\n",
       "      <td>{'name': 'S. Girgin', 'author_id': '101605936'}</td>\n",
       "    </tr>\n",
       "    <tr>\n",
       "      <th>634</th>\n",
       "      <td>{'username': 'GiggleLiu', 'name': 'Jinguo Liu ...</td>\n",
       "      <td>{'name': 'Jin-Guo Liu', 'author_id': '22538203...</td>\n",
       "    </tr>\n",
       "    <tr>\n",
       "      <th>687</th>\n",
       "      <td>{'username': 'keichi', 'name': 'Keichi Takahas...</td>\n",
       "      <td>{'name': 'Keichi Takahashi', 'author_id': '193...</td>\n",
       "    </tr>\n",
       "    <tr>\n",
       "      <th>728</th>\n",
       "      <td>{'username': 'Robinlovelace', 'name': 'Robin L...</td>\n",
       "      <td>{'name': 'R. Lovelace', 'author_id': '11788482'}</td>\n",
       "    </tr>\n",
       "    <tr>\n",
       "      <th>757</th>\n",
       "      <td>{'username': 'Robinlovelace', 'name': 'Robin L...</td>\n",
       "      <td>{'name': 'R. Lovelace', 'author_id': '11788482'}</td>\n",
       "    </tr>\n",
       "    <tr>\n",
       "      <th>778</th>\n",
       "      <td>{'username': 'steven-murray', 'name': 'Steven ...</td>\n",
       "      <td>{'name': 'S. Murray', 'author_id': '47426998'}</td>\n",
       "    </tr>\n",
       "    <tr>\n",
       "      <th>783</th>\n",
       "      <td>{'username': 'rikhuijzer', 'name': 'Rik Huijze...</td>\n",
       "      <td>{'name': 'Rik Huijzer', 'author_id': '21620995...</td>\n",
       "    </tr>\n",
       "    <tr>\n",
       "      <th>788</th>\n",
       "      <td>{'username': 'dandls', 'name': 'Susanne Dandl'...</td>\n",
       "      <td>{'name': 'Susanne Dandl', 'author_id': '148030...</td>\n",
       "    </tr>\n",
       "    <tr>\n",
       "      <th>792</th>\n",
       "      <td>{'username': 'PabRod', 'name': 'Pablo Rodrígue...</td>\n",
       "      <td>{'name': 'Pablo Rodríguez-Sánchez', 'author_id...</td>\n",
       "    </tr>\n",
       "    <tr>\n",
       "      <th>795</th>\n",
       "      <td>{'username': 'Pakillo', 'name': 'Francisco Rod...</td>\n",
       "      <td>{'name': 'Francisco J. Rodríguez-Sanchez', 'au...</td>\n",
       "    </tr>\n",
       "    <tr>\n",
       "      <th>811</th>\n",
       "      <td>{'username': 'PaulSt', 'name': 'Paul Stocker',...</td>\n",
       "      <td>{'name': 'P. Stocker', 'author_id': '2067428685'}</td>\n",
       "    </tr>\n",
       "    <tr>\n",
       "      <th>820</th>\n",
       "      <td>{'username': 'Robinlovelace', 'name': 'Robin L...</td>\n",
       "      <td>{'name': 'R. Lovelace', 'author_id': '11788482'}</td>\n",
       "    </tr>\n",
       "    <tr>\n",
       "      <th>843</th>\n",
       "      <td>{'username': 'soraxas', 'name': 'Tin Lai', 'em...</td>\n",
       "      <td>{'name': 'Tin Lai', 'author_id': '121502726'}</td>\n",
       "    </tr>\n",
       "    <tr>\n",
       "      <th>844</th>\n",
       "      <td>{'username': 'ShanaScogin', 'name': 'Shana Sco...</td>\n",
       "      <td>{'name': 'Shana Scogin', 'author_id': '1396914...</td>\n",
       "    </tr>\n",
       "    <tr>\n",
       "      <th>846</th>\n",
       "      <td>{'username': 'ShanaScogin', 'name': 'Shana Sco...</td>\n",
       "      <td>{'name': 'Shana Scogin', 'author_id': '1396914...</td>\n",
       "    </tr>\n",
       "    <tr>\n",
       "      <th>863</th>\n",
       "      <td>{'username': 'rushk014', 'name': 'Rush Kapoor'...</td>\n",
       "      <td>{'name': 'Rush Kapoor', 'author_id': '21498598...</td>\n",
       "    </tr>\n",
       "    <tr>\n",
       "      <th>883</th>\n",
       "      <td>{'username': 'kburns', 'name': 'Keaton J. Burn...</td>\n",
       "      <td>{'name': 'K. Burns', 'author_id': '31517157'}</td>\n",
       "    </tr>\n",
       "    <tr>\n",
       "      <th>885</th>\n",
       "      <td>{'username': 'epiben', 'name': 'Benjamin Skov ...</td>\n",
       "      <td>{'name': 'B. S. Kaas-Hansen', 'author_id': '14...</td>\n",
       "    </tr>\n",
       "    <tr>\n",
       "      <th>886</th>\n",
       "      <td>{'username': 'ahasverus', 'name': 'Nicolas Cas...</td>\n",
       "      <td>{'name': 'Nicolas Casajus', 'author_id': '5153...</td>\n",
       "    </tr>\n",
       "    <tr>\n",
       "      <th>895</th>\n",
       "      <td>{'username': 'steven-murray', 'name': 'Steven ...</td>\n",
       "      <td>{'name': 'S. Murray', 'author_id': '47426998'}</td>\n",
       "    </tr>\n",
       "    <tr>\n",
       "      <th>906</th>\n",
       "      <td>{'username': 'schneiderpy', 'name': 'Andreas S...</td>\n",
       "      <td>{'name': 'Andreas Schneider', 'author_id': '22...</td>\n",
       "    </tr>\n",
       "    <tr>\n",
       "      <th>917</th>\n",
       "      <td>{'username': 'nandaloo', 'name': 'Philipp Luca...</td>\n",
       "      <td>{'name': 'P. Lucas', 'author_id': '2056434717'}</td>\n",
       "    </tr>\n",
       "    <tr>\n",
       "      <th>921</th>\n",
       "      <td>{'username': 'rkern', 'name': 'Robert Kern', '...</td>\n",
       "      <td>{'name': 'Steven J. Kern', 'author_id': '42315...</td>\n",
       "    </tr>\n",
       "    <tr>\n",
       "      <th>922</th>\n",
       "      <td>{'username': 'stevenjkern', 'name': 'Steven Ke...</td>\n",
       "      <td>{'name': 'Steven J. Kern', 'author_id': '42315...</td>\n",
       "    </tr>\n",
       "    <tr>\n",
       "      <th>924</th>\n",
       "      <td>{'username': 'hrossman', 'name': 'Hagai_Rossma...</td>\n",
       "      <td>{'name': 'H. Rossman', 'author_id': '1482559324'}</td>\n",
       "    </tr>\n",
       "    <tr>\n",
       "      <th>945</th>\n",
       "      <td>{'username': 'cchrisnguyen', 'name': 'Chris Ng...</td>\n",
       "      <td>{'name': 'Christel Nguyen', 'author_id': '1443...</td>\n",
       "    </tr>\n",
       "    <tr>\n",
       "      <th>956</th>\n",
       "      <td>{'username': 'parkerclayton', 'name': 'Parker ...</td>\n",
       "      <td>{'name': 'Parker Clayton', 'author_id': '13810...</td>\n",
       "    </tr>\n",
       "    <tr>\n",
       "      <th>969</th>\n",
       "      <td>{'username': 'dblarremore', 'name': 'Daniel La...</td>\n",
       "      <td>{'name': 'D. Larremore', 'author_id': '2900564'}</td>\n",
       "    </tr>\n",
       "    <tr>\n",
       "      <th>980</th>\n",
       "      <td>{'username': 'isaacna', 'name': 'Isaac Na', 'e...</td>\n",
       "      <td>{'name': 'Isaac Na', 'author_id': '2142953146'}</td>\n",
       "    </tr>\n",
       "    <tr>\n",
       "      <th>998</th>\n",
       "      <td>{'username': 'emptyewer', 'name': 'Venkatraman...</td>\n",
       "      <td>{'name': 'V. Krishnamani', 'author_id': '65976...</td>\n",
       "    </tr>\n",
       "    <tr>\n",
       "      <th>1004</th>\n",
       "      <td>{'username': 'jcsutherland', 'name': 'James Su...</td>\n",
       "      <td>{'name': 'J. Sutherland', 'author_id': '145234...</td>\n",
       "    </tr>\n",
       "    <tr>\n",
       "      <th>1008</th>\n",
       "      <td>{'username': 'jdrugo', 'name': 'Jan Drugowitsc...</td>\n",
       "      <td>{'name': 'Jan Drugowitsch', 'author_id': '2980...</td>\n",
       "    </tr>\n",
       "    <tr>\n",
       "      <th>1012</th>\n",
       "      <td>{'username': 'pvarvia', 'name': 'Petri Varvia'...</td>\n",
       "      <td>{'name': 'P. Varvia', 'author_id': '31255799'}</td>\n",
       "    </tr>\n",
       "    <tr>\n",
       "      <th>1014</th>\n",
       "      <td>{'username': 'mrsonandrade', 'name': 'Emerson ...</td>\n",
       "      <td>{'name': 'Emerson Martins de Andrade', 'author...</td>\n",
       "    </tr>\n",
       "    <tr>\n",
       "      <th>1020</th>\n",
       "      <td>{'username': 'stu2', 'name': 'Stuart Archer', ...</td>\n",
       "      <td>{'name': 'S. Archer', 'author_id': '3525784'}</td>\n",
       "    </tr>\n",
       "    <tr>\n",
       "      <th>1021</th>\n",
       "      <td>{'username': 'pnsaevik', 'name': 'Pål Næverlid...</td>\n",
       "      <td>{'name': 'P. N. Sævik', 'author_id': '97690732'}</td>\n",
       "    </tr>\n",
       "  </tbody>\n",
       "</table>\n",
       "</div>"
      ],
      "text/plain": [
       "                                            dev_details  \\\n",
       "158   {'username': 'tonielgeitani', 'name': 'Toni El...   \n",
       "162   {'username': 'bryanlimy', 'name': 'Bryan M. Li...   \n",
       "167   {'username': 'AnBucquet', 'name': 'BUCQUET Ant...   \n",
       "198   {'username': 'PacoCosta', 'name': 'Francisco C...   \n",
       "209   {'username': 'fedeallocati', 'name': 'Federico...   \n",
       "260   {'username': 'steven-murray', 'name': 'Steven ...   \n",
       "271   {'username': 'Garyfallidis', 'name': 'Elefther...   \n",
       "299   {'username': 'CKrawczyk', 'name': 'Coleman Kra...   \n",
       "320   {'username': 'Carlitosh', 'name': 'Carlos Hern...   \n",
       "351   {'username': 'emdupre', 'name': 'Elizabeth DuP...   \n",
       "393   {'username': 'eitanlees', 'name': 'Eitan Lees'...   \n",
       "419   {'username': 'apizzuto', 'name': 'Alex Pizzuto...   \n",
       "442   {'username': 'farr', 'name': 'Will Meierjurgen...   \n",
       "476   {'username': 'jeremiecoullon', 'name': 'Jeremi...   \n",
       "481   {'username': 'QuayAu', 'name': 'Quay', 'email'...   \n",
       "524   {'username': 'lucateo', 'name': 'Luca Teodori'...   \n",
       "554   {'username': 'emdupre', 'name': 'Elizabeth DuP...   \n",
       "592   {'username': 'kyleam', 'name': 'Kyle Meyer', '...   \n",
       "604   {'username': 'Tobias-Dwyer', 'name': None, 'em...   \n",
       "622   {'username': 'LeoDutriaux', 'name': 'LeoDutria...   \n",
       "630   {'username': 'girgink', 'name': 'Serkan Girgin...   \n",
       "634   {'username': 'GiggleLiu', 'name': 'Jinguo Liu ...   \n",
       "687   {'username': 'keichi', 'name': 'Keichi Takahas...   \n",
       "728   {'username': 'Robinlovelace', 'name': 'Robin L...   \n",
       "757   {'username': 'Robinlovelace', 'name': 'Robin L...   \n",
       "778   {'username': 'steven-murray', 'name': 'Steven ...   \n",
       "783   {'username': 'rikhuijzer', 'name': 'Rik Huijze...   \n",
       "788   {'username': 'dandls', 'name': 'Susanne Dandl'...   \n",
       "792   {'username': 'PabRod', 'name': 'Pablo Rodrígue...   \n",
       "795   {'username': 'Pakillo', 'name': 'Francisco Rod...   \n",
       "811   {'username': 'PaulSt', 'name': 'Paul Stocker',...   \n",
       "820   {'username': 'Robinlovelace', 'name': 'Robin L...   \n",
       "843   {'username': 'soraxas', 'name': 'Tin Lai', 'em...   \n",
       "844   {'username': 'ShanaScogin', 'name': 'Shana Sco...   \n",
       "846   {'username': 'ShanaScogin', 'name': 'Shana Sco...   \n",
       "863   {'username': 'rushk014', 'name': 'Rush Kapoor'...   \n",
       "883   {'username': 'kburns', 'name': 'Keaton J. Burn...   \n",
       "885   {'username': 'epiben', 'name': 'Benjamin Skov ...   \n",
       "886   {'username': 'ahasverus', 'name': 'Nicolas Cas...   \n",
       "895   {'username': 'steven-murray', 'name': 'Steven ...   \n",
       "906   {'username': 'schneiderpy', 'name': 'Andreas S...   \n",
       "917   {'username': 'nandaloo', 'name': 'Philipp Luca...   \n",
       "921   {'username': 'rkern', 'name': 'Robert Kern', '...   \n",
       "922   {'username': 'stevenjkern', 'name': 'Steven Ke...   \n",
       "924   {'username': 'hrossman', 'name': 'Hagai_Rossma...   \n",
       "945   {'username': 'cchrisnguyen', 'name': 'Chris Ng...   \n",
       "956   {'username': 'parkerclayton', 'name': 'Parker ...   \n",
       "969   {'username': 'dblarremore', 'name': 'Daniel La...   \n",
       "980   {'username': 'isaacna', 'name': 'Isaac Na', 'e...   \n",
       "998   {'username': 'emptyewer', 'name': 'Venkatraman...   \n",
       "1004  {'username': 'jcsutherland', 'name': 'James Su...   \n",
       "1008  {'username': 'jdrugo', 'name': 'Jan Drugowitsc...   \n",
       "1012  {'username': 'pvarvia', 'name': 'Petri Varvia'...   \n",
       "1014  {'username': 'mrsonandrade', 'name': 'Emerson ...   \n",
       "1020  {'username': 'stu2', 'name': 'Stuart Archer', ...   \n",
       "1021  {'username': 'pnsaevik', 'name': 'Pål Næverlid...   \n",
       "\n",
       "                                         author_details  \n",
       "158   {'name': 'Toni El Geitani', 'author_id': '2006...  \n",
       "162    {'name': 'Bryan M. Li', 'author_id': '48218631'}  \n",
       "167   {'name': 'Anthime Bucquet', 'author_id': '1999...  \n",
       "198   {'name': 'Francisco Costa', 'author_id': '2150...  \n",
       "209   {'name': 'Federico Allocati', 'author_id': '75...  \n",
       "260      {'name': 'S. Murray', 'author_id': '47426998'}  \n",
       "271   {'name': 'Eleftherios Garyfallidis', 'author_i...  \n",
       "299   {'name': 'Coleman Krawczyk', 'author_id': '984...  \n",
       "320   {'name': 'Carlos H. Hernandez', 'author_id': '...  \n",
       "351       {'name': 'E. Dupre', 'author_id': '33660027'}  \n",
       "393     {'name': 'Eitan Lees', 'author_id': '40066914'}  \n",
       "419     {'name': 'A. Pizzuto', 'author_id': '77040484'}  \n",
       "442         {'name': 'W. Farr', 'author_id': '3305699'}  \n",
       "476   {'name': 'Jeremie Coullon', 'author_id': '1418...  \n",
       "481        {'name': 'Quay Au', 'author_id': '51306278'}  \n",
       "524   {'name': 'L. Teodori', 'author_id': '1478322572'}  \n",
       "554       {'name': 'E. Dupre', 'author_id': '33660027'}  \n",
       "592     {'name': 'Kyle Meyer', 'author_id': '46362843'}  \n",
       "604   {'name': 'Tobias Dwyer', 'author_id': '1447242...  \n",
       "622   {'name': 'Léo Dutriaux', 'author_id': '46734551'}  \n",
       "630     {'name': 'S. Girgin', 'author_id': '101605936'}  \n",
       "634   {'name': 'Jin-Guo Liu', 'author_id': '22538203...  \n",
       "687   {'name': 'Keichi Takahashi', 'author_id': '193...  \n",
       "728    {'name': 'R. Lovelace', 'author_id': '11788482'}  \n",
       "757    {'name': 'R. Lovelace', 'author_id': '11788482'}  \n",
       "778      {'name': 'S. Murray', 'author_id': '47426998'}  \n",
       "783   {'name': 'Rik Huijzer', 'author_id': '21620995...  \n",
       "788   {'name': 'Susanne Dandl', 'author_id': '148030...  \n",
       "792   {'name': 'Pablo Rodríguez-Sánchez', 'author_id...  \n",
       "795   {'name': 'Francisco J. Rodríguez-Sanchez', 'au...  \n",
       "811   {'name': 'P. Stocker', 'author_id': '2067428685'}  \n",
       "820    {'name': 'R. Lovelace', 'author_id': '11788482'}  \n",
       "843       {'name': 'Tin Lai', 'author_id': '121502726'}  \n",
       "844   {'name': 'Shana Scogin', 'author_id': '1396914...  \n",
       "846   {'name': 'Shana Scogin', 'author_id': '1396914...  \n",
       "863   {'name': 'Rush Kapoor', 'author_id': '21498598...  \n",
       "883       {'name': 'K. Burns', 'author_id': '31517157'}  \n",
       "885   {'name': 'B. S. Kaas-Hansen', 'author_id': '14...  \n",
       "886   {'name': 'Nicolas Casajus', 'author_id': '5153...  \n",
       "895      {'name': 'S. Murray', 'author_id': '47426998'}  \n",
       "906   {'name': 'Andreas Schneider', 'author_id': '22...  \n",
       "917     {'name': 'P. Lucas', 'author_id': '2056434717'}  \n",
       "921   {'name': 'Steven J. Kern', 'author_id': '42315...  \n",
       "922   {'name': 'Steven J. Kern', 'author_id': '42315...  \n",
       "924   {'name': 'H. Rossman', 'author_id': '1482559324'}  \n",
       "945   {'name': 'Christel Nguyen', 'author_id': '1443...  \n",
       "956   {'name': 'Parker Clayton', 'author_id': '13810...  \n",
       "969    {'name': 'D. Larremore', 'author_id': '2900564'}  \n",
       "980     {'name': 'Isaac Na', 'author_id': '2142953146'}  \n",
       "998   {'name': 'V. Krishnamani', 'author_id': '65976...  \n",
       "1004  {'name': 'J. Sutherland', 'author_id': '145234...  \n",
       "1008  {'name': 'Jan Drugowitsch', 'author_id': '2980...  \n",
       "1012     {'name': 'P. Varvia', 'author_id': '31255799'}  \n",
       "1014  {'name': 'Emerson Martins de Andrade', 'author...  \n",
       "1020      {'name': 'S. Archer', 'author_id': '3525784'}  \n",
       "1021   {'name': 'P. N. Sævik', 'author_id': '97690732'}  "
      ]
     },
     "execution_count": 8,
     "metadata": {},
     "output_type": "execute_result"
    }
   ],
   "source": [
    "repo_and_dev_author_comparisons.loc[\n",
    "    repo_and_dev_author_comparisons.predictions == \"match\"\n",
    "][[\"dev_details\", \"author_details\"]]"
   ]
  },
  {
   "cell_type": "code",
   "execution_count": null,
   "metadata": {},
   "outputs": [],
   "source": []
  }
 ],
 "metadata": {
  "kernelspec": {
   "display_name": "rs-graph",
   "language": "python",
   "name": "python3"
  },
  "language_info": {
   "codemirror_mode": {
    "name": "ipython",
    "version": 3
   },
   "file_extension": ".py",
   "mimetype": "text/x-python",
   "name": "python",
   "nbconvert_exporter": "python",
   "pygments_lexer": "ipython3",
   "version": "3.11.7"
  }
 },
 "nbformat": 4,
 "nbformat_minor": 2
}
