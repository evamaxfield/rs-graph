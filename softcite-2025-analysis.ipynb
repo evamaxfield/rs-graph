{
 "cells": [
  {
   "cell_type": "code",
   "execution_count": 1,
   "id": "17702d45",
   "metadata": {},
   "outputs": [],
   "source": [
    "import polars as pl\n",
    "from sklearn.metrics import classification_report, ConfusionMatrixDisplay\n",
    "\n",
    "annotated = pl.read_csv(\"annotated-softcite-2025.csv\")\n",
    "annotated = annotated.drop_nulls(subset=[\"label\"])\n",
    "purpose_assessments = pl.read_parquet(\"~/Downloads/softcite-extractions-oa-data/p05_five_percent_random_subset/purpose_assessments.pdf.parquet\")"
   ]
  },
  {
   "cell_type": "code",
   "execution_count": 2,
   "id": "7da0614a",
   "metadata": {},
   "outputs": [
    {
     "data": {
      "text/html": [
       "<div><style>\n",
       ".dataframe > thead > tr,\n",
       ".dataframe > tbody > tr {\n",
       "  text-align: right;\n",
       "  white-space: pre-wrap;\n",
       "}\n",
       "</style>\n",
       "<small>shape: (70, 5)</small><table border=\"1\" class=\"dataframe\"><thead><tr><th>software_mention_id</th><th>label</th><th>created</th><th>shared</th><th>used</th></tr><tr><td>str</td><td>str</td><td>f64</td><td>f64</td><td>f64</td></tr></thead><tbody><tr><td>&quot;124473.pdf.00020&quot;</td><td>&quot;yes&quot;</td><td>0.999936</td><td>0.993968</td><td>0.999996</td></tr><tr><td>&quot;241501.pdf.00047&quot;</td><td>&quot;yes&quot;</td><td>0.999401</td><td>0.988754</td><td>0.999674</td></tr><tr><td>&quot;345771.pdf.00001&quot;</td><td>&quot;yes&quot;</td><td>0.000323</td><td>0.98124</td><td>0.003668</td></tr><tr><td>&quot;458477.pdf.00042&quot;</td><td>&quot;yes&quot;</td><td>0.000265</td><td>0.938137</td><td>0.194205</td></tr><tr><td>&quot;1865285.pdf.00029&quot;</td><td>&quot;yes&quot;</td><td>0.000009</td><td>0.992065</td><td>0.000333</td></tr><tr><td>&hellip;</td><td>&hellip;</td><td>&hellip;</td><td>&hellip;</td><td>&hellip;</td></tr><tr><td>&quot;22586388.pdf.00006&quot;</td><td>&quot;no&quot;</td><td>0.999855</td><td>0.99385</td><td>0.630371</td></tr><tr><td>&quot;23227581.pdf.00010&quot;</td><td>&quot;yes&quot;</td><td>0.999906</td><td>0.883059</td><td>0.999991</td></tr><tr><td>&quot;23403915.pdf.00122&quot;</td><td>&quot;yes&quot;</td><td>0.20299</td><td>0.984028</td><td>0.989919</td></tr><tr><td>&quot;23495598.pdf.00037&quot;</td><td>&quot;yes&quot;</td><td>0.999865</td><td>0.992281</td><td>0.999996</td></tr><tr><td>&quot;23700030.pdf.00000&quot;</td><td>&quot;no&quot;</td><td>0.000623</td><td>0.509393</td><td>0.999952</td></tr></tbody></table></div>"
      ],
      "text/plain": [
       "shape: (70, 5)\n",
       "┌─────────────────────┬───────┬──────────┬──────────┬──────────┐\n",
       "│ software_mention_id ┆ label ┆ created  ┆ shared   ┆ used     │\n",
       "│ ---                 ┆ ---   ┆ ---      ┆ ---      ┆ ---      │\n",
       "│ str                 ┆ str   ┆ f64      ┆ f64      ┆ f64      │\n",
       "╞═════════════════════╪═══════╪══════════╪══════════╪══════════╡\n",
       "│ 124473.pdf.00020    ┆ yes   ┆ 0.999936 ┆ 0.993968 ┆ 0.999996 │\n",
       "│ 241501.pdf.00047    ┆ yes   ┆ 0.999401 ┆ 0.988754 ┆ 0.999674 │\n",
       "│ 345771.pdf.00001    ┆ yes   ┆ 0.000323 ┆ 0.98124  ┆ 0.003668 │\n",
       "│ 458477.pdf.00042    ┆ yes   ┆ 0.000265 ┆ 0.938137 ┆ 0.194205 │\n",
       "│ 1865285.pdf.00029   ┆ yes   ┆ 0.000009 ┆ 0.992065 ┆ 0.000333 │\n",
       "│ …                   ┆ …     ┆ …        ┆ …        ┆ …        │\n",
       "│ 22586388.pdf.00006  ┆ no    ┆ 0.999855 ┆ 0.99385  ┆ 0.630371 │\n",
       "│ 23227581.pdf.00010  ┆ yes   ┆ 0.999906 ┆ 0.883059 ┆ 0.999991 │\n",
       "│ 23403915.pdf.00122  ┆ yes   ┆ 0.20299  ┆ 0.984028 ┆ 0.989919 │\n",
       "│ 23495598.pdf.00037  ┆ yes   ┆ 0.999865 ┆ 0.992281 ┆ 0.999996 │\n",
       "│ 23700030.pdf.00000  ┆ no    ┆ 0.000623 ┆ 0.509393 ┆ 0.999952 │\n",
       "└─────────────────────┴───────┴──────────┴──────────┴──────────┘"
      ]
     },
     "execution_count": 2,
     "metadata": {},
     "output_type": "execute_result"
    }
   ],
   "source": [
    "purpose_with_label = purpose_assessments.with_columns(\n",
    "    pl.col(\"software_mention_id\").str.strip_chars().alias(\"software_mention_id\"),\n",
    ").filter(\n",
    "    pl.col(\"scope\") == \"document\",\n",
    "    pl.col(\"software_mention_id\").is_in(annotated[\"software_mention_id\"].to_list()),\n",
    ").join(\n",
    "    annotated.select(\n",
    "        \"software_mention_id\",\n",
    "        \"label\",\n",
    "    ),\n",
    "    on=\"software_mention_id\",\n",
    "    how=\"left\",\n",
    ").select(\n",
    "    \"software_mention_id\",\n",
    "    \"label\",\n",
    "    \"purpose\",\n",
    "    \"certainty_score\",\n",
    ").filter(\n",
    "    pl.col(\"label\").is_in([\"yes\", \"no\"])\n",
    ").pivot(\n",
    "    on=\"purpose\",\n",
    "    values=\"certainty_score\",\n",
    "    index=[\"software_mention_id\", \"label\"],\n",
    ")\n",
    "\n",
    "purpose_with_label"
   ]
  },
  {
   "cell_type": "code",
   "execution_count": 5,
   "id": "f03bede0",
   "metadata": {},
   "outputs": [
    {
     "name": "stdout",
     "output_type": "stream",
     "text": [
      "              precision    recall  f1-score   support\n",
      "\n",
      "         yes       0.31      0.76      0.44        21\n",
      "          no       0.72      0.27      0.39        49\n",
      "\n",
      "    accuracy                           0.41        70\n",
      "   macro avg       0.51      0.51      0.41        70\n",
      "weighted avg       0.60      0.41      0.40        70\n",
      "\n"
     ]
    },
    {
     "data": {
      "text/plain": [
       "<sklearn.metrics._plot.confusion_matrix.ConfusionMatrixDisplay at 0x173787b30>"
      ]
     },
     "execution_count": 5,
     "metadata": {},
     "output_type": "execute_result"
    },
    {
     "data": {
      "image/png": "[encoded data removed]",
      "text/plain": [
       "<Figure size 640x480 with 2 Axes>"
      ]
     },
     "metadata": {},
     "output_type": "display_data"
    }
   ],
   "source": [
    "heuristic_approach = purpose_with_label.with_columns(\n",
    "    pl.when(pl.col(\"created\") > 0.98)\n",
    "    .then(pl.lit(\"yes\"))\n",
    "    .otherwise(pl.lit(\"no\"))\n",
    "    .alias(\"predicted_label\")\n",
    ")\n",
    "\n",
    "print(classification_report(\n",
    "    y_true=heuristic_approach[\"predicted_label\"].to_list(),\n",
    "    y_pred=heuristic_approach[\"label\"].to_list(),\n",
    "    labels=[\"yes\", \"no\"],\n",
    "))\n",
    "\n",
    "ConfusionMatrixDisplay.from_predictions(\n",
    "    y_true=heuristic_approach[\"label\"].to_list(),\n",
    "    y_pred=heuristic_approach[\"predicted_label\"].to_list(),\n",
    "    labels=[\"yes\", \"no\"],\n",
    ")"
   ]
  },
  {
   "cell_type": "code",
   "execution_count": 6,
   "id": "3677cb4e",
   "metadata": {},
   "outputs": [
    {
     "data": {
      "text/html": [
       "<div><style>\n",
       ".dataframe > thead > tr,\n",
       ".dataframe > tbody > tr {\n",
       "  text-align: right;\n",
       "  white-space: pre-wrap;\n",
       "}\n",
       "</style>\n",
       "<small>shape: (9, 4)</small><table border=\"1\" class=\"dataframe\"><thead><tr><th>statistic</th><th>created</th><th>shared</th><th>used</th></tr><tr><td>str</td><td>f64</td><td>f64</td><td>f64</td></tr></thead><tbody><tr><td>&quot;count&quot;</td><td>36.0</td><td>36.0</td><td>36.0</td></tr><tr><td>&quot;null_count&quot;</td><td>0.0</td><td>0.0</td><td>0.0</td></tr><tr><td>&quot;mean&quot;</td><td>0.139724</td><td>0.865128</td><td>0.405914</td></tr><tr><td>&quot;std&quot;</td><td>0.276353</td><td>0.263377</td><td>0.456437</td></tr><tr><td>&quot;min&quot;</td><td>0.000009</td><td>0.000002</td><td>0.000052</td></tr><tr><td>&quot;25%&quot;</td><td>0.000143</td><td>0.920741</td><td>0.003668</td></tr><tr><td>&quot;50%&quot;</td><td>0.001198</td><td>0.974265</td><td>0.090296</td></tr><tr><td>&quot;75%&quot;</td><td>0.057657</td><td>0.990004</td><td>0.944114</td></tr><tr><td>&quot;max&quot;</td><td>0.962179</td><td>0.996246</td><td>0.999995</td></tr></tbody></table></div>"
      ],
      "text/plain": [
       "shape: (9, 4)\n",
       "┌────────────┬──────────┬──────────┬──────────┐\n",
       "│ statistic  ┆ created  ┆ shared   ┆ used     │\n",
       "│ ---        ┆ ---      ┆ ---      ┆ ---      │\n",
       "│ str        ┆ f64      ┆ f64      ┆ f64      │\n",
       "╞════════════╪══════════╪══════════╪══════════╡\n",
       "│ count      ┆ 36.0     ┆ 36.0     ┆ 36.0     │\n",
       "│ null_count ┆ 0.0      ┆ 0.0      ┆ 0.0      │\n",
       "│ mean       ┆ 0.139724 ┆ 0.865128 ┆ 0.405914 │\n",
       "│ std        ┆ 0.276353 ┆ 0.263377 ┆ 0.456437 │\n",
       "│ min        ┆ 0.000009 ┆ 0.000002 ┆ 0.000052 │\n",
       "│ 25%        ┆ 0.000143 ┆ 0.920741 ┆ 0.003668 │\n",
       "│ 50%        ┆ 0.001198 ┆ 0.974265 ┆ 0.090296 │\n",
       "│ 75%        ┆ 0.057657 ┆ 0.990004 ┆ 0.944114 │\n",
       "│ max        ┆ 0.962179 ┆ 0.996246 ┆ 0.999995 │\n",
       "└────────────┴──────────┴──────────┴──────────┘"
      ]
     },
     "execution_count": 6,
     "metadata": {},
     "output_type": "execute_result"
    }
   ],
   "source": [
    "heuristic_approach.filter(\n",
    "    pl.col(\"predicted_label\") == \"no\",\n",
    "    pl.col(\"label\") == \"yes\",\n",
    ").select(\n",
    "    \"created\",\n",
    "    \"shared\",\n",
    "    \"used\",\n",
    ").describe()"
   ]
  },
  {
   "cell_type": "code",
   "execution_count": null,
   "id": "15aa31c7",
   "metadata": {},
   "outputs": [],
   "source": [
    "# Train logit from sklearn for best\n",
    "from sklearn.linear_model import LogisticRegressionCV\n",
    "from sklearn.model_selection import train_test_split\n",
    "\n",
    "modeling_approach = purpose_with_label.with_columns(\n",
    "    (pl.col(\"used\") * pl.col(\"shared\")).alias(\"used_shared\"),\n",
    "    (pl.col(\"created\") * pl.col(\"shared\")).alias(\"created_shared\"),\n",
    "    (pl.col(\"used\") * pl.col(\"created\")).alias(\"used_created\"),\n",
    ")\n",
    "\n",
    "train_data, test_data = train_test_split(\n",
    "    modeling_approach.select(\n",
    "        \"shared\",\n",
    "        \"created\",\n",
    "        \"used\",\n",
    "        \"used_shared\",\n",
    "        \"created_shared\",\n",
    "        \"used_created\",\n",
    "        \"label\",\n",
    "    ),\n",
    "    test_size=0.2,\n",
    "    random_state=12,\n",
    "    stratify=modeling_approach[\"label\"].to_list(),\n",
    ")\n",
    "\n",
    "logit = LogisticRegressionCV(\n",
    "    max_iter=1000,\n",
    "    random_state=12,\n",
    "    # class_weight=\"balanced\",\n",
    "    fit_intercept=False,\n",
    ").fit(\n",
    "    train_data.select(\n",
    "        \"shared\",\n",
    "        \"created\",\n",
    "        \"used\",\n",
    "        \"used_shared\",\n",
    "        \"created_shared\",\n",
    "        \"used_created\",\n",
    "    ),\n",
    "    train_data[\"label\"].to_list(),\n",
    ")\n",
    "\n",
    "print(classification_report(\n",
    "    test_data[\"label\"].to_list(),\n",
    "    logit.predict(test_data.select(\n",
    "        \"shared\",\n",
    "        \"created\",\n",
    "        \"used\",\n",
    "        \"used_shared\",\n",
    "        \"created_shared\",\n",
    "        \"used_created\",\n",
    "    )),\n",
    "    labels=[\"yes\", \"no\"],\n",
    "))\n",
    "\n",
    "ConfusionMatrixDisplay.from_predictions(\n",
    "    test_data[\"label\"].to_list(),\n",
    "    logit.predict(test_data.select(\n",
    "        \"shared\",\n",
    "        \"created\",\n",
    "        \"used\",\n",
    "        \"used_shared\",\n",
    "        \"created_shared\",\n",
    "        \"used_created\",\n",
    "    )),\n",
    "    labels=[\"yes\", \"no\"],\n",
    ")"
   ]
  },
  {
   "cell_type": "code",
   "execution_count": null,
   "id": "bf190f48",
   "metadata": {},
   "outputs": [],
   "source": []
  }
 ],
 "metadata": {
  "kernelspec": {
   "display_name": "Python 3",
   "language": "python",
   "name": "python3"
  },
  "language_info": {
   "codemirror_mode": {
    "name": "ipython",
    "version": 3
   },
   "file_extension": ".py",
   "mimetype": "text/x-python",
   "name": "python",
   "nbconvert_exporter": "python",
   "pygments_lexer": "ipython3",
   "version": "3.12.11"
  }
 },
 "nbformat": 4,
 "nbformat_minor": 5
}
