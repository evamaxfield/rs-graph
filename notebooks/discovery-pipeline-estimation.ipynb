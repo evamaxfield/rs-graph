{
 "cells": [
  {
   "cell_type": "code",
   "execution_count": 1,
   "id": "1828ab1b",
   "metadata": {},
   "outputs": [
    {
     "data": {
      "text/html": [
       "<div><style>\n",
       ".dataframe > thead > tr,\n",
       ".dataframe > tbody > tr {\n",
       "  text-align: right;\n",
       "  white-space: pre-wrap;\n",
       "}\n",
       "</style>\n",
       "<small>shape: (2_995, 3)</small><table border=\"1\" class=\"dataframe\"><thead><tr><th>article_repo_timedelta_allowance</th><th>total_pair_combinations</th><th>possible_pairs_given_filter</th></tr><tr><td>str</td><td>i64</td><td>i64</td></tr></thead><tbody><tr><td>&quot;1 year&quot;</td><td>10800</td><td>1453</td></tr><tr><td>&quot;1 year&quot;</td><td>16</td><td>0</td></tr><tr><td>&quot;1 year&quot;</td><td>4326</td><td>294</td></tr><tr><td>&quot;1 year&quot;</td><td>85</td><td>33</td></tr><tr><td>&quot;1 year&quot;</td><td>64</td><td>10</td></tr><tr><td>&hellip;</td><td>&hellip;</td><td>&hellip;</td></tr><tr><td>&quot;5 years&quot;</td><td>6</td><td>4</td></tr><tr><td>&quot;5 years&quot;</td><td>4428</td><td>2912</td></tr><tr><td>&quot;5 years&quot;</td><td>0</td><td>0</td></tr><tr><td>&quot;5 years&quot;</td><td>294</td><td>241</td></tr><tr><td>&quot;5 years&quot;</td><td>572</td><td>362</td></tr></tbody></table></div>"
      ],
      "text/plain": [
       "shape: (2_995, 3)\n",
       "┌─────────────────────────────────┬─────────────────────────┬─────────────────────────────┐\n",
       "│ article_repo_timedelta_allowan… ┆ total_pair_combinations ┆ possible_pairs_given_filter │\n",
       "│ ---                             ┆ ---                     ┆ ---                         │\n",
       "│ str                             ┆ i64                     ┆ i64                         │\n",
       "╞═════════════════════════════════╪═════════════════════════╪═════════════════════════════╡\n",
       "│ 1 year                          ┆ 10800                   ┆ 1453                        │\n",
       "│ 1 year                          ┆ 16                      ┆ 0                           │\n",
       "│ 1 year                          ┆ 4326                    ┆ 294                         │\n",
       "│ 1 year                          ┆ 85                      ┆ 33                          │\n",
       "│ 1 year                          ┆ 64                      ┆ 10                          │\n",
       "│ …                               ┆ …                       ┆ …                           │\n",
       "│ 5 years                         ┆ 6                       ┆ 4                           │\n",
       "│ 5 years                         ┆ 4428                    ┆ 2912                        │\n",
       "│ 5 years                         ┆ 0                       ┆ 0                           │\n",
       "│ 5 years                         ┆ 294                     ┆ 241                         │\n",
       "│ 5 years                         ┆ 572                     ┆ 362                         │\n",
       "└─────────────────────────────────┴─────────────────────────┴─────────────────────────────┘"
      ]
     },
     "execution_count": 1,
     "metadata": {},
     "output_type": "execute_result"
    }
   ],
   "source": [
    "import polars as pl\n",
    "\n",
    "estimates = pl.read_parquet(\"author-developer-discovery-estimates/\")\n",
    "estimates"
   ]
  },
  {
   "cell_type": "code",
   "execution_count": 2,
   "id": "2451a7de",
   "metadata": {},
   "outputs": [
    {
     "data": {
      "text/html": [
       "<div><style>\n",
       ".dataframe > thead > tr,\n",
       ".dataframe > tbody > tr {\n",
       "  text-align: right;\n",
       "  white-space: pre-wrap;\n",
       "}\n",
       "</style>\n",
       "<small>shape: (6, 7)</small><table border=\"1\" class=\"dataframe\"><thead><tr><th>article_repo_timedelta_allowance</th><th>mean_possible_pairs_given_filter</th><th>std_possible_pairs_given_filter</th><th>median_possible_pairs_given_filter</th><th>mean_pair_reduction</th><th>std_pair_reduction</th><th>median_pair_reduction</th></tr><tr><td>str</td><td>f64</td><td>f64</td><td>f64</td><td>f64</td><td>f64</td><td>f64</td></tr></thead><tbody><tr><td>&quot;180 days&quot;</td><td>404.290581</td><td>1759.362339</td><td>75.0</td><td>0.124123</td><td>0.140653</td><td>0.089649</td></tr><tr><td>&quot;1 year&quot;</td><td>808.654618</td><td>3448.479735</td><td>150.0</td><td>0.212692</td><td>0.150461</td><td>0.180374</td></tr><tr><td>&quot;2 years&quot;</td><td>1545.967871</td><td>6646.029118</td><td>304.5</td><td>0.377723</td><td>0.18085</td><td>0.34472</td></tr><tr><td>&quot;3 years&quot;</td><td>2226.64</td><td>9635.312405</td><td>439.5</td><td>0.523464</td><td>0.198011</td><td>0.495882</td></tr><tr><td>&quot;4 years&quot;</td><td>2828.85</td><td>12514.966314</td><td>554.5</td><td>0.63967</td><td>0.201813</td><td>0.635308</td></tr><tr><td>&quot;5 years&quot;</td><td>3349.812</td><td>15149.035802</td><td>649.0</td><td>0.72727</td><td>0.192802</td><td>0.739393</td></tr></tbody></table></div>"
      ],
      "text/plain": [
       "shape: (6, 7)\n",
       "┌──────────────┬─────────────┬─────────────┬─────────────┬─────────────┬─────────────┬─────────────┐\n",
       "│ article_repo ┆ mean_possib ┆ std_possibl ┆ median_poss ┆ mean_pair_r ┆ std_pair_re ┆ median_pair │\n",
       "│ _timedelta_a ┆ le_pairs_gi ┆ e_pairs_giv ┆ ible_pairs_ ┆ eduction    ┆ duction     ┆ _reduction  │\n",
       "│ llowan…      ┆ ven_filt…   ┆ en_filte…   ┆ given_fi…   ┆ ---         ┆ ---         ┆ ---         │\n",
       "│ ---          ┆ ---         ┆ ---         ┆ ---         ┆ f64         ┆ f64         ┆ f64         │\n",
       "│ str          ┆ f64         ┆ f64         ┆ f64         ┆             ┆             ┆             │\n",
       "╞══════════════╪═════════════╪═════════════╪═════════════╪═════════════╪═════════════╪═════════════╡\n",
       "│ 180 days     ┆ 404.290581  ┆ 1759.362339 ┆ 75.0        ┆ 0.124123    ┆ 0.140653    ┆ 0.089649    │\n",
       "│ 1 year       ┆ 808.654618  ┆ 3448.479735 ┆ 150.0       ┆ 0.212692    ┆ 0.150461    ┆ 0.180374    │\n",
       "│ 2 years      ┆ 1545.967871 ┆ 6646.029118 ┆ 304.5       ┆ 0.377723    ┆ 0.18085     ┆ 0.34472     │\n",
       "│ 3 years      ┆ 2226.64     ┆ 9635.312405 ┆ 439.5       ┆ 0.523464    ┆ 0.198011    ┆ 0.495882    │\n",
       "│ 4 years      ┆ 2828.85     ┆ 12514.96631 ┆ 554.5       ┆ 0.63967     ┆ 0.201813    ┆ 0.635308    │\n",
       "│              ┆             ┆ 4           ┆             ┆             ┆             ┆             │\n",
       "│ 5 years      ┆ 3349.812    ┆ 15149.03580 ┆ 649.0       ┆ 0.72727     ┆ 0.192802    ┆ 0.739393    │\n",
       "│              ┆             ┆ 2           ┆             ┆             ┆             ┆             │\n",
       "└──────────────┴─────────────┴─────────────┴─────────────┴─────────────┴─────────────┴─────────────┘"
      ]
     },
     "execution_count": 2,
     "metadata": {},
     "output_type": "execute_result"
    }
   ],
   "source": [
    "averages = estimates.with_columns(\n",
    "    (\n",
    "        (pl.col(\"possible_pairs_given_filter\") + pl.lit(1))\n",
    "        / (pl.col(\"total_pair_combinations\") + pl.lit(1))\n",
    "    ).alias(\"pair_reduction\")\n",
    ").group_by(\"article_repo_timedelta_allowance\").agg(\n",
    "    pl.col(\"possible_pairs_given_filter\").mean().alias(\"mean_possible_pairs_given_filter\"),\n",
    "    pl.col(\"possible_pairs_given_filter\").std().alias(\"std_possible_pairs_given_filter\"),\n",
    "    pl.col(\"possible_pairs_given_filter\").median().alias(\"median_possible_pairs_given_filter\"),\n",
    "    pl.col(\"pair_reduction\").mean().alias(\"mean_pair_reduction\"),\n",
    "    pl.col(\"pair_reduction\").std().alias(\"std_pair_reduction\"),\n",
    "    pl.col(\"pair_reduction\").median().alias(\"median_pair_reduction\"),\n",
    ").sort(\"mean_pair_reduction\", descending=False)\n",
    "\n",
    "averages"
   ]
  },
  {
   "cell_type": "code",
   "execution_count": 3,
   "id": "046edeba",
   "metadata": {},
   "outputs": [
    {
     "data": {
      "text/html": [
       "<div><style>\n",
       ".dataframe > thead > tr,\n",
       ".dataframe > tbody > tr {\n",
       "  text-align: right;\n",
       "  white-space: pre-wrap;\n",
       "}\n",
       "</style>\n",
       "<small>shape: (6, 17)</small><table border=\"1\" class=\"dataframe\"><thead><tr><th>article_repo_timedelta_allowance</th><th>mean_possible_pairs_given_filter</th><th>std_possible_pairs_given_filter</th><th>median_possible_pairs_given_filter</th><th>mean_pair_reduction</th><th>std_pair_reduction</th><th>median_pair_reduction</th><th>mean_conservative_time_estimate_seconds</th><th>median_conservative_time_estimate_seconds</th><th>mean_conservative_time_estimate_minutes</th><th>median_conservative_time_estimate_minutes</th><th>mean_total_time_estimate_minutes</th><th>median_total_time_estimate_minutes</th><th>mean_total_time_estimate_hours</th><th>median_total_time_estimate_hours</th><th>mean_total_time_estimate_days</th><th>median_total_time_estimate_days</th></tr><tr><td>str</td><td>f64</td><td>f64</td><td>f64</td><td>f64</td><td>f64</td><td>f64</td><td>f64</td><td>f64</td><td>f64</td><td>f64</td><td>f64</td><td>f64</td><td>f64</td><td>f64</td><td>f64</td><td>f64</td></tr></thead><tbody><tr><td>&quot;180 days&quot;</td><td>404.290581</td><td>1759.362339</td><td>75.0</td><td>0.124123</td><td>0.140653</td><td>0.089649</td><td>323.432465</td><td>60.0</td><td>5.390541</td><td>1.0</td><td>646864.92986</td><td>120000.0</td><td>10781.082164</td><td>2000.0</td><td>449.211757</td><td>83.333333</td></tr><tr><td>&quot;1 year&quot;</td><td>808.654618</td><td>3448.479735</td><td>150.0</td><td>0.212692</td><td>0.150461</td><td>0.180374</td><td>646.923695</td><td>120.0</td><td>10.782062</td><td>2.0</td><td>1.2938e6</td><td>240000.0</td><td>21564.123159</td><td>4000.0</td><td>898.505132</td><td>166.666667</td></tr><tr><td>&quot;2 years&quot;</td><td>1545.967871</td><td>6646.029118</td><td>304.5</td><td>0.377723</td><td>0.18085</td><td>0.34472</td><td>1236.774297</td><td>243.6</td><td>20.612905</td><td>4.06</td><td>2.4735e6</td><td>487200.0</td><td>41225.809906</td><td>8120.0</td><td>1717.742079</td><td>338.333333</td></tr><tr><td>&quot;3 years&quot;</td><td>2226.64</td><td>9635.312405</td><td>439.5</td><td>0.523464</td><td>0.198011</td><td>0.495882</td><td>1781.312</td><td>351.6</td><td>29.688533</td><td>5.86</td><td>3.5626e6</td><td>703200.0</td><td>59377.066667</td><td>11720.0</td><td>2474.044444</td><td>488.333333</td></tr><tr><td>&quot;4 years&quot;</td><td>2828.85</td><td>12514.966314</td><td>554.5</td><td>0.63967</td><td>0.201813</td><td>0.635308</td><td>2263.08</td><td>443.6</td><td>37.718</td><td>7.393333</td><td>4.52616e6</td><td>887200.0</td><td>75436.0</td><td>14786.666667</td><td>3143.166667</td><td>616.111111</td></tr><tr><td>&quot;5 years&quot;</td><td>3349.812</td><td>15149.035802</td><td>649.0</td><td>0.72727</td><td>0.192802</td><td>0.739393</td><td>2679.8496</td><td>519.2</td><td>44.66416</td><td>8.653333</td><td>5.3597e6</td><td>1.0384e6</td><td>89328.32</td><td>17306.666667</td><td>3722.013333</td><td>721.111111</td></tr></tbody></table></div>"
      ],
      "text/plain": [
       "shape: (6, 17)\n",
       "┌───────────┬───────────┬───────────┬───────────┬───┬───────────┬───────────┬───────────┬──────────┐\n",
       "│ article_r ┆ mean_poss ┆ std_possi ┆ median_po ┆ … ┆ mean_tota ┆ median_to ┆ mean_tota ┆ median_t │\n",
       "│ epo_timed ┆ ible_pair ┆ ble_pairs ┆ ssible_pa ┆   ┆ l_time_es ┆ tal_time_ ┆ l_time_es ┆ otal_tim │\n",
       "│ elta_allo ┆ s_given_f ┆ _given_fi ┆ irs_given ┆   ┆ timate_ho ┆ estimate_ ┆ timate_da ┆ e_estima │\n",
       "│ wan…      ┆ ilt…      ┆ lte…      ┆ _fi…      ┆   ┆ urs       ┆ hou…      ┆ ys        ┆ te_day…  │\n",
       "│ ---       ┆ ---       ┆ ---       ┆ ---       ┆   ┆ ---       ┆ ---       ┆ ---       ┆ ---      │\n",
       "│ str       ┆ f64       ┆ f64       ┆ f64       ┆   ┆ f64       ┆ f64       ┆ f64       ┆ f64      │\n",
       "╞═══════════╪═══════════╪═══════════╪═══════════╪═══╪═══════════╪═══════════╪═══════════╪══════════╡\n",
       "│ 180 days  ┆ 404.29058 ┆ 1759.3623 ┆ 75.0      ┆ … ┆ 10781.082 ┆ 2000.0    ┆ 449.21175 ┆ 83.33333 │\n",
       "│           ┆ 1         ┆ 39        ┆           ┆   ┆ 164       ┆           ┆ 7         ┆ 3        │\n",
       "│ 1 year    ┆ 808.65461 ┆ 3448.4797 ┆ 150.0     ┆ … ┆ 21564.123 ┆ 4000.0    ┆ 898.50513 ┆ 166.6666 │\n",
       "│           ┆ 8         ┆ 35        ┆           ┆   ┆ 159       ┆           ┆ 2         ┆ 67       │\n",
       "│ 2 years   ┆ 1545.9678 ┆ 6646.0291 ┆ 304.5     ┆ … ┆ 41225.809 ┆ 8120.0    ┆ 1717.7420 ┆ 338.3333 │\n",
       "│           ┆ 71        ┆ 18        ┆           ┆   ┆ 906       ┆           ┆ 79        ┆ 33       │\n",
       "│ 3 years   ┆ 2226.64   ┆ 9635.3124 ┆ 439.5     ┆ … ┆ 59377.066 ┆ 11720.0   ┆ 2474.0444 ┆ 488.3333 │\n",
       "│           ┆           ┆ 05        ┆           ┆   ┆ 667       ┆           ┆ 44        ┆ 33       │\n",
       "│ 4 years   ┆ 2828.85   ┆ 12514.966 ┆ 554.5     ┆ … ┆ 75436.0   ┆ 14786.666 ┆ 3143.1666 ┆ 616.1111 │\n",
       "│           ┆           ┆ 314       ┆           ┆   ┆           ┆ 667       ┆ 67        ┆ 11       │\n",
       "│ 5 years   ┆ 3349.812  ┆ 15149.035 ┆ 649.0     ┆ … ┆ 89328.32  ┆ 17306.666 ┆ 3722.0133 ┆ 721.1111 │\n",
       "│           ┆           ┆ 802       ┆           ┆   ┆           ┆ 667       ┆ 33        ┆ 11       │\n",
       "└───────────┴───────────┴───────────┴───────────┴───┴───────────┴───────────┴───────────┴──────────┘"
      ]
     },
     "execution_count": 3,
     "metadata": {},
     "output_type": "execute_result"
    }
   ],
   "source": [
    "# For each possible pair, you need:\n",
    "# one GitHub API call per contributor (on average lets say there is 2 contributors per article)\n",
    "# one GitHub API call to get the README\n",
    "# one GitHub API call to get the repository tree\n",
    "# one GitHub API call to get the commits count\n",
    "# one GitHub API call to get repository languages (actually ignore this, we only need it for successful pairs)\n",
    "# one SemanticScholar API call to get the updated metadata (actually ignore this, we don't need it at all)\n",
    "# one OpenAlex API call per author (on average lets say there is 5 authors per article) (actually ignore this, we only need it for successful pairs)\n",
    "\n",
    "# each GitHub API call costs 0.9 seconds\n",
    "# each SemanticScholar API call costs 0.1 seconds\n",
    "# each OpenAlex API call costs 0.6 seconds\n",
    "\n",
    "# so for each pair we have:\n",
    "# total number of GitHub API calls = 5\n",
    "# total number of SemanticScholar API calls = 0\n",
    "# total number of OpenAlex API calls = 0\n",
    "conservative_time_estimate_per_pair = (\n",
    "    (5 * 0.9) + (0 * 0.1) + (0 * 0.6)\n",
    ")\n",
    "\n",
    "# Lets add a second to the conservative time estimate to account for the predictive model usage\n",
    "conservative_time_estimate_per_pair += 0.3\n",
    "\n",
    "# However, we run a lot of this in parallel, so we can assume that we can do ~6 article-repository pairs per second\n",
    "# This means that the conservative time estimate per pair is actually:\n",
    "# This number is highly dependent on the number of GitHub API keys we have access to\n",
    "conservative_time_estimate_per_pair /= 6\n",
    "\n",
    "# Add a column with the conservative time estimate per pair\n",
    "averages = averages.with_columns(\n",
    "    (\n",
    "        pl.lit(conservative_time_estimate_per_pair)\n",
    "        * pl.col(\"mean_possible_pairs_given_filter\")\n",
    "    ).alias(\"mean_conservative_time_estimate_seconds\"),\n",
    "    (\n",
    "        pl.lit(conservative_time_estimate_per_pair)\n",
    "        * pl.col(\"median_possible_pairs_given_filter\")\n",
    "    ).alias(\"median_conservative_time_estimate_seconds\"),\n",
    ")\n",
    "\n",
    "# This is all per-author-developer pair\n",
    "# Let's get this in minutes\n",
    "averages = averages.with_columns(\n",
    "    (\n",
    "        pl.col(\"mean_conservative_time_estimate_seconds\") / 60\n",
    "    ).alias(\"mean_conservative_time_estimate_minutes\"),\n",
    "    (\n",
    "        pl.col(\"median_conservative_time_estimate_seconds\") / 60\n",
    "    ).alias(\"median_conservative_time_estimate_minutes\"),\n",
    ")\n",
    "\n",
    "# Finally, multiple these estimates by the number of author-developer pairs\n",
    "averages = averages.with_columns(\n",
    "    (\n",
    "        pl.lit(120_000)\n",
    "        * pl.col(\"mean_conservative_time_estimate_minutes\")\n",
    "    ).alias(\"mean_total_time_estimate_minutes\"),\n",
    "    (\n",
    "        pl.lit(120_000)\n",
    "        * pl.col(\"median_conservative_time_estimate_minutes\")\n",
    "    ).alias(\"median_total_time_estimate_minutes\"),\n",
    ")\n",
    "\n",
    "# Divide by 60 to get hours\n",
    "averages = averages.with_columns(\n",
    "    (\n",
    "        pl.col(\"mean_total_time_estimate_minutes\") / 60\n",
    "    ).alias(\"mean_total_time_estimate_hours\"),\n",
    "    (\n",
    "        pl.col(\"median_total_time_estimate_minutes\") / 60\n",
    "    ).alias(\"median_total_time_estimate_hours\"),\n",
    ")\n",
    "\n",
    "# Divide by 24 to get days\n",
    "averages = averages.with_columns(\n",
    "    (pl.col(\"mean_total_time_estimate_hours\") / 24).alias(\"mean_total_time_estimate_days\"),\n",
    "    (pl.col(\"median_total_time_estimate_hours\") / 24).alias(\"median_total_time_estimate_days\"),\n",
    ")\n",
    "\n",
    "averages"
   ]
  }
 ],
 "metadata": {
  "kernelspec": {
   "display_name": "rs-graph",
   "language": "python",
   "name": "python3"
  },
  "language_info": {
   "codemirror_mode": {
    "name": "ipython",
    "version": 3
   },
   "file_extension": ".py",
   "mimetype": "text/x-python",
   "name": "python",
   "nbconvert_exporter": "python",
   "pygments_lexer": "ipython3",
   "version": "3.12.11"
  }
 },
 "nbformat": 4,
 "nbformat_minor": 5
}
