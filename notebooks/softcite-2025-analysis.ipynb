{
 "cells": [
  {
   "cell_type": "code",
   "execution_count": 1,
   "id": "17702d45",
   "metadata": {},
   "outputs": [],
   "source": [
    "import polars as pl\n",
    "from sklearn.linear_model import LogisticRegressionCV\n",
    "from sklearn.metrics import ConfusionMatrixDisplay, classification_report\n",
    "from sklearn.model_selection import train_test_split\n",
    "\n",
    "from rs_graph.sources.softcite_2025 import SOFTCITE_ANNOTATED_PATH\n",
    "\n",
    "annotated = pl.read_csv(SOFTCITE_ANNOTATED_PATH)\n",
    "annotated = annotated.drop_nulls(subset=[\"label\"])\n",
    "purpose_assessments = pl.read_parquet(\n",
    "    \"~/Downloads/softcite-extractions-oa-data/p05_five_percent_random_subset/purpose_assessments.pdf.parquet\"\n",
    ")"
   ]
  },
  {
   "cell_type": "code",
   "execution_count": 2,
   "id": "7da0614a",
   "metadata": {},
   "outputs": [
    {
     "data": {
      "text/html": [
       "<div><style>\n",
       ".dataframe > thead > tr,\n",
       ".dataframe > tbody > tr {\n",
       "  text-align: right;\n",
       "  white-space: pre-wrap;\n",
       "}\n",
       "</style>\n",
       "<small>shape: (146, 5)</small><table border=\"1\" class=\"dataframe\"><thead><tr><th>software_mention_id</th><th>label</th><th>created</th><th>shared</th><th>used</th></tr><tr><td>str</td><td>str</td><td>f64</td><td>f64</td><td>f64</td></tr></thead><tbody><tr><td>&quot;124473.pdf.00020&quot;</td><td>&quot;yes&quot;</td><td>0.999936</td><td>0.993968</td><td>0.999996</td></tr><tr><td>&quot;241501.pdf.00047&quot;</td><td>&quot;yes&quot;</td><td>0.999401</td><td>0.988754</td><td>0.999674</td></tr><tr><td>&quot;306099.pdf.00049&quot;</td><td>&quot;yes&quot;</td><td>0.999588</td><td>0.962104</td><td>0.996425</td></tr><tr><td>&quot;345771.pdf.00001&quot;</td><td>&quot;yes&quot;</td><td>0.000323</td><td>0.98124</td><td>0.003668</td></tr><tr><td>&quot;361382.pdf.00047&quot;</td><td>&quot;yes&quot;</td><td>0.013075</td><td>0.983392</td><td>0.120797</td></tr><tr><td>&hellip;</td><td>&hellip;</td><td>&hellip;</td><td>&hellip;</td><td>&hellip;</td></tr><tr><td>&quot;23403915.pdf.00122&quot;</td><td>&quot;yes&quot;</td><td>0.20299</td><td>0.984028</td><td>0.989919</td></tr><tr><td>&quot;23495598.pdf.00037&quot;</td><td>&quot;yes&quot;</td><td>0.999865</td><td>0.992281</td><td>0.999996</td></tr><tr><td>&quot;23615118.pdf.00014&quot;</td><td>&quot;yes&quot;</td><td>0.000015</td><td>0.977074</td><td>0.000432</td></tr><tr><td>&quot;23687571.pdf.00007&quot;</td><td>&quot;yes&quot;</td><td>0.000124</td><td>0.755655</td><td>0.998306</td></tr><tr><td>&quot;23700030.pdf.00000&quot;</td><td>&quot;no&quot;</td><td>0.000623</td><td>0.509393</td><td>0.999952</td></tr></tbody></table></div>"
      ],
      "text/plain": [
       "shape: (146, 5)\n",
       "┌─────────────────────┬───────┬──────────┬──────────┬──────────┐\n",
       "│ software_mention_id ┆ label ┆ created  ┆ shared   ┆ used     │\n",
       "│ ---                 ┆ ---   ┆ ---      ┆ ---      ┆ ---      │\n",
       "│ str                 ┆ str   ┆ f64      ┆ f64      ┆ f64      │\n",
       "╞═════════════════════╪═══════╪══════════╪══════════╪══════════╡\n",
       "│ 124473.pdf.00020    ┆ yes   ┆ 0.999936 ┆ 0.993968 ┆ 0.999996 │\n",
       "│ 241501.pdf.00047    ┆ yes   ┆ 0.999401 ┆ 0.988754 ┆ 0.999674 │\n",
       "│ 306099.pdf.00049    ┆ yes   ┆ 0.999588 ┆ 0.962104 ┆ 0.996425 │\n",
       "│ 345771.pdf.00001    ┆ yes   ┆ 0.000323 ┆ 0.98124  ┆ 0.003668 │\n",
       "│ 361382.pdf.00047    ┆ yes   ┆ 0.013075 ┆ 0.983392 ┆ 0.120797 │\n",
       "│ …                   ┆ …     ┆ …        ┆ …        ┆ …        │\n",
       "│ 23403915.pdf.00122  ┆ yes   ┆ 0.20299  ┆ 0.984028 ┆ 0.989919 │\n",
       "│ 23495598.pdf.00037  ┆ yes   ┆ 0.999865 ┆ 0.992281 ┆ 0.999996 │\n",
       "│ 23615118.pdf.00014  ┆ yes   ┆ 0.000015 ┆ 0.977074 ┆ 0.000432 │\n",
       "│ 23687571.pdf.00007  ┆ yes   ┆ 0.000124 ┆ 0.755655 ┆ 0.998306 │\n",
       "│ 23700030.pdf.00000  ┆ no    ┆ 0.000623 ┆ 0.509393 ┆ 0.999952 │\n",
       "└─────────────────────┴───────┴──────────┴──────────┴──────────┘"
      ]
     },
     "execution_count": 2,
     "metadata": {},
     "output_type": "execute_result"
    }
   ],
   "source": [
    "purpose_with_label = (\n",
    "    purpose_assessments.with_columns(\n",
    "        pl.col(\"software_mention_id\").str.strip_chars().alias(\"software_mention_id\"),\n",
    "    )\n",
    "    .filter(\n",
    "        pl.col(\"scope\") == \"document\",\n",
    "        pl.col(\"software_mention_id\").is_in(annotated[\"software_mention_id\"].to_list()),\n",
    "    )\n",
    "    .join(\n",
    "        annotated.select(\n",
    "            \"software_mention_id\",\n",
    "            \"label\",\n",
    "        ),\n",
    "        on=\"software_mention_id\",\n",
    "        how=\"left\",\n",
    "    )\n",
    "    .select(\n",
    "        \"software_mention_id\",\n",
    "        \"label\",\n",
    "        \"purpose\",\n",
    "        \"certainty_score\",\n",
    "    )\n",
    "    .filter(pl.col(\"label\").is_in([\"yes\", \"no\"]))\n",
    "    .pivot(\n",
    "        on=\"purpose\",\n",
    "        values=\"certainty_score\",\n",
    "        index=[\"software_mention_id\", \"label\"],\n",
    "    )\n",
    ")\n",
    "\n",
    "purpose_with_label"
   ]
  },
  {
   "cell_type": "code",
   "execution_count": 3,
   "id": "f03bede0",
   "metadata": {},
   "outputs": [
    {
     "name": "stdout",
     "output_type": "stream",
     "text": [
      "              precision    recall  f1-score   support\n",
      "\n",
      "         yes       0.27      0.83      0.40        36\n",
      "          no       0.82      0.25      0.38       110\n",
      "\n",
      "    accuracy                           0.39       146\n",
      "   macro avg       0.54      0.54      0.39       146\n",
      "weighted avg       0.68      0.39      0.38       146\n",
      "\n"
     ]
    },
    {
     "data": {
      "text/plain": [
       "<sklearn.metrics._plot.confusion_matrix.ConfusionMatrixDisplay at 0x1054b7bf0>"
      ]
     },
     "execution_count": 3,
     "metadata": {},
     "output_type": "execute_result"
    },
    {
     "data": {
      "image/png": "[encoded data removed]",
      "text/plain": [
       "<Figure size 640x480 with 2 Axes>"
      ]
     },
     "metadata": {},
     "output_type": "display_data"
    }
   ],
   "source": [
    "heuristic_approach = purpose_with_label.with_columns(\n",
    "    pl.when(pl.col(\"created\") > 0.98)\n",
    "    .then(pl.lit(\"yes\"))\n",
    "    .otherwise(pl.lit(\"no\"))\n",
    "    .alias(\"predicted_label\")\n",
    ")\n",
    "\n",
    "print(\n",
    "    classification_report(\n",
    "        y_true=heuristic_approach[\"predicted_label\"].to_list(),\n",
    "        y_pred=heuristic_approach[\"label\"].to_list(),\n",
    "        labels=[\"yes\", \"no\"],\n",
    "    )\n",
    ")\n",
    "\n",
    "ConfusionMatrixDisplay.from_predictions(\n",
    "    y_true=heuristic_approach[\"label\"].to_list(),\n",
    "    y_pred=heuristic_approach[\"predicted_label\"].to_list(),\n",
    "    labels=[\"yes\", \"no\"],\n",
    ")"
   ]
  },
  {
   "cell_type": "code",
   "execution_count": 4,
   "id": "3677cb4e",
   "metadata": {},
   "outputs": [
    {
     "data": {
      "text/html": [
       "<div><style>\n",
       ".dataframe > thead > tr,\n",
       ".dataframe > tbody > tr {\n",
       "  text-align: right;\n",
       "  white-space: pre-wrap;\n",
       "}\n",
       "</style>\n",
       "<small>shape: (9, 4)</small><table border=\"1\" class=\"dataframe\"><thead><tr><th>statistic</th><th>created</th><th>shared</th><th>used</th></tr><tr><td>str</td><td>f64</td><td>f64</td><td>f64</td></tr></thead><tbody><tr><td>&quot;count&quot;</td><td>83.0</td><td>83.0</td><td>83.0</td></tr><tr><td>&quot;null_count&quot;</td><td>0.0</td><td>0.0</td><td>0.0</td></tr><tr><td>&quot;mean&quot;</td><td>0.092802</td><td>0.885291</td><td>0.394784</td></tr><tr><td>&quot;std&quot;</td><td>0.24227</td><td>0.233536</td><td>0.448129</td></tr><tr><td>&quot;min&quot;</td><td>0.000009</td><td>3.5763e-7</td><td>0.000052</td></tr><tr><td>&quot;25%&quot;</td><td>0.000081</td><td>0.920741</td><td>0.002286</td></tr><tr><td>&quot;50%&quot;</td><td>0.000336</td><td>0.977472</td><td>0.090296</td></tr><tr><td>&quot;75%&quot;</td><td>0.009785</td><td>0.991079</td><td>0.989919</td></tr><tr><td>&quot;max&quot;</td><td>0.962179</td><td>0.996246</td><td>0.999995</td></tr></tbody></table></div>"
      ],
      "text/plain": [
       "shape: (9, 4)\n",
       "┌────────────┬──────────┬───────────┬──────────┐\n",
       "│ statistic  ┆ created  ┆ shared    ┆ used     │\n",
       "│ ---        ┆ ---      ┆ ---       ┆ ---      │\n",
       "│ str        ┆ f64      ┆ f64       ┆ f64      │\n",
       "╞════════════╪══════════╪═══════════╪══════════╡\n",
       "│ count      ┆ 83.0     ┆ 83.0      ┆ 83.0     │\n",
       "│ null_count ┆ 0.0      ┆ 0.0       ┆ 0.0      │\n",
       "│ mean       ┆ 0.092802 ┆ 0.885291  ┆ 0.394784 │\n",
       "│ std        ┆ 0.24227  ┆ 0.233536  ┆ 0.448129 │\n",
       "│ min        ┆ 0.000009 ┆ 3.5763e-7 ┆ 0.000052 │\n",
       "│ 25%        ┆ 0.000081 ┆ 0.920741  ┆ 0.002286 │\n",
       "│ 50%        ┆ 0.000336 ┆ 0.977472  ┆ 0.090296 │\n",
       "│ 75%        ┆ 0.009785 ┆ 0.991079  ┆ 0.989919 │\n",
       "│ max        ┆ 0.962179 ┆ 0.996246  ┆ 0.999995 │\n",
       "└────────────┴──────────┴───────────┴──────────┘"
      ]
     },
     "execution_count": 4,
     "metadata": {},
     "output_type": "execute_result"
    }
   ],
   "source": [
    "heuristic_approach.filter(\n",
    "    pl.col(\"predicted_label\") == \"no\",\n",
    "    pl.col(\"label\") == \"yes\",\n",
    ").select(\n",
    "    \"created\",\n",
    "    \"shared\",\n",
    "    \"used\",\n",
    ").describe()"
   ]
  },
  {
   "cell_type": "code",
   "execution_count": 5,
   "id": "15aa31c7",
   "metadata": {},
   "outputs": [
    {
     "name": "stdout",
     "output_type": "stream",
     "text": [
      "              precision    recall  f1-score   support\n",
      "\n",
      "         yes       0.93      0.61      0.74        23\n",
      "          no       0.40      0.86      0.55         7\n",
      "\n",
      "    accuracy                           0.67        30\n",
      "   macro avg       0.67      0.73      0.64        30\n",
      "weighted avg       0.81      0.67      0.69        30\n",
      "\n"
     ]
    },
    {
     "data": {
      "text/plain": [
       "<sklearn.metrics._plot.confusion_matrix.ConfusionMatrixDisplay at 0x39fd117c0>"
      ]
     },
     "execution_count": 5,
     "metadata": {},
     "output_type": "execute_result"
    },
    {
     "data": {
      "image/png": "[encoded data removed]",
      "text/plain": [
       "<Figure size 640x480 with 2 Axes>"
      ]
     },
     "metadata": {},
     "output_type": "display_data"
    }
   ],
   "source": [
    "# Train logit from sklearn for best\n",
    "modeling_approach = purpose_with_label.with_columns(\n",
    "    (pl.col(\"used\") * pl.col(\"shared\")).alias(\"used_shared\"),\n",
    "    (pl.col(\"created\") * pl.col(\"shared\")).alias(\"created_shared\"),\n",
    "    (pl.col(\"used\") * pl.col(\"created\")).alias(\"used_created\"),\n",
    ")\n",
    "\n",
    "# Create splits\n",
    "train_set, test_set = train_test_split(\n",
    "    modeling_approach.to_pandas(),\n",
    "    test_size=0.2,\n",
    "    random_state=12,\n",
    "    stratify=modeling_approach[\"label\"].to_list(),\n",
    ")\n",
    "\n",
    "cols_for_modeling = [\n",
    "    \"shared\",\n",
    "    \"created\",\n",
    "    \"used\",\n",
    "    \"used_shared\",\n",
    "    \"created_shared\",\n",
    "    \"used_created\",\n",
    "]\n",
    "\n",
    "logit = LogisticRegressionCV(\n",
    "    max_iter=1000,\n",
    "    random_state=12,\n",
    "    class_weight=\"balanced\",\n",
    ").fit(\n",
    "    train_set[[*cols_for_modeling]],\n",
    "    train_set[\"label\"].to_list(),\n",
    ")\n",
    "\n",
    "preds = logit.predict(test_set[[*cols_for_modeling]])\n",
    "\n",
    "print(\n",
    "    classification_report(\n",
    "        y_true=test_set[\"label\"],\n",
    "        y_pred=preds,\n",
    "        labels=[\"yes\", \"no\"],\n",
    "    )\n",
    ")\n",
    "\n",
    "ConfusionMatrixDisplay.from_predictions(\n",
    "    y_true=test_set[\"label\"],\n",
    "    y_pred=preds,\n",
    "    labels=[\"yes\", \"no\"],\n",
    ")"
   ]
  },
  {
   "cell_type": "code",
   "execution_count": 6,
   "id": "0fb24e2f",
   "metadata": {},
   "outputs": [
    {
     "name": "stdout",
     "output_type": "stream",
     "text": [
      "shared: 0.9373\n",
      "created: 0.3207\n",
      "used: -0.1118\n",
      "used_shared: -0.5715\n",
      "created_shared: 0.4333\n",
      "used_created: 0.3629\n"
     ]
    }
   ],
   "source": [
    "for feature_name, coef in zip(cols_for_modeling, logit.coef_[0], strict=False):\n",
    "    print(f\"{feature_name}: {coef:.4f}\")"
   ]
  }
 ],
 "metadata": {
  "kernelspec": {
   "display_name": "Python 3",
   "language": "python",
   "name": "python3"
  },
  "language_info": {
   "codemirror_mode": {
    "name": "ipython",
    "version": 3
   },
   "file_extension": ".py",
   "mimetype": "text/x-python",
   "name": "python",
   "nbconvert_exporter": "python",
   "pygments_lexer": "ipython3",
   "version": "3.12.11"
  }
 },
 "nbformat": 4,
 "nbformat_minor": 5
}
