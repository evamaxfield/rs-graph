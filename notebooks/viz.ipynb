{
 "cells": [
  {
   "cell_type": "raw",
   "id": "cb3decba",
   "metadata": {},
   "source": [
    "---\n",
    "title: \"{{ cookiecutter.project_name }}\"\n",
    "\n",
    "# Styling\n",
    "# See Quarto docs for more details on styling\n",
    "# This link is for styling options specific to HTML outputs\n",
    "# https://quarto.org/docs/reference/formats/html.html\n",
    "\n",
    "## Basics\n",
    "# bibliography: support/main.bib\n",
    "\n",
    "## Citation Style Language\n",
    "# See https://github.com/citation-style-language/styles for more options\n",
    "# We default to PNAS (Proceedings of the National Academy of Sciences)\n",
    "# csl: support/pnas.csl\n",
    "\n",
    "## Specific for target format\n",
    "format:\n",
    "  html:\n",
    "    code-tools: true\n",
    "    standalone: true\n",
    "    embed-resources: true\n",
    "    toc: true\n",
    "    toc-location: left\n",
    "    reference-location: margin\n",
    "    citation-location: margin\n",
    "---"
   ]
  },
  {
   "cell_type": "raw",
   "id": "d7f7c951",
   "metadata": {},
   "source": [
    "```{python}\n",
    "#| tags: [parameters]\n",
    "\n",
    "sample_size = 1000\n",
    "```"
   ]
  },
  {
   "cell_type": "code",
   "execution_count": 1,
   "id": "0ca39663",
   "metadata": {},
   "outputs": [
    {
     "ename": "ImportError",
     "evalue": "cannot import name 'Markup' from 'jinja2' (/home/eva/miniforge-pypy3/envs/rs-graph/lib/python3.11/site-packages/jinja2/__init__.py)",
     "output_type": "error",
     "traceback": [
      "\u001b[0;31m---------------------------------------------------------------------------\u001b[0m",
      "\u001b[0;31mImportError\u001b[0m                               Traceback (most recent call last)",
      "\u001b[1;32m/home/eva/active/research/rs-graph/notebooks/viz.ipynb Cell 3\u001b[0m line \u001b[0;36m5\n\u001b[1;32m      <a href='vscode-notebook-cell:/home/eva/active/research/rs-graph/notebooks/viz.ipynb#W0sZmlsZQ%3D%3D?line=2'>3</a>\u001b[0m \u001b[39mimport\u001b[39;00m \u001b[39mmatplotlib\u001b[39;00m\u001b[39m.\u001b[39;00m\u001b[39mpyplot\u001b[39;00m \u001b[39mas\u001b[39;00m \u001b[39mplt\u001b[39;00m\n\u001b[1;32m      <a href='vscode-notebook-cell:/home/eva/active/research/rs-graph/notebooks/viz.ipynb#W0sZmlsZQ%3D%3D?line=3'>4</a>\u001b[0m \u001b[39mimport\u001b[39;00m \u001b[39mnetworkx\u001b[39;00m \u001b[39mas\u001b[39;00m \u001b[39mnx\u001b[39;00m\n\u001b[0;32m----> <a href='vscode-notebook-cell:/home/eva/active/research/rs-graph/notebooks/viz.ipynb#W0sZmlsZQ%3D%3D?line=4'>5</a>\u001b[0m \u001b[39mfrom\u001b[39;00m \u001b[39mbokeh\u001b[39;00m\u001b[39m.\u001b[39;00m\u001b[39mio\u001b[39;00m \u001b[39mimport\u001b[39;00m output_notebook, show\n\u001b[1;32m      <a href='vscode-notebook-cell:/home/eva/active/research/rs-graph/notebooks/viz.ipynb#W0sZmlsZQ%3D%3D?line=5'>6</a>\u001b[0m \u001b[39mfrom\u001b[39;00m \u001b[39mbokeh\u001b[39;00m\u001b[39m.\u001b[39;00m\u001b[39mmodels\u001b[39;00m \u001b[39mimport\u001b[39;00m Circle, MultiLine, Range1d\n\u001b[1;32m      <a href='vscode-notebook-cell:/home/eva/active/research/rs-graph/notebooks/viz.ipynb#W0sZmlsZQ%3D%3D?line=6'>7</a>\u001b[0m \u001b[39mfrom\u001b[39;00m \u001b[39mbokeh\u001b[39;00m\u001b[39m.\u001b[39;00m\u001b[39mpalettes\u001b[39;00m \u001b[39mimport\u001b[39;00m Blues8\n",
      "File \u001b[0;32m~/miniforge-pypy3/envs/rs-graph/lib/python3.11/site-packages/bokeh/io/__init__.py:23\u001b[0m\n\u001b[1;32m     17\u001b[0m \u001b[39m#-----------------------------------------------------------------------------\u001b[39;00m\n\u001b[1;32m     18\u001b[0m \u001b[39m# Imports\u001b[39;00m\n\u001b[1;32m     19\u001b[0m \u001b[39m#-----------------------------------------------------------------------------\u001b[39;00m\n\u001b[1;32m     20\u001b[0m \n\u001b[1;32m     21\u001b[0m \u001b[39m# Bokeh imports\u001b[39;00m\n\u001b[1;32m     22\u001b[0m \u001b[39mfrom\u001b[39;00m \u001b[39m.\u001b[39;00m\u001b[39mdoc\u001b[39;00m \u001b[39mimport\u001b[39;00m curdoc\n\u001b[0;32m---> 23\u001b[0m \u001b[39mfrom\u001b[39;00m \u001b[39m.\u001b[39;00m\u001b[39mexport\u001b[39;00m \u001b[39mimport\u001b[39;00m export_png, export_svgs\n\u001b[1;32m     24\u001b[0m \u001b[39mfrom\u001b[39;00m \u001b[39m.\u001b[39;00m\u001b[39mnotebook\u001b[39;00m \u001b[39mimport\u001b[39;00m install_jupyter_hooks, install_notebook_hook, push_notebook\n\u001b[1;32m     25\u001b[0m \u001b[39mfrom\u001b[39;00m \u001b[39m.\u001b[39;00m\u001b[39moutput\u001b[39;00m \u001b[39mimport\u001b[39;00m output_file, output_notebook, reset_output\n",
      "File \u001b[0;32m~/miniforge-pypy3/envs/rs-graph/lib/python3.11/site-packages/bokeh/io/export.py:33\u001b[0m\n\u001b[1;32m     30\u001b[0m \u001b[39mfrom\u001b[39;00m \u001b[39mPIL\u001b[39;00m \u001b[39mimport\u001b[39;00m Image\n\u001b[1;32m     32\u001b[0m \u001b[39m# Bokeh imports\u001b[39;00m\n\u001b[0;32m---> 33\u001b[0m \u001b[39mfrom\u001b[39;00m \u001b[39m.\u001b[39;00m\u001b[39m.\u001b[39;00m\u001b[39mdocument\u001b[39;00m \u001b[39mimport\u001b[39;00m Document\n\u001b[1;32m     34\u001b[0m \u001b[39mfrom\u001b[39;00m \u001b[39m.\u001b[39;00m\u001b[39m.\u001b[39;00m\u001b[39membed\u001b[39;00m \u001b[39mimport\u001b[39;00m file_html\n\u001b[1;32m     35\u001b[0m \u001b[39mfrom\u001b[39;00m \u001b[39m.\u001b[39;00m\u001b[39m.\u001b[39;00m\u001b[39mmodels\u001b[39;00m\u001b[39m.\u001b[39;00m\u001b[39mlayouts\u001b[39;00m \u001b[39mimport\u001b[39;00m LayoutDOM\n",
      "File \u001b[0;32m~/miniforge-pypy3/envs/rs-graph/lib/python3.11/site-packages/bokeh/document/__init__.py:35\u001b[0m\n\u001b[1;32m     25\u001b[0m __all__ \u001b[39m=\u001b[39m (\n\u001b[1;32m     26\u001b[0m     \u001b[39m'\u001b[39m\u001b[39mDEFAULT_TITLE\u001b[39m\u001b[39m'\u001b[39m,\n\u001b[1;32m     27\u001b[0m     \u001b[39m'\u001b[39m\u001b[39mDocument\u001b[39m\u001b[39m'\u001b[39m,\n\u001b[1;32m     28\u001b[0m     \u001b[39m'\u001b[39m\u001b[39mwithout_document_lock\u001b[39m\u001b[39m'\u001b[39m,\n\u001b[1;32m     29\u001b[0m )\n\u001b[1;32m     31\u001b[0m \u001b[39m#-----------------------------------------------------------------------------\u001b[39;00m\n\u001b[1;32m     32\u001b[0m \u001b[39m# General API\u001b[39;00m\n\u001b[1;32m     33\u001b[0m \u001b[39m#-----------------------------------------------------------------------------\u001b[39;00m\n\u001b[0;32m---> 35\u001b[0m \u001b[39mfrom\u001b[39;00m \u001b[39m.\u001b[39;00m\u001b[39mdocument\u001b[39;00m \u001b[39mimport\u001b[39;00m DEFAULT_TITLE ; DEFAULT_TITLE\n\u001b[1;32m     36\u001b[0m \u001b[39mfrom\u001b[39;00m \u001b[39m.\u001b[39;00m\u001b[39mdocument\u001b[39;00m \u001b[39mimport\u001b[39;00m Document ; Document\n\u001b[1;32m     37\u001b[0m \u001b[39mfrom\u001b[39;00m \u001b[39m.\u001b[39;00m\u001b[39mlocking\u001b[39;00m \u001b[39mimport\u001b[39;00m without_document_lock ; without_document_lock\n",
      "File \u001b[0;32m~/miniforge-pypy3/envs/rs-graph/lib/python3.11/site-packages/bokeh/document/document.py:49\u001b[0m\n\u001b[1;32m     47\u001b[0m \u001b[39mfrom\u001b[39;00m \u001b[39m.\u001b[39;00m\u001b[39m.\u001b[39;00m\u001b[39mcore\u001b[39;00m\u001b[39m.\u001b[39;00m\u001b[39mjson_encoder\u001b[39;00m \u001b[39mimport\u001b[39;00m serialize_json\n\u001b[1;32m     48\u001b[0m \u001b[39mfrom\u001b[39;00m \u001b[39m.\u001b[39;00m\u001b[39m.\u001b[39;00m\u001b[39mcore\u001b[39;00m\u001b[39m.\u001b[39;00m\u001b[39mquery\u001b[39;00m \u001b[39mimport\u001b[39;00m find\n\u001b[0;32m---> 49\u001b[0m \u001b[39mfrom\u001b[39;00m \u001b[39m.\u001b[39;00m\u001b[39m.\u001b[39;00m\u001b[39mcore\u001b[39;00m\u001b[39m.\u001b[39;00m\u001b[39mtemplates\u001b[39;00m \u001b[39mimport\u001b[39;00m FILE\n\u001b[1;32m     50\u001b[0m \u001b[39mfrom\u001b[39;00m \u001b[39m.\u001b[39;00m\u001b[39m.\u001b[39;00m\u001b[39mcore\u001b[39;00m\u001b[39m.\u001b[39;00m\u001b[39mvalidation\u001b[39;00m \u001b[39mimport\u001b[39;00m check_integrity\n\u001b[1;32m     51\u001b[0m \u001b[39mfrom\u001b[39;00m \u001b[39m.\u001b[39;00m\u001b[39m.\u001b[39;00m\u001b[39mevents\u001b[39;00m \u001b[39mimport\u001b[39;00m Event\n",
      "File \u001b[0;32m~/miniforge-pypy3/envs/rs-graph/lib/python3.11/site-packages/bokeh/core/templates.py:42\u001b[0m\n\u001b[1;32m     39\u001b[0m \u001b[39mfrom\u001b[39;00m \u001b[39mos\u001b[39;00m\u001b[39m.\u001b[39;00m\u001b[39mpath\u001b[39;00m \u001b[39mimport\u001b[39;00m dirname, join\n\u001b[1;32m     41\u001b[0m \u001b[39m# External imports\u001b[39;00m\n\u001b[0;32m---> 42\u001b[0m \u001b[39mfrom\u001b[39;00m \u001b[39mjinja2\u001b[39;00m \u001b[39mimport\u001b[39;00m Environment, FileSystemLoader, Markup\n\u001b[1;32m     44\u001b[0m \u001b[39m#-----------------------------------------------------------------------------\u001b[39;00m\n\u001b[1;32m     45\u001b[0m \u001b[39m# Globals and constants\u001b[39;00m\n\u001b[1;32m     46\u001b[0m \u001b[39m#-----------------------------------------------------------------------------\u001b[39;00m\n\u001b[1;32m     48\u001b[0m __all__ \u001b[39m=\u001b[39m (\n\u001b[1;32m     49\u001b[0m     \u001b[39m'\u001b[39m\u001b[39mAUTOLOAD_JS\u001b[39m\u001b[39m'\u001b[39m,\n\u001b[1;32m     50\u001b[0m     \u001b[39m'\u001b[39m\u001b[39mAUTOLOAD_NB_JS\u001b[39m\u001b[39m'\u001b[39m,\n\u001b[0;32m   (...)\u001b[0m\n\u001b[1;32m     63\u001b[0m     \u001b[39m'\u001b[39m\u001b[39mSCRIPT_TAG\u001b[39m\u001b[39m'\u001b[39m,\n\u001b[1;32m     64\u001b[0m )\n",
      "\u001b[0;31mImportError\u001b[0m: cannot import name 'Markup' from 'jinja2' (/home/eva/miniforge-pypy3/envs/rs-graph/lib/python3.11/site-packages/jinja2/__init__.py)"
     ]
    }
   ],
   "source": [
    "# !pip install \"bokeh==2.1.0\" \"Jinja2==3.0.3\"\n",
    "\n",
    "import matplotlib.pyplot as plt\n",
    "import networkx as nx\n",
    "from bokeh.io import output_notebook, show\n",
    "from bokeh.models import Circle, MultiLine, Range1d\n",
    "from bokeh.palettes import Blues8\n",
    "from bokeh.plotting import figure, from_networkx\n",
    "from bokeh.transform import linear_cmap\n",
    "\n",
    "from rs_graph.data import load_rs_graph_upstream_deps_dataset\n",
    "\n",
    "###############################################################################\n",
    "\n",
    "# Bokeh output to notebook\n",
    "output_notebook()\n",
    "\n",
    "# Matplotlib setup\n",
    "plt.figure(figsize=(8, 8))\n",
    "plt.tight_layout()\n",
    "\n",
    "# Load dataset sample\n",
    "df = load_rs_graph_upstream_deps_dataset().sample(sample_size)"
   ]
  },
  {
   "cell_type": "code",
   "execution_count": null,
   "id": "714cfcca-07bc-48ee-9762-62e27d0c4cbf",
   "metadata": {},
   "outputs": [],
   "source": [
    "# Create graph\n",
    "graph = nx.from_pandas_edgelist(df, \"upstream_dep_name\", \"repo\")\n",
    "\n",
    "# Calculate degree and attach to node data\n",
    "degrees = dict(nx.degree(graph))\n",
    "nx.set_node_attributes(graph, name=\"degree\", values=degrees)\n",
    "\n",
    "# Adjust size by degree\n",
    "number_to_adjust_by = 5\n",
    "adjusted_node_size = {\n",
    "    node: degree + number_to_adjust_by for node, degree in nx.degree(graph)\n",
    "}\n",
    "nx.set_node_attributes(graph, name=\"adjusted_node_size\", values=adjusted_node_size)\n",
    "\n",
    "# Create a plot — set dimensions, toolbar, and title\n",
    "plot = figure(\n",
    "    tooltips=[(\"Package\", \"@index\"), (\"Degree\", \"@degree\")],\n",
    "    tools=\"pan,wheel_zoom,save,reset\",\n",
    "    active_scroll=\"wheel_zoom\",\n",
    "    x_range=Range1d(-10.1, 10.1),\n",
    "    y_range=Range1d(-10.1, 10.1),\n",
    ")\n",
    "\n",
    "# Create a network graph object with spring layout\n",
    "network_graph = from_networkx(graph, nx.spring_layout, scale=10, center=(0, 0))\n",
    "\n",
    "# Set node size and color\n",
    "# Set node sizes and colors according to node degree\n",
    "# (color as spectrum of color palette)\n",
    "minimum_value_color = min(\n",
    "    network_graph.node_renderer.data_source.data[\"adjusted_node_size\"]\n",
    ")\n",
    "maximum_value_color = max(\n",
    "    network_graph.node_renderer.data_source.data[\"adjusted_node_size\"]\n",
    ")\n",
    "network_graph.node_renderer.glyph = Circle(\n",
    "    size=\"adjusted_node_size\",\n",
    "    fill_color=linear_cmap(\n",
    "        \"adjusted_node_size\", Blues8, minimum_value_color, maximum_value_color\n",
    "    ),\n",
    ")\n",
    "\n",
    "# Set edge opacity and width\n",
    "network_graph.edge_renderer.glyph = MultiLine(line_alpha=0.5, line_width=1)\n",
    "\n",
    "# Add network graph to the plot\n",
    "plot.renderers.append(network_graph)\n",
    "\n",
    "# Render\n",
    "show(plot)"
   ]
  }
 ],
 "metadata": {
  "kernelspec": {
   "display_name": "Python 3 (ipykernel)",
   "language": "python",
   "name": "python3"
  },
  "language_info": {
   "codemirror_mode": {
    "name": "ipython",
    "version": 3
   },
   "file_extension": ".py",
   "mimetype": "text/x-python",
   "name": "python",
   "nbconvert_exporter": "python",
   "pygments_lexer": "ipython3",
   "version": "3.11.5"
  }
 },
 "nbformat": 4,
 "nbformat_minor": 5
}
