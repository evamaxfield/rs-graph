{
 "cells": [
  {
   "cell_type": "code",
   "execution_count": null,
   "id": "439c57f9",
   "metadata": {},
   "outputs": [
    {
     "name": "stdout",
     "output_type": "stream",
     "text": [
      "Reading table: document from /Users/evamaxfield/active/rs-graph/rs_graph/data/files/rs-graph-v2-dev.db\n",
      "Reading table: repository from /Users/evamaxfield/active/rs-graph/rs_graph/data/files/rs-graph-v2-dev.db\n",
      "Reading table: document_repository_link from /Users/evamaxfield/active/rs-graph/rs_graph/data/files/rs-graph-v2-dev.db\n"
     ]
    },
    {
     "data": {
      "text/html": [
       "<div><style>\n",
       ".dataframe > thead > tr,\n",
       ".dataframe > tbody > tr {\n",
       "  text-align: right;\n",
       "  white-space: pre-wrap;\n",
       "}\n",
       "</style>\n",
       "<small>shape: (114_096, 5)</small><table border=\"1\" class=\"dataframe\"><thead><tr><th>document_id</th><th>repository_id</th><th>publication_date</th><th>creation_datetime</th><th>last_pushed_datetime</th></tr><tr><td>i64</td><td>i64</td><td>date</td><td>datetime[ns]</td><td>datetime[ns]</td></tr></thead><tbody><tr><td>1</td><td>1</td><td>2015-12-01</td><td>2014-05-05 21:14:57</td><td>2018-04-29 16:11:15</td></tr><tr><td>2</td><td>2</td><td>2022-10-01</td><td>2021-11-09 04:35:52</td><td>2021-11-23 04:14:31</td></tr><tr><td>3</td><td>3</td><td>2017-12-08</td><td>2017-07-10 14:22:18</td><td>2018-07-11 12:15:35</td></tr><tr><td>4</td><td>4</td><td>2020-05-18</td><td>2019-04-01 16:16:34</td><td>2021-07-12 10:28:10</td></tr><tr><td>5</td><td>5</td><td>2017-09-29</td><td>2016-12-13 22:27:50</td><td>2024-03-25 19:35:00</td></tr><tr><td>&hellip;</td><td>&hellip;</td><td>&hellip;</td><td>&hellip;</td><td>&hellip;</td></tr><tr><td>132706</td><td>126266</td><td>2021-01-01</td><td>2021-07-28 12:28:50</td><td>2021-09-14 20:54:07</td></tr><tr><td>132707</td><td>126267</td><td>2021-01-01</td><td>2021-10-13 03:48:38</td><td>2022-01-18 02:53:21</td></tr><tr><td>132708</td><td>126268</td><td>2021-01-01</td><td>2019-09-23 22:16:31</td><td>2025-06-02 02:50:30</td></tr><tr><td>132709</td><td>126269</td><td>2021-01-01</td><td>2021-03-06 07:54:01</td><td>2022-03-31 18:48:06</td></tr><tr><td>132710</td><td>126270</td><td>2021-01-01</td><td>2020-12-16 18:37:24</td><td>2025-06-09 13:06:09</td></tr></tbody></table></div>"
      ],
      "text/plain": [
       "shape: (114_096, 5)\n",
       "┌─────────────┬───────────────┬──────────────────┬─────────────────────┬──────────────────────┐\n",
       "│ document_id ┆ repository_id ┆ publication_date ┆ creation_datetime   ┆ last_pushed_datetime │\n",
       "│ ---         ┆ ---           ┆ ---              ┆ ---                 ┆ ---                  │\n",
       "│ i64         ┆ i64           ┆ date             ┆ datetime[ns]        ┆ datetime[ns]         │\n",
       "╞═════════════╪═══════════════╪══════════════════╪═════════════════════╪══════════════════════╡\n",
       "│ 1           ┆ 1             ┆ 2015-12-01       ┆ 2014-05-05 21:14:57 ┆ 2018-04-29 16:11:15  │\n",
       "│ 2           ┆ 2             ┆ 2022-10-01       ┆ 2021-11-09 04:35:52 ┆ 2021-11-23 04:14:31  │\n",
       "│ 3           ┆ 3             ┆ 2017-12-08       ┆ 2017-07-10 14:22:18 ┆ 2018-07-11 12:15:35  │\n",
       "│ 4           ┆ 4             ┆ 2020-05-18       ┆ 2019-04-01 16:16:34 ┆ 2021-07-12 10:28:10  │\n",
       "│ 5           ┆ 5             ┆ 2017-09-29       ┆ 2016-12-13 22:27:50 ┆ 2024-03-25 19:35:00  │\n",
       "│ …           ┆ …             ┆ …                ┆ …                   ┆ …                    │\n",
       "│ 132706      ┆ 126266        ┆ 2021-01-01       ┆ 2021-07-28 12:28:50 ┆ 2021-09-14 20:54:07  │\n",
       "│ 132707      ┆ 126267        ┆ 2021-01-01       ┆ 2021-10-13 03:48:38 ┆ 2022-01-18 02:53:21  │\n",
       "│ 132708      ┆ 126268        ┆ 2021-01-01       ┆ 2019-09-23 22:16:31 ┆ 2025-06-02 02:50:30  │\n",
       "│ 132709      ┆ 126269        ┆ 2021-01-01       ┆ 2021-03-06 07:54:01 ┆ 2022-03-31 18:48:06  │\n",
       "│ 132710      ┆ 126270        ┆ 2021-01-01       ┆ 2020-12-16 18:37:24 ┆ 2025-06-09 13:06:09  │\n",
       "└─────────────┴───────────────┴──────────────────┴─────────────────────┴──────────────────────┘"
      ]
     },
     "execution_count": 5,
     "metadata": {},
     "output_type": "execute_result"
    }
   ],
   "source": [
    "import polars as pl\n",
    "\n",
    "from rs_graph.db import constants as db_constants\n",
    "\n",
    "###############################################################################\n",
    "\n",
    "def _read_table(table: str) -> pl.DataFrame: \n",
    "    return pl.read_database_uri(\n",
    "        f\"SELECT * FROM {table}\",\n",
    "        f\"sqlite:///{db_constants.DEV_DATABASE_FILEPATH}\",\n",
    "    )\n",
    "\n",
    "\n",
    "def load_pairs() -> pl.DataFrame:\n",
    "    # Read all the tables we need\n",
    "    docs = _read_table(\"document\")\n",
    "    repos = _read_table(\"repository\")\n",
    "    pairs = _read_table(\"document_repository_link\")\n",
    "\n",
    "    # Drop to unique doc and unique repo in pairs\n",
    "    pairs = pairs.unique(\n",
    "        subset=\"document_id\",\n",
    "        keep=\"none\",\n",
    "    ).unique(\n",
    "        subset=\"repository_id\",\n",
    "        keep=\"none\",\n",
    "    )\n",
    "\n",
    "    # Join the tables to get the positive examples\n",
    "    df = (\n",
    "        pairs.select(\n",
    "            \"document_id\",\n",
    "            \"repository_id\",\n",
    "        )\n",
    "        .join(\n",
    "            docs.select(\n",
    "                pl.col(\"id\").alias(\"document_id\"),\n",
    "                \"publication_date\",\n",
    "            ),\n",
    "            on=\"document_id\",\n",
    "            how=\"left\",\n",
    "        )\n",
    "        .join(\n",
    "            repos.select(\n",
    "                pl.col(\"id\").alias(\"repository_id\"),\n",
    "                \"creation_datetime\",\n",
    "                \"last_pushed_datetime\",\n",
    "            ),\n",
    "            on=\"repository_id\",\n",
    "            how=\"left\",\n",
    "        )\n",
    "    )\n",
    "\n",
    "    return df\n",
    "\n",
    "df = load_pairs()\n",
    "df"
   ]
  },
  {
   "cell_type": "code",
   "execution_count": 21,
   "id": "c4222366",
   "metadata": {},
   "outputs": [
    {
     "data": {
      "text/html": [
       "<div><style>\n",
       ".dataframe > thead > tr,\n",
       ".dataframe > tbody > tr {\n",
       "  text-align: right;\n",
       "  white-space: pre-wrap;\n",
       "}\n",
       "</style>\n",
       "<small>shape: (8, 2)</small><table border=\"1\" class=\"dataframe\"><thead><tr><th>statistic</th><th>value</th></tr><tr><td>str</td><td>f64</td></tr></thead><tbody><tr><td>&quot;mean&quot;</td><td>250.566891</td></tr><tr><td>&quot;std&quot;</td><td>346.853141</td></tr><tr><td>&quot;50%&quot;</td><td>163.0</td></tr><tr><td>&quot;75%&quot;</td><td>300.0</td></tr><tr><td>&quot;90%&quot;</td><td>525.0</td></tr><tr><td>&quot;95%&quot;</td><td>803.0</td></tr><tr><td>&quot;99%&quot;</td><td>1811.0</td></tr><tr><td>&quot;max&quot;</td><td>8280.0</td></tr></tbody></table></div>"
      ],
      "text/plain": [
       "shape: (8, 2)\n",
       "┌───────────┬────────────┐\n",
       "│ statistic ┆ value      │\n",
       "│ ---       ┆ ---        │\n",
       "│ str       ┆ f64        │\n",
       "╞═══════════╪════════════╡\n",
       "│ mean      ┆ 250.566891 │\n",
       "│ std       ┆ 346.853141 │\n",
       "│ 50%       ┆ 163.0      │\n",
       "│ 75%       ┆ 300.0      │\n",
       "│ 90%       ┆ 525.0      │\n",
       "│ 95%       ┆ 803.0      │\n",
       "│ 99%       ┆ 1811.0     │\n",
       "│ max       ┆ 8280.0     │\n",
       "└───────────┴────────────┘"
      ]
     },
     "execution_count": 21,
     "metadata": {},
     "output_type": "execute_result"
    }
   ],
   "source": [
    "# Create columns for difference between publication date and creation date\n",
    "# and publication date and last pushed date\n",
    "df = df.with_columns(\n",
    "    (\n",
    "        pl.col(\"publication_date\") - pl.col(\"creation_datetime\")\n",
    "    ).dt.total_days().abs().alias(\"publication_date_creation_date_diff\"),\n",
    "    (\n",
    "        pl.col(\"publication_date\") - pl.col(\"last_pushed_datetime\")\n",
    "    ).dt.total_days().abs().alias(\"publication_date_last_pushed_date_diff\"),\n",
    ")\n",
    "\n",
    "# Also create a \"years\" column for both of these\n",
    "df = df.with_columns(\n",
    "    (\n",
    "        pl.col(\"publication_date_creation_date_diff\") / 365.25\n",
    "    ).alias(\"publication_date_creation_date_diff_years\"),\n",
    "    (\n",
    "        pl.col(\"publication_date_last_pushed_date_diff\") / 365.25\n",
    "    ).alias(\"publication_date_last_pushed_date_diff_years\"),\n",
    ")\n",
    "\n",
    "df[\"publication_date_creation_date_diff\"].describe(\n",
    "    percentiles=[0.5, 0.75, 0.9, 0.95, 0.99],\n",
    ").filter(\n",
    "    pl.col(\"statistic\").is_in([\"mean\", \"std\", \"50%\", \"75%\", \"90%\", \"95%\", \"99%\", \"max\"])\n",
    ")"
   ]
  },
  {
   "cell_type": "code",
   "execution_count": 22,
   "id": "19e352e5",
   "metadata": {},
   "outputs": [
    {
     "data": {
      "text/html": [
       "<div><style>\n",
       ".dataframe > thead > tr,\n",
       ".dataframe > tbody > tr {\n",
       "  text-align: right;\n",
       "  white-space: pre-wrap;\n",
       "}\n",
       "</style>\n",
       "<small>shape: (8, 2)</small><table border=\"1\" class=\"dataframe\"><thead><tr><th>statistic</th><th>value</th></tr><tr><td>str</td><td>f64</td></tr></thead><tbody><tr><td>&quot;mean&quot;</td><td>495.407902</td></tr><tr><td>&quot;std&quot;</td><td>515.339448</td></tr><tr><td>&quot;50%&quot;</td><td>335.0</td></tr><tr><td>&quot;75%&quot;</td><td>676.0</td></tr><tr><td>&quot;90%&quot;</td><td>1156.0</td></tr><tr><td>&quot;95%&quot;</td><td>1546.0</td></tr><tr><td>&quot;99%&quot;</td><td>2397.0</td></tr><tr><td>&quot;max&quot;</td><td>8893.0</td></tr></tbody></table></div>"
      ],
      "text/plain": [
       "shape: (8, 2)\n",
       "┌───────────┬────────────┐\n",
       "│ statistic ┆ value      │\n",
       "│ ---       ┆ ---        │\n",
       "│ str       ┆ f64        │\n",
       "╞═══════════╪════════════╡\n",
       "│ mean      ┆ 495.407902 │\n",
       "│ std       ┆ 515.339448 │\n",
       "│ 50%       ┆ 335.0      │\n",
       "│ 75%       ┆ 676.0      │\n",
       "│ 90%       ┆ 1156.0     │\n",
       "│ 95%       ┆ 1546.0     │\n",
       "│ 99%       ┆ 2397.0     │\n",
       "│ max       ┆ 8893.0     │\n",
       "└───────────┴────────────┘"
      ]
     },
     "execution_count": 22,
     "metadata": {},
     "output_type": "execute_result"
    }
   ],
   "source": [
    "df[\"publication_date_last_pushed_date_diff\"].describe(\n",
    "    percentiles=[0.5, 0.75, 0.9, 0.95, 0.99],\n",
    ").filter(\n",
    "    pl.col(\"statistic\").is_in([\"mean\", \"std\", \"50%\", \"75%\", \"90%\", \"95%\", \"99%\", \"max\"])\n",
    ")"
   ]
  },
  {
   "cell_type": "code",
   "execution_count": 23,
   "id": "506bd397",
   "metadata": {},
   "outputs": [
    {
     "data": {
      "text/html": [
       "<div><style>\n",
       ".dataframe > thead > tr,\n",
       ".dataframe > tbody > tr {\n",
       "  text-align: right;\n",
       "  white-space: pre-wrap;\n",
       "}\n",
       "</style>\n",
       "<small>shape: (8, 2)</small><table border=\"1\" class=\"dataframe\"><thead><tr><th>statistic</th><th>value</th></tr><tr><td>str</td><td>f64</td></tr></thead><tbody><tr><td>&quot;mean&quot;</td><td>0.686015</td></tr><tr><td>&quot;std&quot;</td><td>0.949632</td></tr><tr><td>&quot;50%&quot;</td><td>0.44627</td></tr><tr><td>&quot;75%&quot;</td><td>0.821355</td></tr><tr><td>&quot;90%&quot;</td><td>1.437372</td></tr><tr><td>&quot;95%&quot;</td><td>2.198494</td></tr><tr><td>&quot;99%&quot;</td><td>4.958248</td></tr><tr><td>&quot;max&quot;</td><td>22.669405</td></tr></tbody></table></div>"
      ],
      "text/plain": [
       "shape: (8, 2)\n",
       "┌───────────┬───────────┐\n",
       "│ statistic ┆ value     │\n",
       "│ ---       ┆ ---       │\n",
       "│ str       ┆ f64       │\n",
       "╞═══════════╪═══════════╡\n",
       "│ mean      ┆ 0.686015  │\n",
       "│ std       ┆ 0.949632  │\n",
       "│ 50%       ┆ 0.44627   │\n",
       "│ 75%       ┆ 0.821355  │\n",
       "│ 90%       ┆ 1.437372  │\n",
       "│ 95%       ┆ 2.198494  │\n",
       "│ 99%       ┆ 4.958248  │\n",
       "│ max       ┆ 22.669405 │\n",
       "└───────────┴───────────┘"
      ]
     },
     "execution_count": 23,
     "metadata": {},
     "output_type": "execute_result"
    }
   ],
   "source": [
    "# Same for years\n",
    "df[\"publication_date_creation_date_diff_years\"].describe(\n",
    "    percentiles=[0.5, 0.75, 0.9, 0.95, 0.99],\n",
    ").filter(\n",
    "    pl.col(\"statistic\").is_in([\"mean\", \"std\", \"50%\", \"75%\", \"90%\", \"95%\", \"99%\", \"max\"])\n",
    ")"
   ]
  },
  {
   "cell_type": "code",
   "execution_count": 24,
   "id": "3d1c9f0a",
   "metadata": {},
   "outputs": [
    {
     "data": {
      "text/html": [
       "<div><style>\n",
       ".dataframe > thead > tr,\n",
       ".dataframe > tbody > tr {\n",
       "  text-align: right;\n",
       "  white-space: pre-wrap;\n",
       "}\n",
       "</style>\n",
       "<small>shape: (8, 2)</small><table border=\"1\" class=\"dataframe\"><thead><tr><th>statistic</th><th>value</th></tr><tr><td>str</td><td>f64</td></tr></thead><tbody><tr><td>&quot;mean&quot;</td><td>1.356353</td></tr><tr><td>&quot;std&quot;</td><td>1.410923</td></tr><tr><td>&quot;50%&quot;</td><td>0.91718</td></tr><tr><td>&quot;75%&quot;</td><td>1.850787</td></tr><tr><td>&quot;90%&quot;</td><td>3.164956</td></tr><tr><td>&quot;95%&quot;</td><td>4.232717</td></tr><tr><td>&quot;99%&quot;</td><td>6.562628</td></tr><tr><td>&quot;max&quot;</td><td>24.347707</td></tr></tbody></table></div>"
      ],
      "text/plain": [
       "shape: (8, 2)\n",
       "┌───────────┬───────────┐\n",
       "│ statistic ┆ value     │\n",
       "│ ---       ┆ ---       │\n",
       "│ str       ┆ f64       │\n",
       "╞═══════════╪═══════════╡\n",
       "│ mean      ┆ 1.356353  │\n",
       "│ std       ┆ 1.410923  │\n",
       "│ 50%       ┆ 0.91718   │\n",
       "│ 75%       ┆ 1.850787  │\n",
       "│ 90%       ┆ 3.164956  │\n",
       "│ 95%       ┆ 4.232717  │\n",
       "│ 99%       ┆ 6.562628  │\n",
       "│ max       ┆ 24.347707 │\n",
       "└───────────┴───────────┘"
      ]
     },
     "execution_count": 24,
     "metadata": {},
     "output_type": "execute_result"
    }
   ],
   "source": [
    "df[\"publication_date_last_pushed_date_diff_years\"].describe(\n",
    "    percentiles=[0.5, 0.75, 0.9, 0.95, 0.99],\n",
    ").filter(\n",
    "    pl.col(\"statistic\").is_in([\"mean\", \"std\", \"50%\", \"75%\", \"90%\", \"95%\", \"99%\", \"max\"])\n",
    ")"
   ]
  }
 ],
 "metadata": {
  "kernelspec": {
   "display_name": "rs-graph",
   "language": "python",
   "name": "python3"
  },
  "language_info": {
   "codemirror_mode": {
    "name": "ipython",
    "version": 3
   },
   "file_extension": ".py",
   "mimetype": "text/x-python",
   "name": "python",
   "nbconvert_exporter": "python",
   "pygments_lexer": "ipython3",
   "version": "3.12.11"
  }
 },
 "nbformat": 4,
 "nbformat_minor": 5
}
