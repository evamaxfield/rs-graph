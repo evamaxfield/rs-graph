{
 "cells": [
  {
   "cell_type": "code",
   "execution_count": 6,
   "id": "439c57f9",
   "metadata": {},
   "outputs": [
    {
     "data": {
      "text/html": [
       "<div><style>\n",
       ".dataframe > thead > tr,\n",
       ".dataframe > tbody > tr {\n",
       "  text-align: right;\n",
       "  white-space: pre-wrap;\n",
       "}\n",
       "</style>\n",
       "<small>shape: (119_098, 5)</small><table border=\"1\" class=\"dataframe\"><thead><tr><th>document_id</th><th>repository_id</th><th>publication_date</th><th>creation_datetime</th><th>last_pushed_datetime</th></tr><tr><td>i64</td><td>i64</td><td>date</td><td>datetime[ns]</td><td>datetime[ns]</td></tr></thead><tbody><tr><td>1</td><td>1</td><td>2015-12-01</td><td>2014-05-05 21:14:57</td><td>2018-04-29 16:11:15</td></tr><tr><td>2</td><td>2</td><td>2022-10-01</td><td>2021-11-09 04:35:52</td><td>2021-11-23 04:14:31</td></tr><tr><td>3</td><td>3</td><td>2017-12-08</td><td>2017-07-10 14:22:18</td><td>2018-07-11 12:15:35</td></tr><tr><td>4</td><td>4</td><td>2020-05-18</td><td>2019-04-01 16:16:34</td><td>2021-07-12 10:28:10</td></tr><tr><td>5</td><td>5</td><td>2017-09-29</td><td>2016-12-13 22:27:50</td><td>2024-03-25 19:35:00</td></tr><tr><td>&hellip;</td><td>&hellip;</td><td>&hellip;</td><td>&hellip;</td><td>&hellip;</td></tr><tr><td>138590</td><td>132078</td><td>2021-01-01</td><td>2021-02-06 13:04:58</td><td>2022-07-20 11:14:06</td></tr><tr><td>138591</td><td>132080</td><td>2021-01-01</td><td>2021-04-27 09:05:06</td><td>2022-01-05 21:05:54</td></tr><tr><td>138592</td><td>132081</td><td>2020-01-01</td><td>2020-05-25 19:59:39</td><td>2022-06-13 17:34:41</td></tr><tr><td>138593</td><td>132082</td><td>2021-01-01</td><td>2021-05-24 15:19:26</td><td>2022-05-25 19:16:04</td></tr><tr><td>138594</td><td>132083</td><td>2021-01-01</td><td>2021-09-08 08:55:32</td><td>2021-11-30 07:21:15</td></tr></tbody></table></div>"
      ],
      "text/plain": [
       "shape: (119_098, 5)\n",
       "┌─────────────┬───────────────┬──────────────────┬─────────────────────┬──────────────────────┐\n",
       "│ document_id ┆ repository_id ┆ publication_date ┆ creation_datetime   ┆ last_pushed_datetime │\n",
       "│ ---         ┆ ---           ┆ ---              ┆ ---                 ┆ ---                  │\n",
       "│ i64         ┆ i64           ┆ date             ┆ datetime[ns]        ┆ datetime[ns]         │\n",
       "╞═════════════╪═══════════════╪══════════════════╪═════════════════════╪══════════════════════╡\n",
       "│ 1           ┆ 1             ┆ 2015-12-01       ┆ 2014-05-05 21:14:57 ┆ 2018-04-29 16:11:15  │\n",
       "│ 2           ┆ 2             ┆ 2022-10-01       ┆ 2021-11-09 04:35:52 ┆ 2021-11-23 04:14:31  │\n",
       "│ 3           ┆ 3             ┆ 2017-12-08       ┆ 2017-07-10 14:22:18 ┆ 2018-07-11 12:15:35  │\n",
       "│ 4           ┆ 4             ┆ 2020-05-18       ┆ 2019-04-01 16:16:34 ┆ 2021-07-12 10:28:10  │\n",
       "│ 5           ┆ 5             ┆ 2017-09-29       ┆ 2016-12-13 22:27:50 ┆ 2024-03-25 19:35:00  │\n",
       "│ …           ┆ …             ┆ …                ┆ …                   ┆ …                    │\n",
       "│ 138590      ┆ 132078        ┆ 2021-01-01       ┆ 2021-02-06 13:04:58 ┆ 2022-07-20 11:14:06  │\n",
       "│ 138591      ┆ 132080        ┆ 2021-01-01       ┆ 2021-04-27 09:05:06 ┆ 2022-01-05 21:05:54  │\n",
       "│ 138592      ┆ 132081        ┆ 2020-01-01       ┆ 2020-05-25 19:59:39 ┆ 2022-06-13 17:34:41  │\n",
       "│ 138593      ┆ 132082        ┆ 2021-01-01       ┆ 2021-05-24 15:19:26 ┆ 2022-05-25 19:16:04  │\n",
       "│ 138594      ┆ 132083        ┆ 2021-01-01       ┆ 2021-09-08 08:55:32 ┆ 2021-11-30 07:21:15  │\n",
       "└─────────────┴───────────────┴──────────────────┴─────────────────────┴──────────────────────┘"
      ]
     },
     "execution_count": 6,
     "metadata": {},
     "output_type": "execute_result"
    }
   ],
   "source": [
    "import polars as pl\n",
    "\n",
    "from rs_graph.db import constants as db_constants\n",
    "\n",
    "###############################################################################\n",
    "\n",
    "\n",
    "def _read_table(table: str) -> pl.DataFrame:\n",
    "    return pl.read_database_uri(\n",
    "        f\"SELECT * FROM {table}\",\n",
    "        f\"sqlite:///{db_constants.V2_DATABASE_PATHS.dev}\",\n",
    "    )\n",
    "\n",
    "\n",
    "def load_pairs() -> pl.DataFrame:\n",
    "    # Read all the tables we need\n",
    "    docs = _read_table(\"document\")\n",
    "    repos = _read_table(\"repository\")\n",
    "    pairs = _read_table(\"document_repository_link\")\n",
    "\n",
    "    repo_contribs = _read_table(\"repository_contributor\")\n",
    "\n",
    "    # Drop to unique doc and unique repo in pairs\n",
    "    pairs = pairs.unique(\n",
    "        subset=\"document_id\",\n",
    "        keep=\"none\",\n",
    "    ).unique(\n",
    "        subset=\"repository_id\",\n",
    "        keep=\"none\",\n",
    "    )\n",
    "\n",
    "    # Join the tables to get the positive examples\n",
    "    df = (\n",
    "        pairs.select(\n",
    "            \"document_id\",\n",
    "            \"repository_id\",\n",
    "        )\n",
    "        .join(\n",
    "            docs.select(\n",
    "                pl.col(\"id\").alias(\"document_id\"),\n",
    "                \"publication_date\",\n",
    "            ),\n",
    "            on=\"document_id\",\n",
    "            how=\"left\",\n",
    "        )\n",
    "        .join(\n",
    "            repos.select(\n",
    "                pl.col(\"id\").alias(\"repository_id\"),\n",
    "                \"creation_datetime\",\n",
    "                \"last_pushed_datetime\",\n",
    "            ),\n",
    "            on=\"repository_id\",\n",
    "            how=\"left\",\n",
    "        )\n",
    "    )\n",
    "\n",
    "    return df, repo_contribs\n",
    "\n",
    "\n",
    "df, repo_contribs = load_pairs()\n",
    "df"
   ]
  },
  {
   "cell_type": "code",
   "execution_count": 8,
   "id": "70aae193",
   "metadata": {},
   "outputs": [
    {
     "data": {
      "text/html": [
       "<div><style>\n",
       ".dataframe > thead > tr,\n",
       ".dataframe > tbody > tr {\n",
       "  text-align: right;\n",
       "  white-space: pre-wrap;\n",
       "}\n",
       "</style>\n",
       "<small>shape: (9, 2)</small><table border=\"1\" class=\"dataframe\"><thead><tr><th>statistic</th><th>value</th></tr><tr><td>str</td><td>f64</td></tr></thead><tbody><tr><td>&quot;count&quot;</td><td>128992.0</td></tr><tr><td>&quot;null_count&quot;</td><td>0.0</td></tr><tr><td>&quot;mean&quot;</td><td>2.28139</td></tr><tr><td>&quot;std&quot;</td><td>3.92659</td></tr><tr><td>&quot;min&quot;</td><td>1.0</td></tr><tr><td>&quot;25%&quot;</td><td>1.0</td></tr><tr><td>&quot;50%&quot;</td><td>1.0</td></tr><tr><td>&quot;75%&quot;</td><td>2.0</td></tr><tr><td>&quot;max&quot;</td><td>32.0</td></tr></tbody></table></div>"
      ],
      "text/plain": [
       "shape: (9, 2)\n",
       "┌────────────┬──────────┐\n",
       "│ statistic  ┆ value    │\n",
       "│ ---        ┆ ---      │\n",
       "│ str        ┆ f64      │\n",
       "╞════════════╪══════════╡\n",
       "│ count      ┆ 128992.0 │\n",
       "│ null_count ┆ 0.0      │\n",
       "│ mean       ┆ 2.28139  │\n",
       "│ std        ┆ 3.92659  │\n",
       "│ min        ┆ 1.0      │\n",
       "│ 25%        ┆ 1.0      │\n",
       "│ 50%        ┆ 1.0      │\n",
       "│ 75%        ┆ 2.0      │\n",
       "│ max        ┆ 32.0     │\n",
       "└────────────┴──────────┘"
      ]
     },
     "execution_count": 8,
     "metadata": {},
     "output_type": "execute_result"
    }
   ],
   "source": [
    "repo_contribs.group_by(\"repository_id\").agg(pl.len().alias(\"num_contributors\"))[\n",
    "    \"num_contributors\"\n",
    "].describe()"
   ]
  },
  {
   "cell_type": "code",
   "execution_count": 2,
   "id": "c4222366",
   "metadata": {},
   "outputs": [
    {
     "data": {
      "text/html": [
       "<div><style>\n",
       ".dataframe > thead > tr,\n",
       ".dataframe > tbody > tr {\n",
       "  text-align: right;\n",
       "  white-space: pre-wrap;\n",
       "}\n",
       "</style>\n",
       "<small>shape: (8, 2)</small><table border=\"1\" class=\"dataframe\"><thead><tr><th>statistic</th><th>value</th></tr><tr><td>str</td><td>f64</td></tr></thead><tbody><tr><td>&quot;mean&quot;</td><td>248.549657</td></tr><tr><td>&quot;std&quot;</td><td>343.716394</td></tr><tr><td>&quot;50%&quot;</td><td>162.0</td></tr><tr><td>&quot;75%&quot;</td><td>299.0</td></tr><tr><td>&quot;90%&quot;</td><td>520.0</td></tr><tr><td>&quot;95%&quot;</td><td>792.0</td></tr><tr><td>&quot;99%&quot;</td><td>1790.0</td></tr><tr><td>&quot;max&quot;</td><td>8280.0</td></tr></tbody></table></div>"
      ],
      "text/plain": [
       "shape: (8, 2)\n",
       "┌───────────┬────────────┐\n",
       "│ statistic ┆ value      │\n",
       "│ ---       ┆ ---        │\n",
       "│ str       ┆ f64        │\n",
       "╞═══════════╪════════════╡\n",
       "│ mean      ┆ 248.549657 │\n",
       "│ std       ┆ 343.716394 │\n",
       "│ 50%       ┆ 162.0      │\n",
       "│ 75%       ┆ 299.0      │\n",
       "│ 90%       ┆ 520.0      │\n",
       "│ 95%       ┆ 792.0      │\n",
       "│ 99%       ┆ 1790.0     │\n",
       "│ max       ┆ 8280.0     │\n",
       "└───────────┴────────────┘"
      ]
     },
     "execution_count": 2,
     "metadata": {},
     "output_type": "execute_result"
    }
   ],
   "source": [
    "# Create columns for difference between publication date and creation date\n",
    "# and publication date and last pushed date\n",
    "df = df.with_columns(\n",
    "    (pl.col(\"publication_date\") - pl.col(\"creation_datetime\"))\n",
    "    .dt.total_days()\n",
    "    .abs()\n",
    "    .alias(\"publication_date_creation_date_diff\"),\n",
    "    (pl.col(\"publication_date\") - pl.col(\"last_pushed_datetime\"))\n",
    "    .dt.total_days()\n",
    "    .abs()\n",
    "    .alias(\"publication_date_last_pushed_date_diff\"),\n",
    ")\n",
    "\n",
    "# Also create a \"years\" column for both of these\n",
    "df = df.with_columns(\n",
    "    (pl.col(\"publication_date_creation_date_diff\") / 365.25).alias(\n",
    "        \"publication_date_creation_date_diff_years\"\n",
    "    ),\n",
    "    (pl.col(\"publication_date_last_pushed_date_diff\") / 365.25).alias(\n",
    "        \"publication_date_last_pushed_date_diff_years\"\n",
    "    ),\n",
    ")\n",
    "\n",
    "df[\"publication_date_creation_date_diff\"].describe(\n",
    "    percentiles=[0.5, 0.75, 0.9, 0.95, 0.99],\n",
    ").filter(pl.col(\"statistic\").is_in([\"mean\", \"std\", \"50%\", \"75%\", \"90%\", \"95%\", \"99%\", \"max\"]))"
   ]
  },
  {
   "cell_type": "code",
   "execution_count": 3,
   "id": "19e352e5",
   "metadata": {},
   "outputs": [
    {
     "data": {
      "text/html": [
       "<div><style>\n",
       ".dataframe > thead > tr,\n",
       ".dataframe > tbody > tr {\n",
       "  text-align: right;\n",
       "  white-space: pre-wrap;\n",
       "}\n",
       "</style>\n",
       "<small>shape: (8, 2)</small><table border=\"1\" class=\"dataframe\"><thead><tr><th>statistic</th><th>value</th></tr><tr><td>str</td><td>f64</td></tr></thead><tbody><tr><td>&quot;mean&quot;</td><td>494.791609</td></tr><tr><td>&quot;std&quot;</td><td>513.288314</td></tr><tr><td>&quot;50%&quot;</td><td>335.0</td></tr><tr><td>&quot;75%&quot;</td><td>676.0</td></tr><tr><td>&quot;90%&quot;</td><td>1153.0</td></tr><tr><td>&quot;95%&quot;</td><td>1543.0</td></tr><tr><td>&quot;99%&quot;</td><td>2391.0</td></tr><tr><td>&quot;max&quot;</td><td>8893.0</td></tr></tbody></table></div>"
      ],
      "text/plain": [
       "shape: (8, 2)\n",
       "┌───────────┬────────────┐\n",
       "│ statistic ┆ value      │\n",
       "│ ---       ┆ ---        │\n",
       "│ str       ┆ f64        │\n",
       "╞═══════════╪════════════╡\n",
       "│ mean      ┆ 494.791609 │\n",
       "│ std       ┆ 513.288314 │\n",
       "│ 50%       ┆ 335.0      │\n",
       "│ 75%       ┆ 676.0      │\n",
       "│ 90%       ┆ 1153.0     │\n",
       "│ 95%       ┆ 1543.0     │\n",
       "│ 99%       ┆ 2391.0     │\n",
       "│ max       ┆ 8893.0     │\n",
       "└───────────┴────────────┘"
      ]
     },
     "execution_count": 3,
     "metadata": {},
     "output_type": "execute_result"
    }
   ],
   "source": [
    "df[\"publication_date_last_pushed_date_diff\"].describe(\n",
    "    percentiles=[0.5, 0.75, 0.9, 0.95, 0.99],\n",
    ").filter(pl.col(\"statistic\").is_in([\"mean\", \"std\", \"50%\", \"75%\", \"90%\", \"95%\", \"99%\", \"max\"]))"
   ]
  },
  {
   "cell_type": "code",
   "execution_count": 4,
   "id": "506bd397",
   "metadata": {},
   "outputs": [
    {
     "data": {
      "text/html": [
       "<div><style>\n",
       ".dataframe > thead > tr,\n",
       ".dataframe > tbody > tr {\n",
       "  text-align: right;\n",
       "  white-space: pre-wrap;\n",
       "}\n",
       "</style>\n",
       "<small>shape: (8, 2)</small><table border=\"1\" class=\"dataframe\"><thead><tr><th>statistic</th><th>value</th></tr><tr><td>str</td><td>f64</td></tr></thead><tbody><tr><td>&quot;mean&quot;</td><td>0.680492</td></tr><tr><td>&quot;std&quot;</td><td>0.941044</td></tr><tr><td>&quot;50%&quot;</td><td>0.443532</td></tr><tr><td>&quot;75%&quot;</td><td>0.818617</td></tr><tr><td>&quot;90%&quot;</td><td>1.423682</td></tr><tr><td>&quot;95%&quot;</td><td>2.168378</td></tr><tr><td>&quot;99%&quot;</td><td>4.900753</td></tr><tr><td>&quot;max&quot;</td><td>22.669405</td></tr></tbody></table></div>"
      ],
      "text/plain": [
       "shape: (8, 2)\n",
       "┌───────────┬───────────┐\n",
       "│ statistic ┆ value     │\n",
       "│ ---       ┆ ---       │\n",
       "│ str       ┆ f64       │\n",
       "╞═══════════╪═══════════╡\n",
       "│ mean      ┆ 0.680492  │\n",
       "│ std       ┆ 0.941044  │\n",
       "│ 50%       ┆ 0.443532  │\n",
       "│ 75%       ┆ 0.818617  │\n",
       "│ 90%       ┆ 1.423682  │\n",
       "│ 95%       ┆ 2.168378  │\n",
       "│ 99%       ┆ 4.900753  │\n",
       "│ max       ┆ 22.669405 │\n",
       "└───────────┴───────────┘"
      ]
     },
     "execution_count": 4,
     "metadata": {},
     "output_type": "execute_result"
    }
   ],
   "source": [
    "# Same for years\n",
    "df[\"publication_date_creation_date_diff_years\"].describe(\n",
    "    percentiles=[0.5, 0.75, 0.9, 0.95, 0.99],\n",
    ").filter(pl.col(\"statistic\").is_in([\"mean\", \"std\", \"50%\", \"75%\", \"90%\", \"95%\", \"99%\", \"max\"]))"
   ]
  },
  {
   "cell_type": "code",
   "execution_count": 5,
   "id": "3d1c9f0a",
   "metadata": {},
   "outputs": [
    {
     "data": {
      "text/html": [
       "<div><style>\n",
       ".dataframe > thead > tr,\n",
       ".dataframe > tbody > tr {\n",
       "  text-align: right;\n",
       "  white-space: pre-wrap;\n",
       "}\n",
       "</style>\n",
       "<small>shape: (8, 2)</small><table border=\"1\" class=\"dataframe\"><thead><tr><th>statistic</th><th>value</th></tr><tr><td>str</td><td>f64</td></tr></thead><tbody><tr><td>&quot;mean&quot;</td><td>1.354666</td></tr><tr><td>&quot;std&quot;</td><td>1.405307</td></tr><tr><td>&quot;50%&quot;</td><td>0.91718</td></tr><tr><td>&quot;75%&quot;</td><td>1.850787</td></tr><tr><td>&quot;90%&quot;</td><td>3.156742</td></tr><tr><td>&quot;95%&quot;</td><td>4.224504</td></tr><tr><td>&quot;99%&quot;</td><td>6.546201</td></tr><tr><td>&quot;max&quot;</td><td>24.347707</td></tr></tbody></table></div>"
      ],
      "text/plain": [
       "shape: (8, 2)\n",
       "┌───────────┬───────────┐\n",
       "│ statistic ┆ value     │\n",
       "│ ---       ┆ ---       │\n",
       "│ str       ┆ f64       │\n",
       "╞═══════════╪═══════════╡\n",
       "│ mean      ┆ 1.354666  │\n",
       "│ std       ┆ 1.405307  │\n",
       "│ 50%       ┆ 0.91718   │\n",
       "│ 75%       ┆ 1.850787  │\n",
       "│ 90%       ┆ 3.156742  │\n",
       "│ 95%       ┆ 4.224504  │\n",
       "│ 99%       ┆ 6.546201  │\n",
       "│ max       ┆ 24.347707 │\n",
       "└───────────┴───────────┘"
      ]
     },
     "execution_count": 5,
     "metadata": {},
     "output_type": "execute_result"
    }
   ],
   "source": [
    "df[\"publication_date_last_pushed_date_diff_years\"].describe(\n",
    "    percentiles=[0.5, 0.75, 0.9, 0.95, 0.99],\n",
    ").filter(pl.col(\"statistic\").is_in([\"mean\", \"std\", \"50%\", \"75%\", \"90%\", \"95%\", \"99%\", \"max\"]))"
   ]
  }
 ],
 "metadata": {
  "kernelspec": {
   "display_name": "rs-graph",
   "language": "python",
   "name": "python3"
  },
  "language_info": {
   "codemirror_mode": {
    "name": "ipython",
    "version": 3
   },
   "file_extension": ".py",
   "mimetype": "text/x-python",
   "name": "python",
   "nbconvert_exporter": "python",
   "pygments_lexer": "ipython3",
   "version": "3.12.11"
  }
 },
 "nbformat": 4,
 "nbformat_minor": 5
}
