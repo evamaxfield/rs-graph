{
 "cells": [
  {
   "cell_type": "code",
   "execution_count": 1,
   "metadata": {},
   "outputs": [
    {
     "name": "stdout",
     "output_type": "stream",
     "text": [
      "30\n"
     ]
    },
    {
     "data": {
      "text/plain": [
       "RepositoryDocumentPair(source='joss', repo_url='https://github.com/nla-group/fABBA', paper_doi='10.21105/joss.06294', paper_extra_data=None)"
      ]
     },
     "execution_count": 1,
     "metadata": {},
     "output_type": "execute_result"
    }
   ],
   "source": [
    "from rs_graph.sources import joss\n",
    "from rs_graph.enrichment import open_alex\n",
    "\n",
    "joss_pairs = joss.JOSSDataSource.get_dataset()\n",
    "print(len(joss_pairs))\n",
    "joss_pairs[0]"
   ]
  },
  {
   "cell_type": "code",
   "execution_count": 2,
   "metadata": {},
   "outputs": [
    {
     "name": "stderr",
     "output_type": "stream",
     "text": [
      "Processing DOIs:   7%|▋         | 2/30 [00:06<01:33,  3.35s/it]"
     ]
    },
    {
     "name": "stdout",
     "output_type": "stream",
     "text": [
      "Something wrong with paper-repo, doi: '10.21105/joss.06181', repo: 'https://github.com/hendr1km/dropout'\n",
      "(sqlite3.IntegrityError) NOT NULL constraint failed: researcher_document_institution.researcher_document_id\n",
      "[SQL: INSERT INTO researcher_document_institution (researcher_document_id, institution_id, updated_datetime) VALUES (?, ?, ?) RETURNING id, created_datetime]\n",
      "[parameters: (None, 1, None)]\n",
      "(Background on this error at: https://sqlalche.me/e/20/gkpj)\n"
     ]
    },
    {
     "name": "stderr",
     "output_type": "stream",
     "text": [
      "Processing DOIs:  33%|███▎      | 10/30 [01:20<02:08,  6.44s/it]"
     ]
    },
    {
     "name": "stdout",
     "output_type": "stream",
     "text": [
      "Something wrong with paper-repo, doi: '10.21105/joss.06295', repo: 'https://github.com/rkingsbury/pyEQL'\n",
      "(sqlite3.IntegrityError) UNIQUE constraint failed: researcher.open_alex_id\n",
      "[SQL: INSERT INTO researcher (open_alex_id, name, works_count, cited_by_count, h_index, i10_index, two_year_mean_citedness, updated_datetime) VALUES (?, ?, ?, ?, ?, ?, ?, ?) RETURNING id, created_datetime]\n",
      "[parameters: ('https://openalex.org/A5053029311', 'Ryan Kingsbury', 55, 747, 15, 18, 6.095238095238095, None)]\n",
      "(Background on this error at: https://sqlalche.me/e/20/gkpj)\n"
     ]
    },
    {
     "name": "stderr",
     "output_type": "stream",
     "text": [
      "Processing DOIs:  37%|███▋      | 11/30 [01:24<01:49,  5.78s/it]"
     ]
    },
    {
     "name": "stdout",
     "output_type": "stream",
     "text": [
      "Something wrong with paper-repo, doi: '10.21105/joss.06500', repo: 'https://github.com/ropensci/quadkeyr'\n",
      "(sqlite3.IntegrityError) UNIQUE constraint failed: researcher.open_alex_id\n",
      "[SQL: INSERT INTO researcher (open_alex_id, name, works_count, cited_by_count, h_index, i10_index, two_year_mean_citedness, updated_datetime) VALUES (?, ?, ?, ?, ?, ?, ?, ?) RETURNING id, created_datetime]\n",
      "[parameters: ('https://openalex.org/A5049765722', 'María del Pilar Fernández', 87, 1257, 22, 34, 3.3125, None)]\n",
      "(Background on this error at: https://sqlalche.me/e/20/gkpj)\n"
     ]
    },
    {
     "name": "stderr",
     "output_type": "stream",
     "text": [
      "Processing DOIs:  40%|████      | 12/30 [01:26<01:27,  4.84s/it]"
     ]
    },
    {
     "name": "stdout",
     "output_type": "stream",
     "text": [
      "Something wrong with paper-repo, doi: '10.21105/joss.06062', repo: 'https://github.com/kdm9/Acanthophis'\n",
      "(sqlite3.IntegrityError) UNIQUE constraint failed: researcher.open_alex_id\n",
      "[SQL: INSERT INTO researcher (open_alex_id, name, works_count, cited_by_count, h_index, i10_index, two_year_mean_citedness, updated_datetime) VALUES (?, ?, ?, ?, ?, ?, ?, ?) RETURNING id, created_datetime]\n",
      "[parameters: ('https://openalex.org/A5078210447', 'Kevin Murray', 135, 2155, 25, 43, 2.6666666666666665, None)]\n",
      "(Background on this error at: https://sqlalche.me/e/20/gkpj)\n"
     ]
    },
    {
     "name": "stderr",
     "output_type": "stream",
     "text": [
      "Processing DOIs:  43%|████▎     | 13/30 [01:29<01:11,  4.22s/it]"
     ]
    },
    {
     "name": "stdout",
     "output_type": "stream",
     "text": [
      "Something wrong with paper-repo, doi: '10.21105/joss.06187', repo: 'https://github.com/calebweinreb/SNUB'\n",
      "(sqlite3.IntegrityError) UNIQUE constraint failed: researcher.open_alex_id\n",
      "[SQL: INSERT INTO researcher (open_alex_id, name, works_count, cited_by_count, h_index, i10_index, two_year_mean_citedness, updated_datetime) VALUES (?, ?, ?, ?, ?, ?, ?, ?) RETURNING id, created_datetime]\n",
      "[parameters: ('https://openalex.org/A5047450437', 'Caleb Weinreb', 47, 4876, 18, 24, 9.166666666666666, None)]\n",
      "(Background on this error at: https://sqlalche.me/e/20/gkpj)\n"
     ]
    },
    {
     "name": "stderr",
     "output_type": "stream",
     "text": [
      "Processing DOIs:  47%|████▋     | 14/30 [01:32<01:00,  3.77s/it]"
     ]
    },
    {
     "name": "stdout",
     "output_type": "stream",
     "text": [
      "Something wrong with paper-repo, doi: '10.21105/joss.05731', repo: 'https://codebase.helmholtz.cloud/mussel/netlogo-northsea-species.git'\n",
      "(sqlite3.IntegrityError) UNIQUE constraint failed: researcher.open_alex_id\n",
      "[SQL: INSERT INTO researcher (open_alex_id, name, works_count, cited_by_count, h_index, i10_index, two_year_mean_citedness, updated_datetime) VALUES (?, ?, ?, ?, ?, ?, ?, ?) RETURNING id, created_datetime]\n",
      "[parameters: ('https://openalex.org/A5006243243', 'Carsten Lemmen', 80, 1674, 17, 23, 11.5, None)]\n",
      "(Background on this error at: https://sqlalche.me/e/20/gkpj)\n"
     ]
    },
    {
     "name": "stderr",
     "output_type": "stream",
     "text": [
      "Processing DOIs: 100%|██████████| 30/30 [03:09<00:00,  6.30s/it]\n"
     ]
    }
   ],
   "source": [
    "open_alex.process_pairs(joss_pairs)"
   ]
  }
 ],
 "metadata": {
  "kernelspec": {
   "display_name": "Python 3",
   "language": "python",
   "name": "python3"
  },
  "language_info": {
   "codemirror_mode": {
    "name": "ipython",
    "version": 3
   },
   "file_extension": ".py",
   "mimetype": "text/x-python",
   "name": "python",
   "nbconvert_exporter": "python",
   "pygments_lexer": "ipython3",
   "version": "3.11.8"
  }
 },
 "nbformat": 4,
 "nbformat_minor": 2
}
