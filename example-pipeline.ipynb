{
 "cells": [
  {
   "cell_type": "code",
   "execution_count": 1,
   "metadata": {},
   "outputs": [
    {
     "name": "stdout",
     "output_type": "stream",
     "text": [
      "30\n"
     ]
    },
    {
     "data": {
      "text/plain": [
       "RepositoryDocumentPair(source='joss', repo_url='https://github.com/nla-group/fABBA', paper_doi='10.21105/joss.06294', paper_extra_data=None)"
      ]
     },
     "execution_count": 1,
     "metadata": {},
     "output_type": "execute_result"
    }
   ],
   "source": [
    "from rs_graph.sources import joss\n",
    "from rs_graph.enrichment import open_alex\n",
    "\n",
    "joss_pairs = joss.JOSSDataSource.get_dataset()\n",
    "print(len(joss_pairs))\n",
    "joss_pairs[0]"
   ]
  },
  {
   "cell_type": "code",
   "execution_count": 2,
   "metadata": {},
   "outputs": [
    {
     "name": "stderr",
     "output_type": "stream",
     "text": [
      "Processing DOIs:   3%|▎         | 1/30 [00:05<02:26,  5.07s/it]\n"
     ]
    },
    {
     "ename": "KeyboardInterrupt",
     "evalue": "",
     "output_type": "error",
     "traceback": [
      "\u001b[0;31m---------------------------------------------------------------------------\u001b[0m",
      "\u001b[0;31mKeyboardInterrupt\u001b[0m                         Traceback (most recent call last)",
      "Cell \u001b[0;32mIn[2], line 1\u001b[0m\n\u001b[0;32m----> 1\u001b[0m err \u001b[38;5;241m=\u001b[39m \u001b[43mopen_alex\u001b[49m\u001b[38;5;241;43m.\u001b[39;49m\u001b[43mprocess_pairs\u001b[49m\u001b[43m(\u001b[49m\u001b[43mjoss_pairs\u001b[49m\u001b[43m)\u001b[49m\n",
      "File \u001b[0;32m~/active/research/rs-graph/rs_graph/enrichment/open_alex.py:255\u001b[0m, in \u001b[0;36mprocess_pairs\u001b[0;34m(pairs, prod)\u001b[0m\n\u001b[1;32m    253\u001b[0m \u001b[38;5;28;01mwith\u001b[39;00m Session(engine) \u001b[38;5;28;01mas\u001b[39;00m session:\n\u001b[1;32m    254\u001b[0m     \u001b[38;5;28;01mtry\u001b[39;00m:\n\u001b[0;32m--> 255\u001b[0m         \u001b[43mprocess_pair\u001b[49m\u001b[43m(\u001b[49m\n\u001b[1;32m    256\u001b[0m \u001b[43m            \u001b[49m\u001b[43mdoi\u001b[49m\u001b[38;5;241;43m=\u001b[39;49m\u001b[43mpair\u001b[49m\u001b[38;5;241;43m.\u001b[39;49m\u001b[43mpaper_doi\u001b[49m\u001b[43m,\u001b[49m\n\u001b[1;32m    257\u001b[0m \u001b[43m            \u001b[49m\u001b[43mdataset_source_name\u001b[49m\u001b[38;5;241;43m=\u001b[39;49m\u001b[43mpair\u001b[49m\u001b[38;5;241;43m.\u001b[39;49m\u001b[43msource\u001b[49m\u001b[43m,\u001b[49m\n\u001b[1;32m    258\u001b[0m \u001b[43m            \u001b[49m\u001b[43msession\u001b[49m\u001b[38;5;241;43m=\u001b[39;49m\u001b[43msession\u001b[49m\u001b[43m,\u001b[49m\n\u001b[1;32m    259\u001b[0m \u001b[43m        \u001b[49m\u001b[43m)\u001b[49m\n\u001b[1;32m    260\u001b[0m     \u001b[38;5;28;01mexcept\u001b[39;00m \u001b[38;5;167;01mException\u001b[39;00m \u001b[38;5;28;01mas\u001b[39;00m e:\n\u001b[1;32m    261\u001b[0m         \u001b[38;5;66;03m# If something goes wrong with anything, rollback this pair's session\u001b[39;00m\n\u001b[1;32m    262\u001b[0m         session\u001b[38;5;241m.\u001b[39mrollback()\n",
      "File \u001b[0;32m~/active/research/rs-graph/rs_graph/enrichment/open_alex.py:118\u001b[0m, in \u001b[0;36mprocess_pair\u001b[0;34m(doi, dataset_source_name, session)\u001b[0m\n\u001b[1;32m    116\u001b[0m \u001b[38;5;250m\u001b[39m\u001b[38;5;124;03m\"\"\"Process a DOI.\"\"\"\u001b[39;00m\n\u001b[1;32m    117\u001b[0m \u001b[38;5;66;03m# Get the OpenAlex work\u001b[39;00m\n\u001b[0;32m--> 118\u001b[0m open_alex_work \u001b[38;5;241m=\u001b[39m \u001b[43mget_open_alex_work_from_doi\u001b[49m\u001b[43m(\u001b[49m\u001b[43mdoi\u001b[49m\u001b[43m)\u001b[49m\n\u001b[1;32m    120\u001b[0m \u001b[38;5;66;03m# Convert inverted index abstract to string\u001b[39;00m\n\u001b[1;32m    121\u001b[0m \u001b[38;5;28;01mif\u001b[39;00m open_alex_work[\u001b[38;5;124m\"\u001b[39m\u001b[38;5;124mabstract_inverted_index\u001b[39m\u001b[38;5;124m\"\u001b[39m] \u001b[38;5;129;01mis\u001b[39;00m \u001b[38;5;28;01mNone\u001b[39;00m:\n",
      "File \u001b[0;32m~/active/research/rs-graph/rs_graph/enrichment/open_alex.py:76\u001b[0m, in \u001b[0;36mget_open_alex_work_from_doi\u001b[0;34m(doi)\u001b[0m\n\u001b[1;32m     73\u001b[0m \u001b[38;5;28;01mif\u001b[39;00m \u001b[38;5;124m\"\u001b[39m\u001b[38;5;124mdoi.org\u001b[39m\u001b[38;5;124m\"\u001b[39m \u001b[38;5;129;01mnot\u001b[39;00m \u001b[38;5;129;01min\u001b[39;00m doi:\n\u001b[1;32m     74\u001b[0m     doi \u001b[38;5;241m=\u001b[39m \u001b[38;5;124mf\u001b[39m\u001b[38;5;124m\"\u001b[39m\u001b[38;5;124mhttps://doi.org/\u001b[39m\u001b[38;5;132;01m{\u001b[39;00mdoi\u001b[38;5;132;01m}\u001b[39;00m\u001b[38;5;124m\"\u001b[39m\n\u001b[0;32m---> 76\u001b[0m \u001b[43m_increment_call_count_and_check\u001b[49m\u001b[43m(\u001b[49m\u001b[43m)\u001b[49m\n\u001b[1;32m     77\u001b[0m \u001b[38;5;28;01mreturn\u001b[39;00m pyalex\u001b[38;5;241m.\u001b[39mWorks()[doi]\n",
      "File \u001b[0;32m~/active/research/rs-graph/rs_graph/enrichment/open_alex.py:58\u001b[0m, in \u001b[0;36m_increment_call_count_and_check\u001b[0;34m()\u001b[0m\n\u001b[1;32m     55\u001b[0m API_CALL_COUNT \u001b[38;5;241m+\u001b[39m\u001b[38;5;241m=\u001b[39m \u001b[38;5;241m1\u001b[39m\n\u001b[1;32m     57\u001b[0m \u001b[38;5;66;03m# Sleep to also help this\u001b[39;00m\n\u001b[0;32m---> 58\u001b[0m \u001b[43mtime\u001b[49m\u001b[38;5;241;43m.\u001b[39;49m\u001b[43msleep\u001b[49m\u001b[43m(\u001b[49m\u001b[38;5;241;43m1\u001b[39;49m\u001b[43m)\u001b[49m\n\u001b[1;32m     60\u001b[0m \u001b[38;5;66;03m# If we've made 90,000 calls in a single day raise an error\u001b[39;00m\n\u001b[1;32m     61\u001b[0m \u001b[38;5;28;01mif\u001b[39;00m API_CALL_COUNT \u001b[38;5;241m>\u001b[39m\u001b[38;5;241m=\u001b[39m \u001b[38;5;241m90_000\u001b[39m:\n",
      "\u001b[0;31mKeyboardInterrupt\u001b[0m: "
     ]
    }
   ],
   "source": [
    "err = open_alex.process_pairs(joss_pairs)"
   ]
  },
  {
   "cell_type": "code",
   "execution_count": null,
   "metadata": {},
   "outputs": [],
   "source": [
    "# Run it again to see if we get any errors\n",
    "err_2 = open_alex.process_pairs(joss_pairs)"
   ]
  },
  {
   "cell_type": "code",
   "execution_count": null,
   "metadata": {},
   "outputs": [],
   "source": []
  }
 ],
 "metadata": {
  "kernelspec": {
   "display_name": "Python 3",
   "language": "python",
   "name": "python3"
  },
  "language_info": {
   "codemirror_mode": {
    "name": "ipython",
    "version": 3
   },
   "file_extension": ".py",
   "mimetype": "text/x-python",
   "name": "python",
   "nbconvert_exporter": "python",
   "pygments_lexer": "ipython3",
   "version": "3.11.8"
  }
 },
 "nbformat": 4,
 "nbformat_minor": 2
}
