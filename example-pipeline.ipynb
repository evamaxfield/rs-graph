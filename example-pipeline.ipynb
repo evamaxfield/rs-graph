{
 "cells": [
  {
   "cell_type": "code",
   "execution_count": 5,
   "metadata": {},
   "outputs": [
    {
     "name": "stdout",
     "output_type": "stream",
     "text": [
      "30\n"
     ]
    },
    {
     "data": {
      "text/plain": [
       "[RepositoryDocumentPair(source='joss', repo_url='https://github.com/Yu-Group/simChef', paper_doi='10.21105/joss.06156', paper_extra_data=None),\n",
       " RepositoryDocumentPair(source='joss', repo_url='https://github.com/shaelebrown/TDApplied', paper_doi='10.21105/joss.06321', paper_extra_data=None),\n",
       " RepositoryDocumentPair(source='joss', repo_url='https://github.com/Pometry/Raphtory', paper_doi='10.21105/joss.05940', paper_extra_data=None),\n",
       " RepositoryDocumentPair(source='joss', repo_url='https://github.com/tkchafin/autostreamtree', paper_doi='10.21105/joss.06160', paper_extra_data=None),\n",
       " RepositoryDocumentPair(source='joss', repo_url='https://github.com/AndresRTejedor/Mold', paper_doi='10.21105/joss.06083', paper_extra_data=None),\n",
       " RepositoryDocumentPair(source='joss', repo_url='https://github.com/HofstadterTools/HofstadterTools', paper_doi='10.21105/joss.06356', paper_extra_data=None),\n",
       " RepositoryDocumentPair(source='joss', repo_url='https://gitlab.com/bonsamurais/bonsai/util/ipcc', paper_doi='10.21105/joss.06123', paper_extra_data=None),\n",
       " RepositoryDocumentPair(source='joss', repo_url='https://github.com/rkingsbury/pyEQL', paper_doi='10.21105/joss.06295', paper_extra_data=None),\n",
       " RepositoryDocumentPair(source='joss', repo_url='https://github.com/ropensci/quadkeyr', paper_doi='10.21105/joss.06500', paper_extra_data=None),\n",
       " RepositoryDocumentPair(source='joss', repo_url='https://github.com/kdm9/Acanthophis', paper_doi='10.21105/joss.06062', paper_extra_data=None),\n",
       " RepositoryDocumentPair(source='joss', repo_url='https://github.com/calebweinreb/SNUB', paper_doi='10.21105/joss.06187', paper_extra_data=None),\n",
       " RepositoryDocumentPair(source='joss', repo_url='https://codebase.helmholtz.cloud/mussel/netlogo-northsea-species.git', paper_doi='10.21105/joss.05731', paper_extra_data=None),\n",
       " RepositoryDocumentPair(source='joss', repo_url='https://github.com/firedrakeproject/checkpoint_schedules', paper_doi='10.21105/joss.06148', paper_extra_data=None),\n",
       " RepositoryDocumentPair(source='joss', repo_url='https://github.com/Open-Minds-Lab/MRdataset', paper_doi='10.21105/joss.06269', paper_extra_data=None),\n",
       " RepositoryDocumentPair(source='joss', repo_url='https://github.com/suneeshjacob/ACRoD', paper_doi='10.21105/joss.05927', paper_extra_data=None),\n",
       " RepositoryDocumentPair(source='joss', repo_url='https://github.com/frank1010111/pywaterflood', paper_doi='10.21105/joss.06191', paper_extra_data=None),\n",
       " RepositoryDocumentPair(source='joss', repo_url='https://github.com/UTEL-UIUC/gtfs_segments', paper_doi='10.21105/joss.06306', paper_extra_data=None),\n",
       " RepositoryDocumentPair(source='joss', repo_url='https://github.com/ahudde/greeks', paper_doi='10.21105/joss.05987', paper_extra_data=None),\n",
       " RepositoryDocumentPair(source='joss', repo_url='https://github.com/uw-comphys/shapelets', paper_doi='10.21105/joss.06058', paper_extra_data=None),\n",
       " RepositoryDocumentPair(source='joss', repo_url='https://github.com/JuliaAI/Imbalance.jl', paper_doi='10.21105/joss.06310', paper_extra_data=None),\n",
       " RepositoryDocumentPair(source='joss', repo_url='https://github.com/MedMaxLab/selfEEG', paper_doi='10.21105/joss.06224', paper_extra_data=None),\n",
       " RepositoryDocumentPair(source='joss', repo_url='https://github.com/seamplex/feenox/', paper_doi='10.21105/joss.05846', paper_extra_data=None),\n",
       " RepositoryDocumentPair(source='joss', repo_url='https://github.com/FabianPlum/OmniTrax', paper_doi='10.21105/joss.05549', paper_extra_data=None),\n",
       " RepositoryDocumentPair(source='joss', repo_url='https://github.com/RJArthern/WAVI.jl', paper_doi='10.21105/joss.05584', paper_extra_data=None),\n",
       " RepositoryDocumentPair(source='joss', repo_url='https://github.com/NSAPH-Software/GPCERF', paper_doi='10.21105/joss.05465', paper_extra_data=None),\n",
       " RepositoryDocumentPair(source='joss', repo_url='http://github.com/pylops/pyproximal/', paper_doi='10.21105/joss.06326', paper_extra_data=None),\n",
       " RepositoryDocumentPair(source='joss', repo_url='https://github.com/chadagreene/Tide-Model-Driver', paper_doi='10.21105/joss.06018', paper_extra_data=None),\n",
       " RepositoryDocumentPair(source='joss', repo_url='https://github.com/FAU-LAP/NOMAD-CAMELS', paper_doi='10.21105/joss.06371', paper_extra_data=None),\n",
       " RepositoryDocumentPair(source='joss', repo_url='https://github.com/moritzobenauer/ProjectRaccoon', paper_doi='10.21105/joss.06293', paper_extra_data=None),\n",
       " RepositoryDocumentPair(source='joss', repo_url='https://github.com/pnnl/HyperNetX', paper_doi='10.21105/joss.06016', paper_extra_data=None)]"
      ]
     },
     "execution_count": 5,
     "metadata": {},
     "output_type": "execute_result"
    }
   ],
   "source": [
    "from rs_graph.sources import joss\n",
    "from rs_graph.enrichment import open_alex\n",
    "\n",
    "joss_pairs = joss.JOSSDataSource.get_dataset()\n",
    "print(len(joss_pairs))\n",
    "joss_pairs[0]"
   ]
  },
  {
   "cell_type": "code",
   "execution_count": 2,
   "metadata": {},
   "outputs": [
    {
     "name": "stderr",
     "output_type": "stream",
     "text": [
      "Processing DOIs:   3%|▎         | 1/30 [00:01<00:36,  1.26s/it]"
     ]
    },
    {
     "name": "stdout",
     "output_type": "stream",
     "text": [
      "DOI 10.21105/joss.06156 not found in OpenAlex\n"
     ]
    },
    {
     "name": "stderr",
     "output_type": "stream",
     "text": [
      "Processing DOIs:   7%|▋         | 2/30 [00:02<00:35,  1.27s/it]"
     ]
    },
    {
     "name": "stdout",
     "output_type": "stream",
     "text": [
      "DOI 10.21105/joss.06321 not found in OpenAlex\n"
     ]
    },
    {
     "name": "stderr",
     "output_type": "stream",
     "text": [
      "Processing DOIs:  10%|█         | 3/30 [00:03<00:34,  1.27s/it]"
     ]
    },
    {
     "name": "stdout",
     "output_type": "stream",
     "text": [
      "DOI 10.21105/joss.05940 not found in OpenAlex\n"
     ]
    },
    {
     "name": "stderr",
     "output_type": "stream",
     "text": [
      "Processing DOIs:  13%|█▎        | 4/30 [00:05<00:32,  1.27s/it]"
     ]
    },
    {
     "name": "stdout",
     "output_type": "stream",
     "text": [
      "DOI 10.21105/joss.06160 not found in OpenAlex\n"
     ]
    },
    {
     "name": "stderr",
     "output_type": "stream",
     "text": [
      "Processing DOIs:  17%|█▋        | 5/30 [00:06<00:32,  1.29s/it]"
     ]
    },
    {
     "name": "stdout",
     "output_type": "stream",
     "text": [
      "DOI 10.21105/joss.06083 not found in OpenAlex\n"
     ]
    },
    {
     "name": "stderr",
     "output_type": "stream",
     "text": [
      "Processing DOIs:  20%|██        | 6/30 [00:07<00:30,  1.29s/it]"
     ]
    },
    {
     "name": "stdout",
     "output_type": "stream",
     "text": [
      "DOI 10.21105/joss.06356 not found in OpenAlex\n"
     ]
    },
    {
     "name": "stderr",
     "output_type": "stream",
     "text": [
      "Processing DOIs:  23%|██▎       | 7/30 [00:08<00:29,  1.28s/it]"
     ]
    },
    {
     "name": "stdout",
     "output_type": "stream",
     "text": [
      "DOI 10.21105/joss.06123 not found in OpenAlex\n"
     ]
    },
    {
     "name": "stderr",
     "output_type": "stream",
     "text": [
      "Processing DOIs:  23%|██▎       | 7/30 [00:10<00:33,  1.46s/it]\n"
     ]
    },
    {
     "ename": "AttributeError",
     "evalue": "'NoneType' object has no attribute 'items'",
     "output_type": "error",
     "traceback": [
      "\u001b[0;31m---------------------------------------------------------------------------\u001b[0m",
      "\u001b[0;31mAttributeError\u001b[0m                            Traceback (most recent call last)",
      "Cell \u001b[0;32mIn[2], line 1\u001b[0m\n\u001b[0;32m----> 1\u001b[0m \u001b[43mopen_alex\u001b[49m\u001b[38;5;241;43m.\u001b[39;49m\u001b[43mprocess_pairs\u001b[49m\u001b[43m(\u001b[49m\u001b[43mjoss_pairs\u001b[49m\u001b[43m)\u001b[49m\n",
      "File \u001b[0;32m~/active/research/rs-graph/rs_graph/enrichment/open_alex.py:240\u001b[0m, in \u001b[0;36mprocess_pairs\u001b[0;34m(pairs, prod)\u001b[0m\n\u001b[1;32m    235\u001b[0m \u001b[38;5;28;01mfor\u001b[39;00m pair \u001b[38;5;129;01min\u001b[39;00m tqdm(\n\u001b[1;32m    236\u001b[0m     pairs,\n\u001b[1;32m    237\u001b[0m     desc\u001b[38;5;241m=\u001b[39m\u001b[38;5;124m\"\u001b[39m\u001b[38;5;124mProcessing DOIs\u001b[39m\u001b[38;5;124m\"\u001b[39m,\n\u001b[1;32m    238\u001b[0m ):\n\u001b[1;32m    239\u001b[0m     \u001b[38;5;28;01mtry\u001b[39;00m:\n\u001b[0;32m--> 240\u001b[0m         \u001b[43mprocess_pair\u001b[49m\u001b[43m(\u001b[49m\n\u001b[1;32m    241\u001b[0m \u001b[43m            \u001b[49m\u001b[43mdoi\u001b[49m\u001b[38;5;241;43m=\u001b[39;49m\u001b[43mpair\u001b[49m\u001b[38;5;241;43m.\u001b[39;49m\u001b[43mpaper_doi\u001b[49m\u001b[43m,\u001b[49m\n\u001b[1;32m    242\u001b[0m \u001b[43m            \u001b[49m\u001b[43mdataset_source\u001b[49m\u001b[38;5;241;43m=\u001b[39;49m\u001b[43mpair\u001b[49m\u001b[38;5;241;43m.\u001b[39;49m\u001b[43msource\u001b[49m\u001b[43m,\u001b[49m\n\u001b[1;32m    243\u001b[0m \u001b[43m            \u001b[49m\u001b[43msession\u001b[49m\u001b[38;5;241;43m=\u001b[39;49m\u001b[43msession\u001b[49m\u001b[43m,\u001b[49m\n\u001b[1;32m    244\u001b[0m \u001b[43m        \u001b[49m\u001b[43m)\u001b[49m\n\u001b[1;32m    245\u001b[0m     \u001b[38;5;28;01mexcept\u001b[39;00m requests\u001b[38;5;241m.\u001b[39mexceptions\u001b[38;5;241m.\u001b[39mHTTPError \u001b[38;5;28;01mas\u001b[39;00m e:\n\u001b[1;32m    246\u001b[0m         \u001b[38;5;28;01mif\u001b[39;00m \u001b[38;5;124m\"\u001b[39m\u001b[38;5;124m404 Client Error\u001b[39m\u001b[38;5;124m\"\u001b[39m \u001b[38;5;129;01min\u001b[39;00m \u001b[38;5;28mstr\u001b[39m(e):\n",
      "File \u001b[0;32m~/active/research/rs-graph/rs_graph/enrichment/open_alex.py:116\u001b[0m, in \u001b[0;36mprocess_pair\u001b[0;34m(doi, dataset_source, session)\u001b[0m\n\u001b[1;32m    113\u001b[0m open_alex_work \u001b[38;5;241m=\u001b[39m get_open_alex_work_from_doi(doi)\n\u001b[1;32m    115\u001b[0m \u001b[38;5;66;03m# Convert inverted index abstract to string\u001b[39;00m\n\u001b[0;32m--> 116\u001b[0m abstract_text \u001b[38;5;241m=\u001b[39m \u001b[43mconvert_from_inverted_index_abstract\u001b[49m\u001b[43m(\u001b[49m\n\u001b[1;32m    117\u001b[0m \u001b[43m    \u001b[49m\u001b[43mopen_alex_work\u001b[49m\u001b[43m[\u001b[49m\u001b[38;5;124;43m\"\u001b[39;49m\u001b[38;5;124;43mabstract_inverted_index\u001b[39;49m\u001b[38;5;124;43m\"\u001b[39;49m\u001b[43m]\u001b[49m\n\u001b[1;32m    118\u001b[0m \u001b[43m\u001b[49m\u001b[43m)\u001b[49m\n\u001b[1;32m    120\u001b[0m \u001b[38;5;66;03m# Create the Document\u001b[39;00m\n\u001b[1;32m    121\u001b[0m document \u001b[38;5;241m=\u001b[39m models\u001b[38;5;241m.\u001b[39mDocument(\n\u001b[1;32m    122\u001b[0m     doi\u001b[38;5;241m=\u001b[39mdoi,\n\u001b[1;32m    123\u001b[0m     open_alex_id\u001b[38;5;241m=\u001b[39mopen_alex_work[\u001b[38;5;124m\"\u001b[39m\u001b[38;5;124mid\u001b[39m\u001b[38;5;124m\"\u001b[39m],\n\u001b[0;32m   (...)\u001b[0m\n\u001b[1;32m    130\u001b[0m     dataset_source_id\u001b[38;5;241m=\u001b[39mdataset_source\u001b[38;5;241m.\u001b[39mid,\n\u001b[1;32m    131\u001b[0m )\n",
      "File \u001b[0;32m~/active/research/rs-graph/rs_graph/enrichment/open_alex.py:92\u001b[0m, in \u001b[0;36mconvert_from_inverted_index_abstract\u001b[0;34m(abstract)\u001b[0m\n\u001b[1;32m     78\u001b[0m \u001b[38;5;28;01mdef\u001b[39;00m \u001b[38;5;21mconvert_from_inverted_index_abstract\u001b[39m(abstract: \u001b[38;5;28mdict\u001b[39m) \u001b[38;5;241m-\u001b[39m\u001b[38;5;241m>\u001b[39m \u001b[38;5;28mstr\u001b[39m:\n\u001b[1;32m     79\u001b[0m     \u001b[38;5;66;03m# Inverted index looks like:\u001b[39;00m\n\u001b[1;32m     80\u001b[0m     \u001b[38;5;66;03m# {\u001b[39;00m\n\u001b[0;32m   (...)\u001b[0m\n\u001b[1;32m     89\u001b[0m     \u001b[38;5;66;03m# Convert to:\u001b[39;00m\n\u001b[1;32m     90\u001b[0m     \u001b[38;5;66;03m# \"Despite growing interest in Open Access ...\"\u001b[39;00m\n\u001b[1;32m     91\u001b[0m     abstract_as_list: \u001b[38;5;28mlist\u001b[39m[\u001b[38;5;28mstr\u001b[39m] \u001b[38;5;241m=\u001b[39m []\n\u001b[0;32m---> 92\u001b[0m     \u001b[38;5;28;01mfor\u001b[39;00m word, indices \u001b[38;5;129;01min\u001b[39;00m \u001b[43mabstract\u001b[49m\u001b[38;5;241;43m.\u001b[39;49m\u001b[43mitems\u001b[49m():\n\u001b[1;32m     93\u001b[0m         \u001b[38;5;28;01mfor\u001b[39;00m index \u001b[38;5;129;01min\u001b[39;00m indices:\n\u001b[1;32m     94\u001b[0m             abstract_as_list[index] \u001b[38;5;241m=\u001b[39m word\n",
      "\u001b[0;31mAttributeError\u001b[0m: 'NoneType' object has no attribute 'items'"
     ]
    }
   ],
   "source": [
    "open_alex.process_pairs(joss_pairs)"
   ]
  }
 ],
 "metadata": {
  "kernelspec": {
   "display_name": "Python 3",
   "language": "python",
   "name": "python3"
  },
  "language_info": {
   "codemirror_mode": {
    "name": "ipython",
    "version": 3
   },
   "file_extension": ".py",
   "mimetype": "text/x-python",
   "name": "python",
   "nbconvert_exporter": "python",
   "pygments_lexer": "ipython3",
   "version": "3.11.8"
  }
 },
 "nbformat": 4,
 "nbformat_minor": 2
}
