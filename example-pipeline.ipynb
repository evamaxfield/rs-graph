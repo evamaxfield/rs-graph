{
 "cells": [
  {
   "cell_type": "code",
   "execution_count": 1,
   "metadata": {},
   "outputs": [
    {
     "name": "stdout",
     "output_type": "stream",
     "text": [
      "30\n"
     ]
    },
    {
     "data": {
      "text/plain": [
       "RepositoryDocumentPair(source='joss', repo_url='https://github.com/nla-group/fABBA', paper_doi='10.21105/joss.06294', paper_extra_data=None)"
      ]
     },
     "execution_count": 1,
     "metadata": {},
     "output_type": "execute_result"
    }
   ],
   "source": [
    "from rs_graph.sources import joss\n",
    "from rs_graph.enrichment import open_alex\n",
    "\n",
    "joss_pairs = joss.JOSSDataSource.get_dataset()\n",
    "print(len(joss_pairs))\n",
    "joss_pairs[0]"
   ]
  },
  {
   "cell_type": "code",
   "execution_count": 2,
   "metadata": {},
   "outputs": [
    {
     "name": "stderr",
     "output_type": "stream",
     "text": [
      "Processing DOIs: 100%|██████████| 30/30 [03:34<00:00,  7.15s/it]\n"
     ]
    }
   ],
   "source": [
    "suc, err = open_alex.process_pairs(joss_pairs)"
   ]
  },
  {
   "cell_type": "code",
   "execution_count": 3,
   "metadata": {},
   "outputs": [
    {
     "name": "stderr",
     "output_type": "stream",
     "text": [
      "Processing DOIs: 100%|██████████| 30/30 [03:17<00:00,  6.57s/it]\n"
     ]
    }
   ],
   "source": [
    "# Run it again to see if we get any errors\n",
    "suc_2, err_2 = open_alex.process_pairs(joss_pairs)"
   ]
  },
  {
   "cell_type": "code",
   "execution_count": 4,
   "metadata": {},
   "outputs": [
    {
     "data": {
      "text/plain": [
       "([ErrorResult(identifier='joss -- 10.21105/joss.05731', step='OpenAlex Processing', error=\"(sqlite3.IntegrityError) UNIQUE constraint failed: researcher_document.researcher_id, researcher_document.document_id\\n[SQL: INSERT INTO researcher_document (researcher_id, document_id, position, is_corresponding, updated_datetime) VALUES (?, ?, ?, ?, ?) RETURNING id, created_datetime]\\n[parameters: (57, 14, 'middle', 0, None)]\\n(Background on this error at: https://sqlalche.me/e/20/gkpj)\")],\n",
       " [ErrorResult(identifier='joss -- 10.21105/joss.05731', step='OpenAlex Processing', error=\"(sqlite3.IntegrityError) UNIQUE constraint failed: researcher_document.researcher_id, researcher_document.document_id\\n[SQL: INSERT INTO researcher_document (researcher_id, document_id, position, is_corresponding, updated_datetime) VALUES (?, ?, ?, ?, ?) RETURNING id, created_datetime]\\n[parameters: (57, 14, 'middle', 0, None)]\\n(Background on this error at: https://sqlalche.me/e/20/gkpj)\")])"
      ]
     },
     "execution_count": 4,
     "metadata": {},
     "output_type": "execute_result"
    }
   ],
   "source": [
    "err, err_2"
   ]
  },
  {
   "cell_type": "code",
   "execution_count": null,
   "metadata": {},
   "outputs": [],
   "source": []
  }
 ],
 "metadata": {
  "kernelspec": {
   "display_name": "Python 3",
   "language": "python",
   "name": "python3"
  },
  "language_info": {
   "codemirror_mode": {
    "name": "ipython",
    "version": 3
   },
   "file_extension": ".py",
   "mimetype": "text/x-python",
   "name": "python",
   "nbconvert_exporter": "python",
   "pygments_lexer": "ipython3",
   "version": "3.11.8"
  }
 },
 "nbformat": 4,
 "nbformat_minor": 2
}
