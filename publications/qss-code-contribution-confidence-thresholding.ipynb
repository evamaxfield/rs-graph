{
 "cells": [
  {
   "cell_type": "code",
   "execution_count": null,
   "id": "825617a0-03dc-442c-a803-689d9cfc11a4",
   "metadata": {},
   "outputs": [],
   "source": [
    "import pandas as pd\n",
    "import seaborn as sns\n",
    "from sqlalchemy import create_engine, text\n",
    "\n",
    "from rs_graph.db import models as db_models\n",
    "\n",
    "# Create a connection to the database\n",
    "engine = create_engine(\"sqlite:///rs_graph/data/files/rs-graph-v1-prod.db\")\n",
    "\n",
    "# Helper function to make this easy\n",
    "\n",
    "\n",
    "def read_table(table: str) -> pd.DataFrame:\n",
    "    return pd.read_sql(text(f\"SELECT * FROM {table}\"), engine)\n",
    "\n",
    "\n",
    "# Load all author developer links, authors, and devs\n",
    "researcher_dev_links = read_table(\n",
    "    db_models.ResearcherDeveloperAccountLink.__tablename__\n",
    ")\n",
    "researchers = read_table(db_models.Researcher.__tablename__)\n",
    "devs = read_table(db_models.DeveloperAccount.__tablename__)"
   ]
  },
  {
   "cell_type": "code",
   "execution_count": 2,
   "id": "8282d53e-94e5-413e-8c75-02d2905eb007",
   "metadata": {},
   "outputs": [
    {
     "data": {
      "text/html": [
       "<div>\n",
       "<style scoped>\n",
       "    .dataframe tbody tr th:only-of-type {\n",
       "        vertical-align: middle;\n",
       "    }\n",
       "\n",
       "    .dataframe tbody tr th {\n",
       "        vertical-align: top;\n",
       "    }\n",
       "\n",
       "    .dataframe thead th {\n",
       "        text-align: right;\n",
       "    }\n",
       "</style>\n",
       "<table border=\"1\" class=\"dataframe\">\n",
       "  <thead>\n",
       "    <tr style=\"text-align: right;\">\n",
       "      <th></th>\n",
       "      <th>researcher_name</th>\n",
       "      <th>dev_username</th>\n",
       "      <th>dev_provided_name</th>\n",
       "      <th>confidence</th>\n",
       "    </tr>\n",
       "  </thead>\n",
       "  <tbody>\n",
       "    <tr>\n",
       "      <th>29058</th>\n",
       "      <td>Rosana Montes</td>\n",
       "      <td>rosanamontes</td>\n",
       "      <td>Rosana Montes</td>\n",
       "      <td>0.984611</td>\n",
       "    </tr>\n",
       "    <tr>\n",
       "      <th>68484</th>\n",
       "      <td>Antón Filatov</td>\n",
       "      <td>art32fil</td>\n",
       "      <td>Artyom Filatov</td>\n",
       "      <td>0.985101</td>\n",
       "    </tr>\n",
       "    <tr>\n",
       "      <th>53760</th>\n",
       "      <td>Krishna Sri Ipsit Mantri</td>\n",
       "      <td>ipsitmantri</td>\n",
       "      <td>Ipsit Mantri</td>\n",
       "      <td>0.984943</td>\n",
       "    </tr>\n",
       "    <tr>\n",
       "      <th>66014</th>\n",
       "      <td>Heiko Hoppe</td>\n",
       "      <td>HeikoFHH</td>\n",
       "      <td>Heiko Hoppe</td>\n",
       "      <td>0.985074</td>\n",
       "    </tr>\n",
       "    <tr>\n",
       "      <th>8764</th>\n",
       "      <td>Florin Gogianu</td>\n",
       "      <td>floringogianu</td>\n",
       "      <td>Florin Gogianu</td>\n",
       "      <td>0.983929</td>\n",
       "    </tr>\n",
       "    <tr>\n",
       "      <th>55937</th>\n",
       "      <td>Mehmet Saygın Seyfioğlu</td>\n",
       "      <td>aldraus</td>\n",
       "      <td>Saygin</td>\n",
       "      <td>0.984967</td>\n",
       "    </tr>\n",
       "    <tr>\n",
       "      <th>88596</th>\n",
       "      <td>Junyi Lu</td>\n",
       "      <td>Junyi-L</td>\n",
       "      <td>JL</td>\n",
       "      <td>0.985411</td>\n",
       "    </tr>\n",
       "    <tr>\n",
       "      <th>52891</th>\n",
       "      <td>Yichao Gao</td>\n",
       "      <td>Einholz-Gao</td>\n",
       "      <td>Yichao Gao</td>\n",
       "      <td>0.984933</td>\n",
       "    </tr>\n",
       "    <tr>\n",
       "      <th>69261</th>\n",
       "      <td>Nicole Han</td>\n",
       "      <td>nicole7han</td>\n",
       "      <td>Nicole Han</td>\n",
       "      <td>0.985109</td>\n",
       "    </tr>\n",
       "    <tr>\n",
       "      <th>85642</th>\n",
       "      <td>Nicholas Horne</td>\n",
       "      <td>nicholashorne1</td>\n",
       "      <td>None</td>\n",
       "      <td>0.985342</td>\n",
       "    </tr>\n",
       "  </tbody>\n",
       "</table>\n",
       "</div>"
      ],
      "text/plain": [
       "                researcher_name    dev_username dev_provided_name  confidence\n",
       "29058             Rosana Montes    rosanamontes     Rosana Montes    0.984611\n",
       "68484             Antón Filatov        art32fil    Artyom Filatov    0.985101\n",
       "53760  Krishna Sri Ipsit Mantri     ipsitmantri      Ipsit Mantri    0.984943\n",
       "66014               Heiko Hoppe        HeikoFHH       Heiko Hoppe    0.985074\n",
       "8764             Florin Gogianu   floringogianu    Florin Gogianu    0.983929\n",
       "55937   Mehmet Saygın Seyfioğlu         aldraus            Saygin    0.984967\n",
       "88596                  Junyi Lu         Junyi-L                JL    0.985411\n",
       "52891                Yichao Gao     Einholz-Gao        Yichao Gao    0.984933\n",
       "69261                Nicole Han      nicole7han        Nicole Han    0.985109\n",
       "85642            Nicholas Horne  nicholashorne1              None    0.985342"
      ]
     },
     "execution_count": 2,
     "metadata": {},
     "output_type": "execute_result"
    }
   ],
   "source": [
    "reduced_dev_links = (\n",
    "    researcher_dev_links.sort_values(\n",
    "        by=\"predictive_model_confidence\",\n",
    "        ascending=False,\n",
    "    )\n",
    "    .drop_duplicates(\n",
    "        subset=[\"developer_account_id\"],\n",
    "        keep=\"first\",\n",
    "    )\n",
    "    .drop_duplicates(\n",
    "        subset=[\"researcher_id\"],\n",
    "        keep=\"first\",\n",
    "    )\n",
    "    .copy()\n",
    ")\n",
    "\n",
    "# Select columns of interest, change column names, and merge\n",
    "merged = (\n",
    "    reduced_dev_links[\n",
    "        [\n",
    "            \"researcher_id\",\n",
    "            \"developer_account_id\",\n",
    "            \"predictive_model_confidence\",\n",
    "        ]\n",
    "    ]\n",
    "    .rename(\n",
    "        columns={\n",
    "            \"predictive_model_confidence\": \"confidence\",\n",
    "        },\n",
    "    )\n",
    "    .merge(\n",
    "        researchers[[\"id\", \"name\"]].rename(\n",
    "            columns={\n",
    "                \"id\": \"researcher_id\",\n",
    "                \"name\": \"researcher_name\",\n",
    "            },\n",
    "        ),\n",
    "        on=\"researcher_id\",\n",
    "    )\n",
    "    .merge(\n",
    "        devs[[\"id\", \"username\", \"name\"]].rename(\n",
    "            columns={\n",
    "                \"id\": \"developer_account_id\",\n",
    "                \"username\": \"dev_username\",\n",
    "                \"name\": \"dev_provided_name\",\n",
    "            },\n",
    "        ),\n",
    "        on=\"developer_account_id\",\n",
    "    )\n",
    ")\n",
    "final_set = (\n",
    "    merged.drop(\n",
    "        columns=[\n",
    "            \"researcher_id\",\n",
    "            \"developer_account_id\",\n",
    "        ],\n",
    "    )[\n",
    "        [\n",
    "            \"researcher_name\",\n",
    "            \"dev_username\",\n",
    "            \"dev_provided_name\",\n",
    "            \"confidence\",\n",
    "        ]\n",
    "    ]\n",
    "    .loc[merged[\"confidence\"] >= 0.97]\n",
    "    .sort_values(by=\"confidence\")\n",
    "    .reset_index(drop=True)\n",
    ")\n",
    "\n",
    "final_set.sample(10, random_state=42)"
   ]
  },
  {
   "cell_type": "code",
   "execution_count": null,
   "id": "0bffe8f2-fbe0-44ea-9dda-84906c46f740",
   "metadata": {},
   "outputs": [
    {
     "data": {
      "text/plain": [
       "<seaborn.axisgrid.FacetGrid at 0x159a82c00>"
      ]
     },
     "execution_count": 3,
     "metadata": {},
     "output_type": "execute_result"
    },
    {
     "data": {
      "image/png": "[encoded data removed]",
      "text/plain": [
       "<Figure size 500x500 with 1 Axes>"
      ]
     },
     "metadata": {},
     "output_type": "display_data"
    }
   ],
   "source": [
    "# Plot the distribution of confidence values in this final set\n",
    "sns.displot(researcher_dev_links, x=\"predictive_model_confidence\", kind=\"ecdf\")"
   ]
  },
  {
   "cell_type": "code",
   "execution_count": 4,
   "id": "53412be7-ef93-4394-bae4-d40479bcce62",
   "metadata": {},
   "outputs": [
    {
     "data": {
      "text/plain": [
       "<seaborn.axisgrid.FacetGrid at 0x159f4e240>"
      ]
     },
     "execution_count": 4,
     "metadata": {},
     "output_type": "execute_result"
    },
    {
     "data": {
      "image/png": "[encoded data removed]",
      "text/plain": [
       "<Figure size 500x500 with 1 Axes>"
      ]
     },
     "metadata": {},
     "output_type": "display_data"
    }
   ],
   "source": [
    "sns.displot(final_set, x=\"confidence\", kind=\"ecdf\")"
   ]
  }
 ],
 "metadata": {
  "kernelspec": {
   "display_name": "Python 3 (ipykernel)",
   "language": "python",
   "name": "python3"
  },
  "language_info": {
   "codemirror_mode": {
    "name": "ipython",
    "version": 3
   },
   "file_extension": ".py",
   "mimetype": "text/x-python",
   "name": "python",
   "nbconvert_exporter": "python",
   "pygments_lexer": "ipython3",
   "version": "3.12.9"
  }
 },
 "nbformat": 4,
 "nbformat_minor": 5
}
