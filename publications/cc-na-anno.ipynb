{
 "cells": [
  {
   "cell_type": "code",
   "execution_count": 1,
   "id": "40941af4",
   "metadata": {},
   "outputs": [],
   "source": [
    "import pandas as pd\n",
    "from sqlalchemy import create_engine, text\n",
    "\n",
    "from rs_graph.db import models as db_models\n",
    "from rs_graph.db.constants import PROD_DATABASE_FILEPATH\n",
    "\n",
    "# Get db engine for production database\n",
    "db_conn = create_engine(f\"sqlite:///{PROD_DATABASE_FILEPATH}\")"
   ]
  },
  {
   "cell_type": "code",
   "execution_count": 2,
   "id": "a9fc1859",
   "metadata": {},
   "outputs": [],
   "source": [
    "def read_table(table: str) -> pd.DataFrame:\n",
    "    return pd.read_sql(text(f\"SELECT * FROM {table}\"), db_conn)\n",
    "\n",
    "\n",
    "# Read all data from database\n",
    "doc_repo_links = read_table(db_models.DocumentRepositoryLink.__tablename__)\n",
    "researchers = read_table(db_models.Researcher.__tablename__)\n",
    "devs = read_table(db_models.DeveloperAccount.__tablename__)\n",
    "documents = read_table(db_models.Document.__tablename__)\n",
    "document_contributors = read_table(db_models.DocumentContributor.__tablename__)\n",
    "repositories = read_table(db_models.Repository.__tablename__)\n",
    "repository_contributors = read_table(db_models.RepositoryContributor.__tablename__)\n",
    "topics = read_table(db_models.Topic.__tablename__)\n",
    "document_topics = read_table(db_models.DocumentTopic.__tablename__)\n",
    "dataset_sources = read_table(db_models.DatasetSource.__tablename__)\n",
    "researcher_dev_links = read_table(\n",
    "    db_models.ResearcherDeveloperAccountLink.__tablename__\n",
    ")\n",
    "document_alternate_dois = read_table(db_models.DocumentAlternateDOI.__tablename__)\n",
    "\n",
    "# Drop all \"updated_datetime\" and \"created_datetime\" columns\n",
    "for df in [\n",
    "    doc_repo_links,\n",
    "    researchers,\n",
    "    devs,\n",
    "    documents,\n",
    "    document_contributors,\n",
    "    repositories,\n",
    "    repository_contributors,\n",
    "    topics,\n",
    "    document_topics,\n",
    "    dataset_sources,\n",
    "    researcher_dev_links,\n",
    "]:\n",
    "    df.drop(columns=[\"updated_datetime\", \"created_datetime\"], inplace=True)\n",
    "\n",
    "# Specifically drop doc_repo_links \"id\" column\n",
    "# It isn't used and will get in the way later when we do a lot of joins\n",
    "doc_repo_links.drop(columns=[\"id\"], inplace=True)\n",
    "\n",
    "# Construct reduced doc_repo_links\n",
    "original_doc_repo_links_len = len(doc_repo_links)\n",
    "doc_repo_links = doc_repo_links.drop_duplicates(subset=[\"document_id\"], keep=False)\n",
    "doc_repo_links = doc_repo_links.drop_duplicates(subset=[\"repository_id\"], keep=False)\n",
    "\n",
    "# Reduce other tables to only documents / repositories in the updated doc_repo_links\n",
    "documents = documents[documents[\"id\"].isin(doc_repo_links[\"document_id\"])]\n",
    "repositories = repositories[repositories[\"id\"].isin(doc_repo_links[\"repository_id\"])]\n",
    "document_contributors = document_contributors[\n",
    "    document_contributors[\"document_id\"].isin(documents[\"id\"])\n",
    "]\n",
    "repository_contributors = repository_contributors[\n",
    "    repository_contributors[\"repository_id\"].isin(repositories[\"id\"])\n",
    "]\n",
    "document_topics = document_topics[document_topics[\"document_id\"].isin(documents[\"id\"])]\n",
    "\n",
    "# Reduce researchers and devs to only those in the\n",
    "# updated document_contributors and repository_contributors\n",
    "researchers = researchers[\n",
    "    researchers[\"id\"].isin(document_contributors[\"researcher_id\"])\n",
    "]\n",
    "devs = devs[devs[\"id\"].isin(repository_contributors[\"developer_account_id\"])]\n",
    "researcher_dev_links = researcher_dev_links[\n",
    "    (\n",
    "        researcher_dev_links[\"researcher_id\"].isin(researchers[\"id\"])\n",
    "        & researcher_dev_links[\"developer_account_id\"].isin(devs[\"id\"])\n",
    "    )\n",
    "]\n",
    "\n",
    "# Sort document topics and keep first\n",
    "document_topics = document_topics.sort_values(\"score\", ascending=False)\n",
    "document_topics = document_topics.drop_duplicates(subset=[\"document_id\"], keep=\"first\")\n",
    "\n",
    "# Create document, document topic merged table\n",
    "merged_document_topics = pd.merge(\n",
    "    document_topics, topics, left_on=\"topic_id\", right_on=\"id\"\n",
    ")\n",
    "\n",
    "# Create basic merged tables\n",
    "merged_document_contributor_doc_repo_links = pd.merge(\n",
    "    document_contributors, doc_repo_links, left_on=\"document_id\", right_on=\"document_id\"\n",
    ")\n",
    "merged_repository_contributor_doc_repo_links = pd.merge(\n",
    "    repository_contributors,\n",
    "    doc_repo_links,\n",
    "    left_on=\"repository_id\",\n",
    "    right_on=\"repository_id\",\n",
    ")\n",
    "\n",
    "# Compute stats for data sources\n",
    "data_source_stats = []\n",
    "for _, data_source in dataset_sources.iterrows():\n",
    "    # Get total article-repo pairs\n",
    "    data_source_stats.append(\n",
    "        {\n",
    "            \"data_source\": data_source[\"name\"],\n",
    "            \"n_article_repo_pairs\": len(\n",
    "                doc_repo_links[doc_repo_links[\"dataset_source_id\"] == data_source[\"id\"]]\n",
    "            ),\n",
    "            \"n_authors\": merged_document_contributor_doc_repo_links.loc[\n",
    "                merged_document_contributor_doc_repo_links[\"dataset_source_id\"]\n",
    "                == data_source[\"id\"]\n",
    "            ][\"researcher_id\"].nunique(),\n",
    "            \"n_devs\": merged_repository_contributor_doc_repo_links.loc[\n",
    "                merged_repository_contributor_doc_repo_links[\"dataset_source_id\"]\n",
    "                == data_source[\"id\"]\n",
    "            ][\"developer_account_id\"].nunique(),\n",
    "        }\n",
    "    )\n",
    "\n",
    "# Create topic merged tables\n",
    "merged_doc_repo_links_topics = pd.merge(\n",
    "    doc_repo_links, document_topics, left_on=\"document_id\", right_on=\"document_id\"\n",
    ").merge(topics, left_on=\"topic_id\", right_on=\"id\")\n",
    "merged_doc_repo_links_topics_document_contributors = pd.merge(\n",
    "    merged_doc_repo_links_topics,\n",
    "    document_contributors,\n",
    "    left_on=\"document_id\",\n",
    "    right_on=\"document_id\",\n",
    ")\n",
    "merged_doc_repo_links_topics_repository_contributors = pd.merge(\n",
    "    merged_doc_repo_links_topics,\n",
    "    repository_contributors,\n",
    "    left_on=\"repository_id\",\n",
    "    right_on=\"repository_id\",\n",
    ")\n",
    "\n",
    "# Compute stats for domains\n",
    "domain_stats = []\n",
    "for domain in merged_doc_repo_links_topics.domain_name.unique():\n",
    "    # Get total article-repo pairs\n",
    "    domain_stats.append(\n",
    "        {\n",
    "            \"domain\": domain,\n",
    "            \"n_article_repo_pairs\": len(\n",
    "                merged_doc_repo_links_topics[\n",
    "                    merged_doc_repo_links_topics[\"domain_name\"] == domain\n",
    "                ]\n",
    "            ),\n",
    "            \"n_authors\": merged_doc_repo_links_topics_document_contributors.loc[\n",
    "                merged_doc_repo_links_topics_document_contributors[\"domain_name\"]\n",
    "                == domain\n",
    "            ][\"researcher_id\"].nunique(),\n",
    "            \"n_devs\": merged_doc_repo_links_topics_repository_contributors.loc[\n",
    "                merged_doc_repo_links_topics_repository_contributors[\"domain_name\"]\n",
    "                == domain\n",
    "            ][\"developer_account_id\"].nunique(),\n",
    "        }\n",
    "    )\n",
    "\n",
    "# Create document merged tables\n",
    "merged_doc_repo_links_documents = pd.merge(\n",
    "    doc_repo_links, documents, left_on=\"document_id\", right_on=\"id\"\n",
    ")\n",
    "merged_doc_repo_links_documents_document_contributors = pd.merge(\n",
    "    merged_doc_repo_links_documents,\n",
    "    document_contributors,\n",
    "    left_on=\"document_id\",\n",
    "    right_on=\"document_id\",\n",
    ")\n",
    "merged_doc_repo_links_documents_repository_contributors = pd.merge(\n",
    "    merged_doc_repo_links_documents,\n",
    "    repository_contributors,\n",
    "    left_on=\"repository_id\",\n",
    "    right_on=\"repository_id\",\n",
    ")\n",
    "\n",
    "# Compute stats for document types\n",
    "# This isn't a standard data pull\n",
    "# In short:\n",
    "# - pairs from PLOS are \"research articles\"\n",
    "# - pairs from JOSS are \"software articles\"\n",
    "# - pairs from SoftwareX are \"software articles\"\n",
    "# - pairs from Papers with Code / ArXiv are \"pre-prints\"\n",
    "#   UNLESS they have been published in a journal\n",
    "# All of those should be easy to assert / apply a label to with the exception\n",
    "# of Papers with Code / ArXiv pre-prints that have been published in a journal\n",
    "# In that case, we need to look at the existing document type in the database\n",
    "# If the document type is \"preprint\" use preprint, otherwise, if it's anything else,\n",
    "# use \"research article\"\n",
    "\n",
    "# Create a \"reduced_doc_types\" dataframe with document_id and \"reduced_doc_type\"\n",
    "# columns\n",
    "reduced_doc_types_rows = []\n",
    "# We can use the \"reduced_doc_types\" dataframe to calculate the stats\n",
    "\n",
    "# Iter over data sources even though we are looking for doc types\n",
    "for _, data_source in dataset_sources.iterrows():\n",
    "    # Get total article-repo pairs\n",
    "    doc_type = None\n",
    "    if data_source[\"name\"] in [\"plos\", \"joss\", \"softwarex\"]:\n",
    "        if data_source[\"name\"] == \"plos\":\n",
    "            doc_type = \"research article\"\n",
    "        else:\n",
    "            doc_type = \"software article\"\n",
    "\n",
    "        # Add all document_ids to reduced_doc_types_rows\n",
    "        reduced_doc_types_rows.extend(\n",
    "            [\n",
    "                {\"document_id\": doc_id, \"reduced_doc_type\": doc_type}\n",
    "                for doc_id in doc_repo_links[\n",
    "                    (doc_repo_links[\"dataset_source_id\"] == data_source[\"id\"])\n",
    "                ][\"document_id\"]\n",
    "            ]\n",
    "        )\n",
    "\n",
    "    # Handle PwC\n",
    "    else:\n",
    "        # Get preprint pairs\n",
    "        preprint_pairs = merged_doc_repo_links_documents[\n",
    "            (merged_doc_repo_links_documents[\"dataset_source_id\"] == data_source[\"id\"])\n",
    "            & (merged_doc_repo_links_documents[\"document_type\"] == \"preprint\")\n",
    "        ]\n",
    "\n",
    "        # Add all document_ids to reduced_doc_types_rows\n",
    "        reduced_doc_types_rows.extend(\n",
    "            [\n",
    "                {\"document_id\": doc_id, \"reduced_doc_type\": \"preprint\"}\n",
    "                for doc_id in preprint_pairs[\"document_id\"]\n",
    "            ]\n",
    "        )\n",
    "\n",
    "        # Get research article pairs\n",
    "        # This is the same just inverted to != \"preprint\"\n",
    "        research_article_pairs = merged_doc_repo_links_documents[\n",
    "            (merged_doc_repo_links_documents[\"dataset_source_id\"] == data_source[\"id\"])\n",
    "            & (merged_doc_repo_links_documents[\"document_type\"] != \"preprint\")\n",
    "        ]\n",
    "\n",
    "        # Add all document_ids to reduced_doc_types_rows\n",
    "        reduced_doc_types_rows.extend(\n",
    "            [\n",
    "                {\"document_id\": doc_id, \"reduced_doc_type\": \"research article\"}\n",
    "                for doc_id in research_article_pairs[\"document_id\"]\n",
    "            ]\n",
    "        )\n",
    "\n",
    "# Create reduced_doc_types dataframe\n",
    "reduced_doc_types = pd.DataFrame(reduced_doc_types_rows)"
   ]
  },
  {
   "cell_type": "code",
   "execution_count": 3,
   "id": "306ac899",
   "metadata": {},
   "outputs": [
    {
     "name": "stderr",
     "output_type": "stream",
     "text": [
      "100%|██████████| 88551/88551 [02:00<00:00, 735.26it/s]\n"
     ]
    },
    {
     "data": {
      "text/html": [
       "<div>\n",
       "<style scoped>\n",
       "    .dataframe tbody tr th:only-of-type {\n",
       "        vertical-align: middle;\n",
       "    }\n",
       "\n",
       "    .dataframe tbody tr th {\n",
       "        vertical-align: top;\n",
       "    }\n",
       "\n",
       "    .dataframe thead th {\n",
       "        text-align: right;\n",
       "    }\n",
       "</style>\n",
       "<table border=\"1\" class=\"dataframe\">\n",
       "  <thead>\n",
       "    <tr style=\"text-align: right;\">\n",
       "      <th></th>\n",
       "      <th>document_id</th>\n",
       "      <th>repository_id</th>\n",
       "      <th>developer_account_id</th>\n",
       "      <th>researcher_ids_count</th>\n",
       "      <th>researcher_ids</th>\n",
       "    </tr>\n",
       "  </thead>\n",
       "  <tbody>\n",
       "    <tr>\n",
       "      <th>8</th>\n",
       "      <td>21</td>\n",
       "      <td>21</td>\n",
       "      <td>39</td>\n",
       "      <td>0</td>\n",
       "      <td>[]</td>\n",
       "    </tr>\n",
       "    <tr>\n",
       "      <th>17</th>\n",
       "      <td>55</td>\n",
       "      <td>55</td>\n",
       "      <td>89</td>\n",
       "      <td>0</td>\n",
       "      <td>[]</td>\n",
       "    </tr>\n",
       "    <tr>\n",
       "      <th>47</th>\n",
       "      <td>82</td>\n",
       "      <td>81</td>\n",
       "      <td>164</td>\n",
       "      <td>0</td>\n",
       "      <td>[]</td>\n",
       "    </tr>\n",
       "    <tr>\n",
       "      <th>74</th>\n",
       "      <td>126</td>\n",
       "      <td>125</td>\n",
       "      <td>261</td>\n",
       "      <td>0</td>\n",
       "      <td>[]</td>\n",
       "    </tr>\n",
       "    <tr>\n",
       "      <th>81</th>\n",
       "      <td>138</td>\n",
       "      <td>137</td>\n",
       "      <td>283</td>\n",
       "      <td>0</td>\n",
       "      <td>[]</td>\n",
       "    </tr>\n",
       "    <tr>\n",
       "      <th>...</th>\n",
       "      <td>...</td>\n",
       "      <td>...</td>\n",
       "      <td>...</td>\n",
       "      <td>...</td>\n",
       "      <td>...</td>\n",
       "    </tr>\n",
       "    <tr>\n",
       "      <th>79430</th>\n",
       "      <td>157265</td>\n",
       "      <td>153544</td>\n",
       "      <td>130890</td>\n",
       "      <td>0</td>\n",
       "      <td>[]</td>\n",
       "    </tr>\n",
       "    <tr>\n",
       "      <th>79456</th>\n",
       "      <td>157277</td>\n",
       "      <td>153555</td>\n",
       "      <td>130890</td>\n",
       "      <td>0</td>\n",
       "      <td>[]</td>\n",
       "    </tr>\n",
       "    <tr>\n",
       "      <th>79457</th>\n",
       "      <td>157279</td>\n",
       "      <td>153557</td>\n",
       "      <td>130890</td>\n",
       "      <td>0</td>\n",
       "      <td>[]</td>\n",
       "    </tr>\n",
       "    <tr>\n",
       "      <th>79458</th>\n",
       "      <td>157280</td>\n",
       "      <td>153558</td>\n",
       "      <td>130890</td>\n",
       "      <td>0</td>\n",
       "      <td>[]</td>\n",
       "    </tr>\n",
       "    <tr>\n",
       "      <th>79520</th>\n",
       "      <td>157301</td>\n",
       "      <td>153579</td>\n",
       "      <td>130890</td>\n",
       "      <td>0</td>\n",
       "      <td>[]</td>\n",
       "    </tr>\n",
       "  </tbody>\n",
       "</table>\n",
       "<p>10121 rows × 5 columns</p>\n",
       "</div>"
      ],
      "text/plain": [
       "       document_id  repository_id  developer_account_id  researcher_ids_count  \\\n",
       "8               21             21                    39                     0   \n",
       "17              55             55                    89                     0   \n",
       "47              82             81                   164                     0   \n",
       "74             126            125                   261                     0   \n",
       "81             138            137                   283                     0   \n",
       "...            ...            ...                   ...                   ...   \n",
       "79430       157265         153544                130890                     0   \n",
       "79456       157277         153555                130890                     0   \n",
       "79457       157279         153557                130890                     0   \n",
       "79458       157280         153558                130890                     0   \n",
       "79520       157301         153579                130890                     0   \n",
       "\n",
       "      researcher_ids  \n",
       "8                 []  \n",
       "17                []  \n",
       "47                []  \n",
       "74                []  \n",
       "81                []  \n",
       "...              ...  \n",
       "79430             []  \n",
       "79456             []  \n",
       "79457             []  \n",
       "79458             []  \n",
       "79520             []  \n",
       "\n",
       "[10121 rows x 5 columns]"
      ]
     },
     "execution_count": 3,
     "metadata": {},
     "output_type": "execute_result"
    }
   ],
   "source": [
    "from tqdm import tqdm\n",
    "\n",
    "# Create subset documents\n",
    "docs_w_1_citation = documents.loc[documents[\"cited_by_count\"] >= 1].copy()\n",
    "\n",
    "# Take sample?\n",
    "# docs_w_1_citation = docs_w_1_citation.sample(frac=0.1, random_state=12)\n",
    "\n",
    "# Subset to only certain columns\n",
    "docs_w_1_citation = docs_w_1_citation[\n",
    "    [\n",
    "        \"id\",\n",
    "        \"publication_date\",\n",
    "        \"cited_by_count\",\n",
    "        \"fwci\",\n",
    "        \"is_open_access\",\n",
    "    ]\n",
    "]\n",
    "\n",
    "# Rename id to document_id\n",
    "docs_w_1_citation = docs_w_1_citation.rename(columns={\"id\": \"document_id\"})\n",
    "\n",
    "# Merge repository id in\n",
    "docs_w_1_citation = docs_w_1_citation.merge(\n",
    "    doc_repo_links[\n",
    "        [\n",
    "            \"document_id\",\n",
    "            \"repository_id\",\n",
    "        ]\n",
    "    ],\n",
    "    left_on=\"document_id\",\n",
    "    right_on=\"document_id\",\n",
    ")\n",
    "\n",
    "# Merge in document details (domain, document type)\n",
    "docs_w_1_citation = (\n",
    "    docs_w_1_citation.merge(\n",
    "        document_topics[[\"document_id\", \"topic_id\"]],\n",
    "        left_on=\"document_id\",\n",
    "        right_on=\"document_id\",\n",
    "    )\n",
    "    .merge(\n",
    "        repositories[[\"id\", \"creation_datetime\", \"last_pushed_datetime\"]],\n",
    "        left_on=\"repository_id\",\n",
    "        right_on=\"id\",\n",
    "    )\n",
    "    .drop(\n",
    "        columns=[\"id\"],\n",
    "    )\n",
    "    .merge(\n",
    "        topics[[\"id\", \"domain_name\"]],\n",
    "        left_on=\"topic_id\",\n",
    "        right_on=\"id\",\n",
    "    )\n",
    "    .drop(\n",
    "        columns=[\"id\", \"topic_id\"],\n",
    "    )\n",
    "    .merge(\n",
    "        reduced_doc_types,\n",
    "        left_on=\"document_id\",\n",
    "        right_on=\"document_id\",\n",
    "    )\n",
    "    .rename(\n",
    "        columns={\n",
    "            \"domain_name\": \"domain\",\n",
    "            \"reduced_doc_type\": \"article_type\",\n",
    "        }\n",
    "    )\n",
    ")\n",
    "\n",
    "# Drop any documents that have more than one repository (and vice versa)\n",
    "docs_w_1_citation = docs_w_1_citation.drop_duplicates(\n",
    "    subset=[\"document_id\"], keep=False\n",
    ")\n",
    "docs_w_1_citation = docs_w_1_citation.drop_duplicates(\n",
    "    subset=[\"repository_id\"], keep=False\n",
    ")\n",
    "\n",
    "# Iter over articles and get the team composition info\n",
    "team_composition_rows = []\n",
    "cc_na_individuals = []\n",
    "for _, row in tqdm(\n",
    "    docs_w_1_citation.iterrows(),\n",
    "    total=len(docs_w_1_citation),\n",
    "):\n",
    "    # Get the number of authors\n",
    "    author_ids = document_contributors.loc[\n",
    "        document_contributors[\"document_id\"] == row[\"document_id\"]\n",
    "    ][\"researcher_id\"].unique()\n",
    "    n_authors = len(author_ids)\n",
    "\n",
    "    # Get the number of devs\n",
    "    dev_ids = repository_contributors.loc[\n",
    "        repository_contributors[\"repository_id\"] == row[\"repository_id\"]\n",
    "    ][\"developer_account_id\"].unique()\n",
    "    n_devs = len(dev_ids)\n",
    "\n",
    "    # Get the set of dev_researcher_links for the devs\n",
    "    dev_researcher_links = researcher_dev_links.loc[\n",
    "        researcher_dev_links[\"developer_account_id\"].isin(dev_ids)\n",
    "    ].sort_values(\"predictive_model_confidence\", ascending=False)\n",
    "\n",
    "    # Drop duplicates by dev_id (keeping first)\n",
    "    # as we may have accidently matched the same author to the multiple devs\n",
    "    dev_researcher_links = dev_researcher_links.drop_duplicates(\n",
    "        subset=[\"researcher_id\"],\n",
    "        keep=\"first\",\n",
    "    )\n",
    "\n",
    "    # Drop any dev researcher links that have less than 97% confidence\n",
    "    dev_researcher_links = dev_researcher_links.loc[\n",
    "        dev_researcher_links[\"predictive_model_confidence\"] >= 0.97\n",
    "    ]\n",
    "\n",
    "    # Get the number of devs who aren't authors\n",
    "    n_non_author_devs = 0\n",
    "    for dev_id in dev_ids:\n",
    "        dev_researcher_ids = dev_researcher_links.loc[\n",
    "            dev_researcher_links[\"developer_account_id\"] == dev_id\n",
    "        ][\"researcher_id\"].unique()\n",
    "\n",
    "        if len(dev_researcher_ids) > 3:\n",
    "            continue\n",
    "\n",
    "        if not any(\n",
    "            dev_researcher_id in author_ids for dev_researcher_id in dev_researcher_ids\n",
    "        ):\n",
    "            cc_na_individuals.append(\n",
    "                {\n",
    "                    \"document_id\": row[\"document_id\"],\n",
    "                    \"repository_id\": row[\"repository_id\"],\n",
    "                    \"n_authors\": n_authors,\n",
    "                    \"n_devs\": n_devs,\n",
    "                    \"developer_account_id\": dev_id,\n",
    "                    \"researcher_ids_count\": len(dev_researcher_ids),\n",
    "                    \"researcher_ids\": dev_researcher_ids.tolist(),\n",
    "                }\n",
    "            )\n",
    "\n",
    "# Create cc_na_individuals dataframe\n",
    "cc_na_individuals = pd.DataFrame(cc_na_individuals)\n",
    "\n",
    "# Merge with cc_na_individuals\n",
    "cc_na_individuals = cc_na_individuals.merge(\n",
    "    docs_w_1_citation,\n",
    "    left_on=[\"document_id\", \"repository_id\"],\n",
    "    right_on=[\"document_id\", \"repository_id\"],\n",
    ")\n",
    "\n",
    "# Filter out papers with less than 3 authors or 1 dev\n",
    "cc_na_individuals = cc_na_individuals.loc[cc_na_individuals[\"n_authors\"] >= 3]\n",
    "cc_na_individuals = cc_na_individuals.loc[cc_na_individuals[\"n_devs\"] >= 1]\n",
    "\n",
    "# Convert datetimes to datetime\n",
    "cc_na_individuals[\"publication_date\"] = pd.to_datetime(\n",
    "    cc_na_individuals[\"publication_date\"],\n",
    "    utc=True,\n",
    ")\n",
    "cc_na_individuals[\"last_pushed_datetime\"] = pd.to_datetime(\n",
    "    cc_na_individuals[\"last_pushed_datetime\"],\n",
    "    utc=True,\n",
    ")\n",
    "cc_na_individuals[\"creation_datetime\"] = pd.to_datetime(\n",
    "    cc_na_individuals[\"creation_datetime\"],\n",
    "    utc=True,\n",
    ")\n",
    "\n",
    "# Create a \"days_since_last_push\" column\n",
    "cc_na_individuals[\"days_from_publication_to_last_push\"] = (\n",
    "    cc_na_individuals[\"last_pushed_datetime\"] - cc_na_individuals[\"publication_date\"]\n",
    ").dt.days\n",
    "\n",
    "# Must have a push within 90 days of publication\n",
    "cc_na_individuals_no_push_after_pub = cc_na_individuals.loc[\n",
    "    cc_na_individuals[\"days_from_publication_to_last_push\"] <= 90\n",
    "].copy()\n",
    "\n",
    "# Get the number of authors which would be the 97th percentile\n",
    "n_authors_97th_percentile = cc_na_individuals_no_push_after_pub[\"n_authors\"].quantile(\n",
    "    0.97\n",
    ")\n",
    "\n",
    "# Remove rows that are greater than 97th percentile for total authors\n",
    "cc_na_individuals_no_push_after_pub = cc_na_individuals_no_push_after_pub.loc[\n",
    "    cc_na_individuals_no_push_after_pub[\"n_authors\"]\n",
    "    <= cc_na_individuals_no_push_after_pub[\"n_authors\"].quantile(0.97)\n",
    "]\n",
    "\n",
    "cc_na_individuals_no_push_after_pub[\n",
    "    [\n",
    "        \"document_id\",\n",
    "        \"repository_id\",\n",
    "        \"developer_account_id\",\n",
    "        \"researcher_ids_count\",\n",
    "        \"researcher_ids\",\n",
    "    ]\n",
    "]"
   ]
  },
  {
   "cell_type": "code",
   "execution_count": 4,
   "id": "761a6846",
   "metadata": {},
   "outputs": [
    {
     "data": {
      "text/html": [
       "<div>\n",
       "<style scoped>\n",
       "    .dataframe tbody tr th:only-of-type {\n",
       "        vertical-align: middle;\n",
       "    }\n",
       "\n",
       "    .dataframe tbody tr th {\n",
       "        vertical-align: top;\n",
       "    }\n",
       "\n",
       "    .dataframe thead th {\n",
       "        text-align: right;\n",
       "    }\n",
       "</style>\n",
       "<table border=\"1\" class=\"dataframe\">\n",
       "  <thead>\n",
       "    <tr style=\"text-align: right;\">\n",
       "      <th></th>\n",
       "      <th>document_id</th>\n",
       "      <th>repository_id</th>\n",
       "      <th>developer_account_id</th>\n",
       "      <th>researcher_ids_count</th>\n",
       "      <th>researcher_ids</th>\n",
       "    </tr>\n",
       "  </thead>\n",
       "  <tbody>\n",
       "    <tr>\n",
       "      <th>26443</th>\n",
       "      <td>43020</td>\n",
       "      <td>41089</td>\n",
       "      <td>40097</td>\n",
       "      <td>3</td>\n",
       "      <td>[72424, 44008, 281382]</td>\n",
       "    </tr>\n",
       "    <tr>\n",
       "      <th>18545</th>\n",
       "      <td>25305</td>\n",
       "      <td>24280</td>\n",
       "      <td>1576</td>\n",
       "      <td>3</td>\n",
       "      <td>[209976, 304662, 91404]</td>\n",
       "    </tr>\n",
       "    <tr>\n",
       "      <th>39664</th>\n",
       "      <td>71206</td>\n",
       "      <td>68300</td>\n",
       "      <td>28978</td>\n",
       "      <td>3</td>\n",
       "      <td>[83498, 174985, 252680]</td>\n",
       "    </tr>\n",
       "    <tr>\n",
       "      <th>23085</th>\n",
       "      <td>35663</td>\n",
       "      <td>34110</td>\n",
       "      <td>10027</td>\n",
       "      <td>3</td>\n",
       "      <td>[97043, 104851, 293211]</td>\n",
       "    </tr>\n",
       "    <tr>\n",
       "      <th>57340</th>\n",
       "      <td>110223</td>\n",
       "      <td>106641</td>\n",
       "      <td>4140</td>\n",
       "      <td>3</td>\n",
       "      <td>[81282, 1093, 87934]</td>\n",
       "    </tr>\n",
       "    <tr>\n",
       "      <th>...</th>\n",
       "      <td>...</td>\n",
       "      <td>...</td>\n",
       "      <td>...</td>\n",
       "      <td>...</td>\n",
       "      <td>...</td>\n",
       "    </tr>\n",
       "    <tr>\n",
       "      <th>36462</th>\n",
       "      <td>64096</td>\n",
       "      <td>61366</td>\n",
       "      <td>34238</td>\n",
       "      <td>2</td>\n",
       "      <td>[60280, 12572]</td>\n",
       "    </tr>\n",
       "    <tr>\n",
       "      <th>36614</th>\n",
       "      <td>64322</td>\n",
       "      <td>61591</td>\n",
       "      <td>7040</td>\n",
       "      <td>2</td>\n",
       "      <td>[185747, 183477]</td>\n",
       "    </tr>\n",
       "    <tr>\n",
       "      <th>38099</th>\n",
       "      <td>68257</td>\n",
       "      <td>65398</td>\n",
       "      <td>80595</td>\n",
       "      <td>2</td>\n",
       "      <td>[6365, 16309]</td>\n",
       "    </tr>\n",
       "    <tr>\n",
       "      <th>38514</th>\n",
       "      <td>68939</td>\n",
       "      <td>66064</td>\n",
       "      <td>30927</td>\n",
       "      <td>2</td>\n",
       "      <td>[53189, 195198]</td>\n",
       "    </tr>\n",
       "    <tr>\n",
       "      <th>78604</th>\n",
       "      <td>156533</td>\n",
       "      <td>152816</td>\n",
       "      <td>46811</td>\n",
       "      <td>2</td>\n",
       "      <td>[269855, 244859]</td>\n",
       "    </tr>\n",
       "  </tbody>\n",
       "</table>\n",
       "<p>306 rows × 5 columns</p>\n",
       "</div>"
      ],
      "text/plain": [
       "       document_id  repository_id  developer_account_id  researcher_ids_count  \\\n",
       "26443        43020          41089                 40097                     3   \n",
       "18545        25305          24280                  1576                     3   \n",
       "39664        71206          68300                 28978                     3   \n",
       "23085        35663          34110                 10027                     3   \n",
       "57340       110223         106641                  4140                     3   \n",
       "...            ...            ...                   ...                   ...   \n",
       "36462        64096          61366                 34238                     2   \n",
       "36614        64322          61591                  7040                     2   \n",
       "38099        68257          65398                 80595                     2   \n",
       "38514        68939          66064                 30927                     2   \n",
       "78604       156533         152816                 46811                     2   \n",
       "\n",
       "                researcher_ids  \n",
       "26443   [72424, 44008, 281382]  \n",
       "18545  [209976, 304662, 91404]  \n",
       "39664  [83498, 174985, 252680]  \n",
       "23085  [97043, 104851, 293211]  \n",
       "57340     [81282, 1093, 87934]  \n",
       "...                        ...  \n",
       "36462           [60280, 12572]  \n",
       "36614         [185747, 183477]  \n",
       "38099            [6365, 16309]  \n",
       "38514          [53189, 195198]  \n",
       "78604         [269855, 244859]  \n",
       "\n",
       "[306 rows x 5 columns]"
      ]
     },
     "execution_count": 4,
     "metadata": {},
     "output_type": "execute_result"
    }
   ],
   "source": [
    "cc_na_individuals_no_push_after_pub.loc[\n",
    "    cc_na_individuals_no_push_after_pub[\"researcher_ids_count\"] > 1\n",
    "][\n",
    "    [\n",
    "        \"document_id\",\n",
    "        \"repository_id\",\n",
    "        \"developer_account_id\",\n",
    "        \"researcher_ids_count\",\n",
    "        \"researcher_ids\",\n",
    "    ]\n",
    "].sort_values(\n",
    "    by=\"researcher_ids_count\", ascending=False\n",
    ")"
   ]
  },
  {
   "cell_type": "code",
   "execution_count": 5,
   "id": "6dd71a97",
   "metadata": {},
   "outputs": [
    {
     "data": {
      "text/plain": [
       "0.030234166584329612"
      ]
     },
     "execution_count": 5,
     "metadata": {},
     "output_type": "execute_result"
    }
   ],
   "source": [
    "len(\n",
    "    cc_na_individuals_no_push_after_pub.loc[\n",
    "        cc_na_individuals_no_push_after_pub[\"researcher_ids_count\"] > 1\n",
    "    ]\n",
    ") / len(cc_na_individuals_no_push_after_pub)"
   ]
  },
  {
   "cell_type": "code",
   "execution_count": 6,
   "id": "e0bec1ea",
   "metadata": {},
   "outputs": [
    {
     "data": {
      "text/plain": [
       "306"
      ]
     },
     "execution_count": 6,
     "metadata": {},
     "output_type": "execute_result"
    }
   ],
   "source": [
    "len(\n",
    "    cc_na_individuals_no_push_after_pub.loc[\n",
    "        cc_na_individuals_no_push_after_pub[\"researcher_ids_count\"] > 1\n",
    "    ]\n",
    ")"
   ]
  },
  {
   "cell_type": "code",
   "execution_count": 7,
   "id": "badea7eb",
   "metadata": {},
   "outputs": [
    {
     "data": {
      "text/html": [
       "<div>\n",
       "<style scoped>\n",
       "    .dataframe tbody tr th:only-of-type {\n",
       "        vertical-align: middle;\n",
       "    }\n",
       "\n",
       "    .dataframe tbody tr th {\n",
       "        vertical-align: top;\n",
       "    }\n",
       "\n",
       "    .dataframe thead th {\n",
       "        text-align: right;\n",
       "    }\n",
       "</style>\n",
       "<table border=\"1\" class=\"dataframe\">\n",
       "  <thead>\n",
       "    <tr style=\"text-align: right;\">\n",
       "      <th></th>\n",
       "      <th>document_id</th>\n",
       "      <th>repository_id</th>\n",
       "      <th>developer_account_id</th>\n",
       "      <th>researcher_ids_count</th>\n",
       "      <th>researcher_ids</th>\n",
       "    </tr>\n",
       "  </thead>\n",
       "  <tbody>\n",
       "    <tr>\n",
       "      <th>41438</th>\n",
       "      <td>75381</td>\n",
       "      <td>72373</td>\n",
       "      <td>72535</td>\n",
       "      <td>0</td>\n",
       "      <td>[]</td>\n",
       "    </tr>\n",
       "    <tr>\n",
       "      <th>54988</th>\n",
       "      <td>105139</td>\n",
       "      <td>101615</td>\n",
       "      <td>129245</td>\n",
       "      <td>0</td>\n",
       "      <td>[]</td>\n",
       "    </tr>\n",
       "    <tr>\n",
       "      <th>28915</th>\n",
       "      <td>47837</td>\n",
       "      <td>45803</td>\n",
       "      <td>75708</td>\n",
       "      <td>0</td>\n",
       "      <td>[]</td>\n",
       "    </tr>\n",
       "    <tr>\n",
       "      <th>31627</th>\n",
       "      <td>53557</td>\n",
       "      <td>51256</td>\n",
       "      <td>81968</td>\n",
       "      <td>0</td>\n",
       "      <td>[]</td>\n",
       "    </tr>\n",
       "    <tr>\n",
       "      <th>12154</th>\n",
       "      <td>10266</td>\n",
       "      <td>9957</td>\n",
       "      <td>25628</td>\n",
       "      <td>0</td>\n",
       "      <td>[]</td>\n",
       "    </tr>\n",
       "    <tr>\n",
       "      <th>35957</th>\n",
       "      <td>63047</td>\n",
       "      <td>60353</td>\n",
       "      <td>91978</td>\n",
       "      <td>0</td>\n",
       "      <td>[]</td>\n",
       "    </tr>\n",
       "    <tr>\n",
       "      <th>18353</th>\n",
       "      <td>24868</td>\n",
       "      <td>23848</td>\n",
       "      <td>46682</td>\n",
       "      <td>0</td>\n",
       "      <td>[]</td>\n",
       "    </tr>\n",
       "    <tr>\n",
       "      <th>54631</th>\n",
       "      <td>104535</td>\n",
       "      <td>101030</td>\n",
       "      <td>128711</td>\n",
       "      <td>0</td>\n",
       "      <td>[]</td>\n",
       "    </tr>\n",
       "    <tr>\n",
       "      <th>21587</th>\n",
       "      <td>32648</td>\n",
       "      <td>31200</td>\n",
       "      <td>56851</td>\n",
       "      <td>0</td>\n",
       "      <td>[]</td>\n",
       "    </tr>\n",
       "    <tr>\n",
       "      <th>26907</th>\n",
       "      <td>44112</td>\n",
       "      <td>42153</td>\n",
       "      <td>71137</td>\n",
       "      <td>0</td>\n",
       "      <td>[]</td>\n",
       "    </tr>\n",
       "  </tbody>\n",
       "</table>\n",
       "</div>"
      ],
      "text/plain": [
       "       document_id  repository_id  developer_account_id  researcher_ids_count  \\\n",
       "41438        75381          72373                 72535                     0   \n",
       "54988       105139         101615                129245                     0   \n",
       "28915        47837          45803                 75708                     0   \n",
       "31627        53557          51256                 81968                     0   \n",
       "12154        10266           9957                 25628                     0   \n",
       "35957        63047          60353                 91978                     0   \n",
       "18353        24868          23848                 46682                     0   \n",
       "54631       104535         101030                128711                     0   \n",
       "21587        32648          31200                 56851                     0   \n",
       "26907        44112          42153                 71137                     0   \n",
       "\n",
       "      researcher_ids  \n",
       "41438             []  \n",
       "54988             []  \n",
       "28915             []  \n",
       "31627             []  \n",
       "12154             []  \n",
       "35957             []  \n",
       "18353             []  \n",
       "54631             []  \n",
       "21587             []  \n",
       "26907             []  "
      ]
     },
     "execution_count": 7,
     "metadata": {},
     "output_type": "execute_result"
    }
   ],
   "source": [
    "cc_na_individuals_no_push_after_pub.loc[\n",
    "    cc_na_individuals_no_push_after_pub[\"researcher_ids_count\"] == 0\n",
    "][\n",
    "    [\n",
    "        \"document_id\",\n",
    "        \"repository_id\",\n",
    "        \"developer_account_id\",\n",
    "        \"researcher_ids_count\",\n",
    "        \"researcher_ids\",\n",
    "    ]\n",
    "].sample(\n",
    "    10\n",
    ")"
   ]
  },
  {
   "cell_type": "code",
   "execution_count": null,
   "id": "45b27776",
   "metadata": {},
   "outputs": [
    {
     "name": "stdout",
     "output_type": "stream",
     "text": [
      "Expired GitHub Tokens: 1\n"
     ]
    },
    {
     "name": "stderr",
     "output_type": "stream",
     "text": [
      "  0%|          | 0/20 [00:00<?, ?it/s]"
     ]
    },
    {
     "name": "stdout",
     "output_type": "stream",
     "text": [
      "Expired GitHub Tokens: 1\n"
     ]
    },
    {
     "name": "stderr",
     "output_type": "stream",
     "text": [
      "  5%|▌         | 1/20 [00:00<00:09,  2.07it/s]"
     ]
    },
    {
     "name": "stdout",
     "output_type": "stream",
     "text": [
      "Number of API call iterations required: 1\n"
     ]
    },
    {
     "name": "stderr",
     "output_type": "stream",
     "text": [
      " 10%|█         | 2/20 [00:01<00:11,  1.50it/s]"
     ]
    },
    {
     "name": "stdout",
     "output_type": "stream",
     "text": [
      "Number of API call iterations required: 1\n"
     ]
    },
    {
     "name": "stderr",
     "output_type": "stream",
     "text": [
      " 15%|█▌        | 3/20 [00:01<00:11,  1.47it/s]"
     ]
    },
    {
     "name": "stdout",
     "output_type": "stream",
     "text": [
      "Number of API call iterations required: 1\n"
     ]
    },
    {
     "name": "stderr",
     "output_type": "stream",
     "text": [
      " 20%|██        | 4/20 [00:43<04:28, 16.78s/it]"
     ]
    },
    {
     "name": "stdout",
     "output_type": "stream",
     "text": [
      "Number of API call iterations required: 3\n"
     ]
    },
    {
     "name": "stderr",
     "output_type": "stream",
     "text": [
      " 25%|██▌       | 5/20 [00:44<02:46, 11.07s/it]"
     ]
    },
    {
     "name": "stdout",
     "output_type": "stream",
     "text": [
      "Number of API call iterations required: 1\n"
     ]
    },
    {
     "name": "stderr",
     "output_type": "stream",
     "text": [
      " 30%|███       | 6/20 [03:50<16:28, 70.62s/it]"
     ]
    },
    {
     "name": "stdout",
     "output_type": "stream",
     "text": [
      "No results found for https://github.com/stevenireeves/amrex after 10 iterations.\n",
      "Error processing https://github.com/stevenireeves/amrex for memmett: No results found for https://github.com/stevenireeves/amrex after 10 iterations.\n"
     ]
    },
    {
     "name": "stderr",
     "output_type": "stream",
     "text": [
      " 35%|███▌      | 7/20 [03:50<10:18, 47.61s/it]"
     ]
    },
    {
     "name": "stdout",
     "output_type": "stream",
     "text": [
      "Number of API call iterations required: 1\n"
     ]
    },
    {
     "name": "stderr",
     "output_type": "stream",
     "text": [
      " 40%|████      | 8/20 [04:31<09:05, 45.45s/it]"
     ]
    },
    {
     "name": "stdout",
     "output_type": "stream",
     "text": [
      "Number of API call iterations required: 3\n"
     ]
    },
    {
     "name": "stderr",
     "output_type": "stream",
     "text": [
      " 45%|████▌     | 9/20 [07:36<16:19, 89.01s/it]"
     ]
    },
    {
     "name": "stdout",
     "output_type": "stream",
     "text": [
      "No results found for https://github.com/stevenireeves/amrex after 10 iterations.\n",
      "Error processing https://github.com/stevenireeves/amrex for asalmgren: No results found for https://github.com/stevenireeves/amrex after 10 iterations.\n"
     ]
    },
    {
     "name": "stderr",
     "output_type": "stream",
     "text": [
      " 50%|█████     | 10/20 [09:18<15:31, 93.13s/it]"
     ]
    },
    {
     "name": "stdout",
     "output_type": "stream",
     "text": [
      "Number of API call iterations required: 6\n"
     ]
    },
    {
     "name": "stderr",
     "output_type": "stream",
     "text": [
      " 55%|█████▌    | 11/20 [10:20<12:31, 83.49s/it]"
     ]
    },
    {
     "name": "stdout",
     "output_type": "stream",
     "text": [
      "Number of API call iterations required: 4\n"
     ]
    },
    {
     "name": "stderr",
     "output_type": "stream",
     "text": [
      " 60%|██████    | 12/20 [11:22<10:15, 76.94s/it]"
     ]
    },
    {
     "name": "stdout",
     "output_type": "stream",
     "text": [
      "Number of API call iterations required: 4\n"
     ]
    },
    {
     "name": "stderr",
     "output_type": "stream",
     "text": [
      " 65%|██████▌   | 13/20 [11:42<06:58, 59.85s/it]"
     ]
    },
    {
     "name": "stdout",
     "output_type": "stream",
     "text": [
      "Number of API call iterations required: 2\n"
     ]
    },
    {
     "name": "stderr",
     "output_type": "stream",
     "text": [
      " 70%|███████   | 14/20 [12:44<06:01, 60.27s/it]"
     ]
    },
    {
     "name": "stdout",
     "output_type": "stream",
     "text": [
      "Number of API call iterations required: 4\n"
     ]
    },
    {
     "name": "stderr",
     "output_type": "stream",
     "text": [
      " 75%|███████▌  | 15/20 [13:45<05:02, 60.59s/it]"
     ]
    },
    {
     "name": "stdout",
     "output_type": "stream",
     "text": [
      "Number of API call iterations required: 4\n"
     ]
    },
    {
     "name": "stderr",
     "output_type": "stream",
     "text": [
      " 80%|████████  | 16/20 [14:06<03:14, 48.66s/it]"
     ]
    },
    {
     "name": "stdout",
     "output_type": "stream",
     "text": [
      "Number of API call iterations required: 2\n"
     ]
    },
    {
     "name": "stderr",
     "output_type": "stream",
     "text": [
      " 85%|████████▌ | 17/20 [15:07<02:37, 52.51s/it]"
     ]
    },
    {
     "name": "stdout",
     "output_type": "stream",
     "text": [
      "Number of API call iterations required: 4\n"
     ]
    },
    {
     "name": "stderr",
     "output_type": "stream",
     "text": [
      " 90%|█████████ | 18/20 [15:28<01:25, 42.97s/it]"
     ]
    },
    {
     "name": "stdout",
     "output_type": "stream",
     "text": [
      "Number of API call iterations required: 2\n"
     ]
    },
    {
     "name": "stderr",
     "output_type": "stream",
     "text": [
      " 95%|█████████▌| 19/20 [16:50<00:54, 54.66s/it]"
     ]
    },
    {
     "name": "stdout",
     "output_type": "stream",
     "text": [
      "Number of API call iterations required: 5\n"
     ]
    },
    {
     "name": "stderr",
     "output_type": "stream",
     "text": [
      "100%|██████████| 20/20 [17:52<00:00, 53.63s/it]"
     ]
    },
    {
     "name": "stdout",
     "output_type": "stream",
     "text": [
      "Number of API call iterations required: 4\n"
     ]
    },
    {
     "name": "stderr",
     "output_type": "stream",
     "text": [
      "\n"
     ]
    }
   ],
   "source": [
    "import time\n",
    "from pathlib import Path\n",
    "\n",
    "from gh_tokens_loader import GitHubTokensCycler\n",
    "from ghapi.all import GhApi\n",
    "\n",
    "tokens_file = Path.cwd().parent / \".github-tokens.yml\"\n",
    "gh_tokens_cycler = GitHubTokensCycler(tokens_file)\n",
    "\n",
    "# Take a random sample of 20 rows\n",
    "# Then, get the:\n",
    "# - document id\n",
    "# - document DOI\n",
    "# - repository id\n",
    "# - repository URL\n",
    "# - developer account id\n",
    "# - developer account URL\n",
    "\n",
    "\n",
    "def prep_for_annotation(row: pd.Series) -> dict:\n",
    "    # Get document details\n",
    "    doc_details = documents.loc[documents[\"id\"] == row[\"document_id\"]].iloc[0]\n",
    "    doc_doi = doc_details[\"doi\"]\n",
    "    doc_doi_url = f\"https://doi.org/{doc_doi}\"\n",
    "\n",
    "    # Get repository details\n",
    "    repo_details = repositories.loc[repositories[\"id\"] == row[\"repository_id\"]].iloc[0]\n",
    "    repo_owner = repo_details[\"owner\"]\n",
    "    repo_name = repo_details[\"name\"]\n",
    "    repo_url = f\"https://github.com/{repo_owner}/{repo_name}\"\n",
    "\n",
    "    # Get developer account details\n",
    "    dev_details = devs.loc[devs[\"id\"] == row[\"developer_account_id\"]].iloc[0]\n",
    "    dev_username = dev_details[\"username\"]\n",
    "    dev_url = f\"https://github.com/{dev_username}\"\n",
    "\n",
    "    # Dev commit URL\n",
    "    dev_commit_url = (\n",
    "        f\"https://github.com/{repo_owner}/{repo_name}/commits?author={dev_username}\"\n",
    "    )\n",
    "\n",
    "    # Get devs contributions to repository\n",
    "    results = None\n",
    "    try:\n",
    "        call_iter = 0\n",
    "        while call_iter < 9:\n",
    "            api = GhApi(\n",
    "                token=next(gh_tokens_cycler),\n",
    "            )\n",
    "            results = api.repos.get_contributors_stats(\n",
    "                owner=repo_owner,\n",
    "                repo=repo_name,\n",
    "            )\n",
    "\n",
    "            # If the results are empty, wait and try again\n",
    "            if len(results) == 0:\n",
    "                time.sleep(20)\n",
    "                call_iter += 1\n",
    "                results = None\n",
    "                continue\n",
    "\n",
    "            # If we have results, break the loop\n",
    "            break\n",
    "\n",
    "        # If we have results, filter for the developer account\n",
    "        if results is None:\n",
    "            print(f\"No results found for {repo_url} after {call_iter + 1} iterations.\")\n",
    "            raise ValueError(\n",
    "                f\"No results found for {repo_url} after {call_iter + 1} iterations.\"\n",
    "            )\n",
    "\n",
    "        # Print number of call iterations\n",
    "        print(f\"Number of API call iterations required: {call_iter + 1}\")\n",
    "\n",
    "        # Get the total number of commits, additions, and deletions for the repo\n",
    "        # Iter over each contributor, and iter over each week in \"weeks\", sum all values\n",
    "        total_repo_commits = 0\n",
    "        total_repo_additions = 0\n",
    "        total_repo_deletions = 0\n",
    "        for contributor in results:\n",
    "            for week in contributor[\"weeks\"]:\n",
    "                total_repo_commits += week[\"c\"]\n",
    "                total_repo_additions += week[\"a\"]\n",
    "                total_repo_deletions += week[\"d\"]\n",
    "\n",
    "        # If we have results, filter for the developer account\n",
    "        filtered_to_contributor = [\n",
    "            contributor\n",
    "            for contributor in results\n",
    "            if contributor[\"author\"][\"login\"] == dev_username\n",
    "        ]\n",
    "        if len(filtered_to_contributor) > 0:\n",
    "            contributor = filtered_to_contributor[0]\n",
    "            total_commits = sum(week[\"c\"] for week in contributor[\"weeks\"])\n",
    "            total_additions = sum(week[\"a\"] for week in contributor[\"weeks\"])\n",
    "            total_deletions = sum(week[\"d\"] for week in contributor[\"weeks\"])\n",
    "        else:\n",
    "            total_commits = 0\n",
    "            total_additions = 0\n",
    "            total_deletions = 0\n",
    "\n",
    "        # Add all of these details to the results\n",
    "        return {\n",
    "            \"document_id\": row[\"document_id\"],\n",
    "            \"document_doi\": doc_doi_url,\n",
    "            \"repository_id\": row[\"repository_id\"],\n",
    "            \"repository_url\": repo_url,\n",
    "            \"developer_account_id\": row[\"developer_account_id\"],\n",
    "            \"developer_account_url\": dev_url,\n",
    "            \"developer_contribution_url\": dev_commit_url,\n",
    "            \"n_commits\": total_commits,\n",
    "            \"n_additions\": total_additions,\n",
    "            \"n_deletions\": total_deletions,\n",
    "            \"total_repo_commits\": total_repo_commits,\n",
    "            \"total_repo_additions\": total_repo_additions,\n",
    "            \"total_repo_deletions\": total_repo_deletions,\n",
    "        }\n",
    "\n",
    "    except Exception as e:\n",
    "        print(f\"Error processing {repo_url} for {dev_username}: {e}\")\n",
    "        return {\n",
    "            \"document_id\": row[\"document_id\"],\n",
    "            \"document_doi\": doc_doi_url,\n",
    "            \"repository_id\": row[\"repository_id\"],\n",
    "            \"repository_url\": repo_url,\n",
    "            \"developer_account_id\": row[\"developer_account_id\"],\n",
    "            \"developer_account_url\": dev_url,\n",
    "            \"developer_contribution_url\": dev_commit_url,\n",
    "        }\n",
    "\n",
    "\n",
    "# Take a random sample of 20 rows\n",
    "sampled_rows = cc_na_individuals_no_push_after_pub.drop_duplicates(\n",
    "    \"developer_account_id\", keep=\"first\"\n",
    ").sample(n=20, random_state=12)\n",
    "\n",
    "annotation_ready = []\n",
    "for _, row in tqdm(\n",
    "    sampled_rows.iterrows(),\n",
    "    total=len(sampled_rows),\n",
    "):\n",
    "    # Prepare the row for annotation\n",
    "    annotation_ready.append(prep_for_annotation(row))\n",
    "\n",
    "    # Convert to DataFrame\n",
    "    annotated_df = pd.DataFrame(annotation_ready)\n",
    "    annotated_df.to_csv(\"cc-na-individuals-sample.csv\", index=False)\n",
    "\n",
    "# Convert to DataFrame\n",
    "annotated_df = pd.DataFrame(annotation_ready)\n",
    "annotated_df.to_csv(\"cc-na-individuals-sample.csv\", index=False)"
   ]
  },
  {
   "cell_type": "code",
   "execution_count": 41,
   "id": "1afe2175",
   "metadata": {},
   "outputs": [
    {
     "name": "stderr",
     "output_type": "stream",
     "text": [
      "  0%|          | 1/200 [00:00<00:47,  4.16it/s]"
     ]
    },
    {
     "name": "stdout",
     "output_type": "stream",
     "text": [
      "Number of API call iterations required: 1\n"
     ]
    },
    {
     "name": "stderr",
     "output_type": "stream",
     "text": [
      "  1%|          | 2/200 [00:00<01:03,  3.13it/s]"
     ]
    },
    {
     "name": "stdout",
     "output_type": "stream",
     "text": [
      "Number of API call iterations required: 1\n"
     ]
    },
    {
     "name": "stderr",
     "output_type": "stream",
     "text": [
      "  2%|▏         | 3/200 [00:00<01:07,  2.90it/s]"
     ]
    },
    {
     "name": "stdout",
     "output_type": "stream",
     "text": [
      "Number of API call iterations required: 1\n"
     ]
    },
    {
     "name": "stderr",
     "output_type": "stream",
     "text": [
      "  2%|▏         | 4/200 [00:01<00:59,  3.32it/s]"
     ]
    },
    {
     "name": "stdout",
     "output_type": "stream",
     "text": [
      "Number of API call iterations required: 1\n"
     ]
    },
    {
     "name": "stderr",
     "output_type": "stream",
     "text": [
      "  2%|▎         | 5/200 [00:22<25:01,  7.70s/it]"
     ]
    },
    {
     "name": "stdout",
     "output_type": "stream",
     "text": [
      "Number of API call iterations required: 2\n"
     ]
    },
    {
     "name": "stderr",
     "output_type": "stream",
     "text": [
      "  3%|▎         | 6/200 [03:26<3:39:17, 67.82s/it]"
     ]
    },
    {
     "name": "stdout",
     "output_type": "stream",
     "text": [
      "No results found for https://github.com/stevenireeves/amrex after 10 iterations.\n",
      "Error processing https://github.com/stevenireeves/amrex for memmett: No results found for https://github.com/stevenireeves/amrex after 10 iterations.\n"
     ]
    },
    {
     "name": "stderr",
     "output_type": "stream",
     "text": [
      "  4%|▎         | 7/200 [03:27<2:27:18, 45.79s/it]"
     ]
    },
    {
     "name": "stdout",
     "output_type": "stream",
     "text": [
      "Number of API call iterations required: 1\n"
     ]
    },
    {
     "name": "stderr",
     "output_type": "stream",
     "text": [
      "  4%|▍         | 8/200 [03:27<1:40:27, 31.39s/it]"
     ]
    },
    {
     "name": "stdout",
     "output_type": "stream",
     "text": [
      "Number of API call iterations required: 1\n"
     ]
    },
    {
     "name": "stderr",
     "output_type": "stream",
     "text": [
      "  4%|▍         | 9/200 [06:33<4:13:30, 79.64s/it]"
     ]
    },
    {
     "name": "stdout",
     "output_type": "stream",
     "text": [
      "No results found for https://github.com/stevenireeves/amrex after 10 iterations.\n",
      "Error processing https://github.com/stevenireeves/amrex for asalmgren: No results found for https://github.com/stevenireeves/amrex after 10 iterations.\n"
     ]
    },
    {
     "name": "stderr",
     "output_type": "stream",
     "text": [
      "  5%|▌         | 10/200 [06:33<2:54:35, 55.13s/it]"
     ]
    },
    {
     "name": "stdout",
     "output_type": "stream",
     "text": [
      "Number of API call iterations required: 1\n"
     ]
    },
    {
     "name": "stderr",
     "output_type": "stream",
     "text": [
      "  6%|▌         | 11/200 [06:33<2:00:45, 38.33s/it]"
     ]
    },
    {
     "name": "stdout",
     "output_type": "stream",
     "text": [
      "Number of API call iterations required: 1\n"
     ]
    },
    {
     "name": "stderr",
     "output_type": "stream",
     "text": [
      "  6%|▌         | 12/200 [06:34<1:24:06, 26.84s/it]"
     ]
    },
    {
     "name": "stdout",
     "output_type": "stream",
     "text": [
      "Number of API call iterations required: 1\n"
     ]
    },
    {
     "name": "stderr",
     "output_type": "stream",
     "text": [
      "  6%|▋         | 13/200 [06:54<1:17:42, 24.93s/it]"
     ]
    },
    {
     "name": "stdout",
     "output_type": "stream",
     "text": [
      "Number of API call iterations required: 2\n"
     ]
    },
    {
     "name": "stderr",
     "output_type": "stream",
     "text": [
      "  7%|▋         | 14/200 [07:15<1:13:11, 23.61s/it]"
     ]
    },
    {
     "name": "stdout",
     "output_type": "stream",
     "text": [
      "Number of API call iterations required: 2\n"
     ]
    },
    {
     "name": "stderr",
     "output_type": "stream",
     "text": [
      "  8%|▊         | 15/200 [07:56<1:29:09, 28.92s/it]"
     ]
    },
    {
     "name": "stdout",
     "output_type": "stream",
     "text": [
      "Number of API call iterations required: 3\n"
     ]
    },
    {
     "name": "stderr",
     "output_type": "stream",
     "text": [
      "  8%|▊         | 16/200 [07:57<1:02:29, 20.38s/it]"
     ]
    },
    {
     "name": "stdout",
     "output_type": "stream",
     "text": [
      "Number of API call iterations required: 1\n"
     ]
    },
    {
     "name": "stderr",
     "output_type": "stream",
     "text": [
      "  8%|▊         | 17/200 [07:57<43:51, 14.38s/it]  "
     ]
    },
    {
     "name": "stdout",
     "output_type": "stream",
     "text": [
      "Number of API call iterations required: 1\n"
     ]
    },
    {
     "name": "stderr",
     "output_type": "stream",
     "text": [
      "  9%|▉         | 18/200 [10:41<2:59:29, 59.17s/it]"
     ]
    },
    {
     "name": "stdout",
     "output_type": "stream",
     "text": [
      "Number of API call iterations required: 9\n"
     ]
    },
    {
     "name": "stderr",
     "output_type": "stream",
     "text": [
      " 10%|▉         | 19/200 [10:41<2:05:08, 41.48s/it]"
     ]
    },
    {
     "name": "stdout",
     "output_type": "stream",
     "text": [
      "Number of API call iterations required: 1\n"
     ]
    },
    {
     "name": "stderr",
     "output_type": "stream",
     "text": [
      " 10%|█         | 20/200 [10:41<1:27:21, 29.12s/it]"
     ]
    },
    {
     "name": "stdout",
     "output_type": "stream",
     "text": [
      "Number of API call iterations required: 1\n"
     ]
    },
    {
     "name": "stderr",
     "output_type": "stream",
     "text": [
      " 10%|█         | 21/200 [11:02<1:19:16, 26.57s/it]"
     ]
    },
    {
     "name": "stdout",
     "output_type": "stream",
     "text": [
      "Number of API call iterations required: 2\n"
     ]
    },
    {
     "name": "stderr",
     "output_type": "stream",
     "text": [
      " 11%|█         | 22/200 [12:03<1:49:49, 37.02s/it]"
     ]
    },
    {
     "name": "stdout",
     "output_type": "stream",
     "text": [
      "Number of API call iterations required: 4\n"
     ]
    },
    {
     "name": "stderr",
     "output_type": "stream",
     "text": [
      " 12%|█▏        | 23/200 [13:05<2:10:57, 44.39s/it]"
     ]
    },
    {
     "name": "stdout",
     "output_type": "stream",
     "text": [
      "Number of API call iterations required: 4\n"
     ]
    },
    {
     "name": "stderr",
     "output_type": "stream",
     "text": [
      " 12%|█▏        | 24/200 [13:46<2:07:15, 43.38s/it]"
     ]
    },
    {
     "name": "stdout",
     "output_type": "stream",
     "text": [
      "Number of API call iterations required: 3\n"
     ]
    },
    {
     "name": "stderr",
     "output_type": "stream",
     "text": [
      " 12%|█▎        | 25/200 [14:07<1:46:46, 36.61s/it]"
     ]
    },
    {
     "name": "stdout",
     "output_type": "stream",
     "text": [
      "Number of API call iterations required: 2\n"
     ]
    },
    {
     "name": "stderr",
     "output_type": "stream",
     "text": [
      " 13%|█▎        | 26/200 [14:27<1:32:24, 31.87s/it]"
     ]
    },
    {
     "name": "stdout",
     "output_type": "stream",
     "text": [
      "Number of API call iterations required: 2\n"
     ]
    },
    {
     "name": "stderr",
     "output_type": "stream",
     "text": [
      " 14%|█▎        | 27/200 [14:48<1:22:06, 28.47s/it]"
     ]
    },
    {
     "name": "stdout",
     "output_type": "stream",
     "text": [
      "Number of API call iterations required: 2\n"
     ]
    },
    {
     "name": "stderr",
     "output_type": "stream",
     "text": [
      " 14%|█▍        | 28/200 [16:09<2:07:15, 44.39s/it]"
     ]
    },
    {
     "name": "stdout",
     "output_type": "stream",
     "text": [
      "Number of API call iterations required: 5\n"
     ]
    },
    {
     "name": "stderr",
     "output_type": "stream",
     "text": [
      " 14%|█▍        | 29/200 [16:50<2:03:26, 43.31s/it]"
     ]
    },
    {
     "name": "stdout",
     "output_type": "stream",
     "text": [
      "Number of API call iterations required: 3\n"
     ]
    },
    {
     "name": "stderr",
     "output_type": "stream",
     "text": [
      " 15%|█▌        | 30/200 [17:32<2:01:02, 42.72s/it]"
     ]
    },
    {
     "name": "stdout",
     "output_type": "stream",
     "text": [
      "Number of API call iterations required: 3\n"
     ]
    },
    {
     "name": "stderr",
     "output_type": "stream",
     "text": [
      " 16%|█▌        | 31/200 [18:33<2:15:57, 48.27s/it]"
     ]
    },
    {
     "name": "stdout",
     "output_type": "stream",
     "text": [
      "Number of API call iterations required: 4\n"
     ]
    },
    {
     "name": "stderr",
     "output_type": "stream",
     "text": [
      " 16%|█▌        | 32/200 [18:54<1:52:10, 40.06s/it]"
     ]
    },
    {
     "name": "stdout",
     "output_type": "stream",
     "text": [
      "Number of API call iterations required: 2\n"
     ]
    },
    {
     "name": "stderr",
     "output_type": "stream",
     "text": [
      " 16%|█▋        | 33/200 [19:14<1:35:17, 34.24s/it]"
     ]
    },
    {
     "name": "stdout",
     "output_type": "stream",
     "text": [
      "Number of API call iterations required: 2\n"
     ]
    },
    {
     "name": "stderr",
     "output_type": "stream",
     "text": [
      " 17%|█▋        | 34/200 [20:36<2:13:59, 48.43s/it]"
     ]
    },
    {
     "name": "stdout",
     "output_type": "stream",
     "text": [
      "Number of API call iterations required: 5\n"
     ]
    },
    {
     "name": "stderr",
     "output_type": "stream",
     "text": [
      " 18%|█▊        | 35/200 [20:57<1:50:31, 40.19s/it]"
     ]
    },
    {
     "name": "stdout",
     "output_type": "stream",
     "text": [
      "Number of API call iterations required: 2\n"
     ]
    },
    {
     "name": "stderr",
     "output_type": "stream",
     "text": [
      " 18%|█▊        | 36/200 [21:39<1:51:00, 40.61s/it]"
     ]
    },
    {
     "name": "stdout",
     "output_type": "stream",
     "text": [
      "Number of API call iterations required: 3\n"
     ]
    },
    {
     "name": "stderr",
     "output_type": "stream",
     "text": [
      " 18%|█▊        | 37/200 [22:20<1:50:54, 40.82s/it]"
     ]
    },
    {
     "name": "stdout",
     "output_type": "stream",
     "text": [
      "Number of API call iterations required: 3\n"
     ]
    },
    {
     "name": "stderr",
     "output_type": "stream",
     "text": [
      " 19%|█▉        | 38/200 [23:22<2:07:50, 47.35s/it]"
     ]
    },
    {
     "name": "stdout",
     "output_type": "stream",
     "text": [
      "Number of API call iterations required: 4\n"
     ]
    },
    {
     "name": "stderr",
     "output_type": "stream",
     "text": [
      " 20%|█▉        | 39/200 [23:43<1:45:34, 39.35s/it]"
     ]
    },
    {
     "name": "stdout",
     "output_type": "stream",
     "text": [
      "Number of API call iterations required: 2\n"
     ]
    },
    {
     "name": "stderr",
     "output_type": "stream",
     "text": [
      " 20%|██        | 40/200 [24:04<1:30:15, 33.84s/it]"
     ]
    },
    {
     "name": "stdout",
     "output_type": "stream",
     "text": [
      "Number of API call iterations required: 2\n"
     ]
    },
    {
     "name": "stderr",
     "output_type": "stream",
     "text": [
      " 20%|██        | 41/200 [25:06<1:52:21, 42.40s/it]"
     ]
    },
    {
     "name": "stdout",
     "output_type": "stream",
     "text": [
      "Number of API call iterations required: 4\n"
     ]
    },
    {
     "name": "stderr",
     "output_type": "stream",
     "text": [
      " 21%|██        | 42/200 [26:08<2:06:38, 48.09s/it]"
     ]
    },
    {
     "name": "stdout",
     "output_type": "stream",
     "text": [
      "Number of API call iterations required: 4\n"
     ]
    },
    {
     "name": "stderr",
     "output_type": "stream",
     "text": [
      " 22%|██▏       | 43/200 [26:29<1:44:52, 40.08s/it]"
     ]
    },
    {
     "name": "stdout",
     "output_type": "stream",
     "text": [
      "Number of API call iterations required: 2\n"
     ]
    },
    {
     "name": "stderr",
     "output_type": "stream",
     "text": [
      " 22%|██▏       | 44/200 [26:50<1:29:28, 34.42s/it]"
     ]
    },
    {
     "name": "stdout",
     "output_type": "stream",
     "text": [
      "Number of API call iterations required: 2\n"
     ]
    },
    {
     "name": "stderr",
     "output_type": "stream",
     "text": [
      " 22%|██▎       | 45/200 [27:32<1:34:14, 36.48s/it]"
     ]
    },
    {
     "name": "stdout",
     "output_type": "stream",
     "text": [
      "Number of API call iterations required: 3\n"
     ]
    },
    {
     "name": "stderr",
     "output_type": "stream",
     "text": [
      " 23%|██▎       | 46/200 [28:13<1:37:27, 37.97s/it]"
     ]
    },
    {
     "name": "stdout",
     "output_type": "stream",
     "text": [
      "Number of API call iterations required: 3\n"
     ]
    },
    {
     "name": "stderr",
     "output_type": "stream",
     "text": [
      " 24%|██▎       | 47/200 [28:34<1:23:45, 32.84s/it]"
     ]
    },
    {
     "name": "stdout",
     "output_type": "stream",
     "text": [
      "Number of API call iterations required: 2\n"
     ]
    },
    {
     "name": "stderr",
     "output_type": "stream",
     "text": [
      " 24%|██▍       | 48/200 [28:55<1:14:05, 29.25s/it]"
     ]
    },
    {
     "name": "stdout",
     "output_type": "stream",
     "text": [
      "Number of API call iterations required: 2\n"
     ]
    },
    {
     "name": "stderr",
     "output_type": "stream",
     "text": [
      " 24%|██▍       | 49/200 [29:16<1:07:10, 26.69s/it]"
     ]
    },
    {
     "name": "stdout",
     "output_type": "stream",
     "text": [
      "Number of API call iterations required: 2\n"
     ]
    },
    {
     "name": "stderr",
     "output_type": "stream",
     "text": [
      " 25%|██▌       | 50/200 [29:56<1:17:19, 30.93s/it]"
     ]
    },
    {
     "name": "stdout",
     "output_type": "stream",
     "text": [
      "Number of API call iterations required: 3\n"
     ]
    },
    {
     "name": "stderr",
     "output_type": "stream",
     "text": [
      " 26%|██▌       | 51/200 [30:58<1:39:17, 39.99s/it]"
     ]
    },
    {
     "name": "stdout",
     "output_type": "stream",
     "text": [
      "Number of API call iterations required: 4\n"
     ]
    },
    {
     "name": "stderr",
     "output_type": "stream",
     "text": [
      " 26%|██▌       | 52/200 [31:39<1:39:23, 40.30s/it]"
     ]
    },
    {
     "name": "stdout",
     "output_type": "stream",
     "text": [
      "Number of API call iterations required: 3\n"
     ]
    },
    {
     "name": "stderr",
     "output_type": "stream",
     "text": [
      " 26%|██▋       | 53/200 [32:40<1:54:22, 46.68s/it]"
     ]
    },
    {
     "name": "stdout",
     "output_type": "stream",
     "text": [
      "Number of API call iterations required: 4\n"
     ]
    },
    {
     "name": "stderr",
     "output_type": "stream",
     "text": [
      " 27%|██▋       | 54/200 [33:22<1:49:42, 45.09s/it]"
     ]
    },
    {
     "name": "stdout",
     "output_type": "stream",
     "text": [
      "Number of API call iterations required: 3\n"
     ]
    },
    {
     "name": "stderr",
     "output_type": "stream",
     "text": [
      " 28%|██▊       | 55/200 [34:23<2:00:51, 50.01s/it]"
     ]
    },
    {
     "name": "stdout",
     "output_type": "stream",
     "text": [
      "Number of API call iterations required: 4\n"
     ]
    },
    {
     "name": "stderr",
     "output_type": "stream",
     "text": [
      " 28%|██▊       | 56/200 [34:44<1:38:57, 41.23s/it]"
     ]
    },
    {
     "name": "stdout",
     "output_type": "stream",
     "text": [
      "Number of API call iterations required: 2\n"
     ]
    },
    {
     "name": "stderr",
     "output_type": "stream",
     "text": [
      " 28%|██▊       | 57/200 [35:05<1:23:49, 35.17s/it]"
     ]
    },
    {
     "name": "stdout",
     "output_type": "stream",
     "text": [
      "Number of API call iterations required: 2\n"
     ]
    },
    {
     "name": "stderr",
     "output_type": "stream",
     "text": [
      " 29%|██▉       | 58/200 [35:26<1:13:08, 30.91s/it]"
     ]
    },
    {
     "name": "stdout",
     "output_type": "stream",
     "text": [
      "Number of API call iterations required: 2\n"
     ]
    },
    {
     "name": "stderr",
     "output_type": "stream",
     "text": [
      " 30%|██▉       | 59/200 [36:07<1:19:51, 33.99s/it]"
     ]
    },
    {
     "name": "stdout",
     "output_type": "stream",
     "text": [
      "Number of API call iterations required: 3\n"
     ]
    },
    {
     "name": "stderr",
     "output_type": "stream",
     "text": [
      " 30%|███       | 60/200 [36:27<1:09:51, 29.94s/it]"
     ]
    },
    {
     "name": "stdout",
     "output_type": "stream",
     "text": [
      "Number of API call iterations required: 2\n"
     ]
    },
    {
     "name": "stderr",
     "output_type": "stream",
     "text": [
      " 30%|███       | 61/200 [36:48<1:02:57, 27.18s/it]"
     ]
    },
    {
     "name": "stdout",
     "output_type": "stream",
     "text": [
      "Number of API call iterations required: 2\n"
     ]
    },
    {
     "name": "stderr",
     "output_type": "stream",
     "text": [
      " 31%|███       | 62/200 [37:30<1:12:52, 31.69s/it]"
     ]
    },
    {
     "name": "stdout",
     "output_type": "stream",
     "text": [
      "Number of API call iterations required: 3\n"
     ]
    },
    {
     "name": "stderr",
     "output_type": "stream",
     "text": [
      " 32%|███▏      | 63/200 [37:51<1:04:53, 28.42s/it]"
     ]
    },
    {
     "name": "stdout",
     "output_type": "stream",
     "text": [
      "Number of API call iterations required: 2\n"
     ]
    },
    {
     "name": "stderr",
     "output_type": "stream",
     "text": [
      " 32%|███▏      | 64/200 [38:32<1:12:58, 32.20s/it]"
     ]
    },
    {
     "name": "stdout",
     "output_type": "stream",
     "text": [
      "Number of API call iterations required: 3\n"
     ]
    },
    {
     "name": "stderr",
     "output_type": "stream",
     "text": [
      " 32%|███▎      | 65/200 [39:34<1:32:11, 40.98s/it]"
     ]
    },
    {
     "name": "stdout",
     "output_type": "stream",
     "text": [
      "Number of API call iterations required: 4\n"
     ]
    },
    {
     "name": "stderr",
     "output_type": "stream",
     "text": [
      " 33%|███▎      | 66/200 [40:57<1:59:36, 53.55s/it]"
     ]
    },
    {
     "name": "stdout",
     "output_type": "stream",
     "text": [
      "Number of API call iterations required: 5\n"
     ]
    },
    {
     "name": "stderr",
     "output_type": "stream",
     "text": [
      " 34%|███▎      | 67/200 [41:17<1:36:45, 43.65s/it]"
     ]
    },
    {
     "name": "stdout",
     "output_type": "stream",
     "text": [
      "Number of API call iterations required: 2\n"
     ]
    },
    {
     "name": "stderr",
     "output_type": "stream",
     "text": [
      " 34%|███▍      | 68/200 [41:58<1:34:07, 42.78s/it]"
     ]
    },
    {
     "name": "stdout",
     "output_type": "stream",
     "text": [
      "Number of API call iterations required: 3\n"
     ]
    },
    {
     "name": "stderr",
     "output_type": "stream",
     "text": [
      " 34%|███▍      | 69/200 [43:00<1:45:50, 48.47s/it]"
     ]
    },
    {
     "name": "stdout",
     "output_type": "stream",
     "text": [
      "Number of API call iterations required: 4\n"
     ]
    },
    {
     "name": "stderr",
     "output_type": "stream",
     "text": [
      " 35%|███▌      | 70/200 [44:01<1:53:39, 52.46s/it]"
     ]
    },
    {
     "name": "stdout",
     "output_type": "stream",
     "text": [
      "Number of API call iterations required: 4\n"
     ]
    },
    {
     "name": "stderr",
     "output_type": "stream",
     "text": [
      " 36%|███▌      | 71/200 [45:03<1:58:48, 55.26s/it]"
     ]
    },
    {
     "name": "stdout",
     "output_type": "stream",
     "text": [
      "Number of API call iterations required: 4\n"
     ]
    },
    {
     "name": "stderr",
     "output_type": "stream",
     "text": [
      " 36%|███▌      | 72/200 [46:26<2:15:41, 63.61s/it]"
     ]
    },
    {
     "name": "stdout",
     "output_type": "stream",
     "text": [
      "Number of API call iterations required: 5\n"
     ]
    },
    {
     "name": "stderr",
     "output_type": "stream",
     "text": [
      " 36%|███▋      | 73/200 [47:07<2:00:26, 56.90s/it]"
     ]
    },
    {
     "name": "stdout",
     "output_type": "stream",
     "text": [
      "Number of API call iterations required: 3\n"
     ]
    },
    {
     "name": "stderr",
     "output_type": "stream",
     "text": [
      " 37%|███▋      | 74/200 [47:28<1:36:39, 46.03s/it]"
     ]
    },
    {
     "name": "stdout",
     "output_type": "stream",
     "text": [
      "Number of API call iterations required: 2\n"
     ]
    },
    {
     "name": "stderr",
     "output_type": "stream",
     "text": [
      " 38%|███▊      | 75/200 [50:35<3:04:05, 88.36s/it]"
     ]
    },
    {
     "name": "stdout",
     "output_type": "stream",
     "text": [
      "No results found for https://github.com/stevenireeves/amrex after 10 iterations.\n",
      "Error processing https://github.com/stevenireeves/amrex for ax3l: No results found for https://github.com/stevenireeves/amrex after 10 iterations.\n"
     ]
    },
    {
     "name": "stderr",
     "output_type": "stream",
     "text": [
      " 38%|███▊      | 76/200 [50:56<2:20:34, 68.02s/it]"
     ]
    },
    {
     "name": "stdout",
     "output_type": "stream",
     "text": [
      "Number of API call iterations required: 2\n"
     ]
    },
    {
     "name": "stderr",
     "output_type": "stream",
     "text": [
      " 38%|███▊      | 77/200 [51:17<1:50:19, 53.82s/it]"
     ]
    },
    {
     "name": "stdout",
     "output_type": "stream",
     "text": [
      "Number of API call iterations required: 2\n"
     ]
    },
    {
     "name": "stderr",
     "output_type": "stream",
     "text": [
      " 39%|███▉      | 78/200 [51:37<1:29:08, 43.84s/it]"
     ]
    },
    {
     "name": "stdout",
     "output_type": "stream",
     "text": [
      "Number of API call iterations required: 2\n"
     ]
    },
    {
     "name": "stderr",
     "output_type": "stream",
     "text": [
      " 40%|███▉      | 79/200 [52:59<1:51:21, 55.22s/it]"
     ]
    },
    {
     "name": "stdout",
     "output_type": "stream",
     "text": [
      "Number of API call iterations required: 5\n"
     ]
    },
    {
     "name": "stderr",
     "output_type": "stream",
     "text": [
      " 40%|████      | 80/200 [54:00<1:54:01, 57.01s/it]"
     ]
    },
    {
     "name": "stdout",
     "output_type": "stream",
     "text": [
      "Number of API call iterations required: 4\n"
     ]
    },
    {
     "name": "stderr",
     "output_type": "stream",
     "text": [
      " 40%|████      | 81/200 [54:21<1:31:33, 46.16s/it]"
     ]
    },
    {
     "name": "stdout",
     "output_type": "stream",
     "text": [
      "Number of API call iterations required: 2\n"
     ]
    },
    {
     "name": "stderr",
     "output_type": "stream",
     "text": [
      " 41%|████      | 82/200 [55:02<1:28:02, 44.77s/it]"
     ]
    },
    {
     "name": "stdout",
     "output_type": "stream",
     "text": [
      "Number of API call iterations required: 3\n"
     ]
    },
    {
     "name": "stderr",
     "output_type": "stream",
     "text": [
      " 42%|████▏     | 83/200 [55:03<1:01:21, 31.46s/it]"
     ]
    },
    {
     "name": "stdout",
     "output_type": "stream",
     "text": [
      "Number of API call iterations required: 1\n"
     ]
    },
    {
     "name": "stderr",
     "output_type": "stream",
     "text": [
      " 42%|████▏     | 84/200 [58:06<2:28:47, 76.96s/it]"
     ]
    },
    {
     "name": "stdout",
     "output_type": "stream",
     "text": [
      "No results found for https://github.com/mengqidyangge/hierkd after 10 iterations.\n",
      "Error processing https://github.com/mengqidyangge/hierkd for mengqiDyangge: No results found for https://github.com/mengqidyangge/hierkd after 10 iterations.\n"
     ]
    },
    {
     "name": "stderr",
     "output_type": "stream",
     "text": [
      " 42%|████▎     | 85/200 [58:27<1:55:05, 60.05s/it]"
     ]
    },
    {
     "name": "stdout",
     "output_type": "stream",
     "text": [
      "Number of API call iterations required: 2\n"
     ]
    },
    {
     "name": "stderr",
     "output_type": "stream",
     "text": [
      " 43%|████▎     | 86/200 [58:47<1:31:35, 48.20s/it]"
     ]
    },
    {
     "name": "stdout",
     "output_type": "stream",
     "text": [
      "Number of API call iterations required: 2\n"
     ]
    },
    {
     "name": "stderr",
     "output_type": "stream",
     "text": [
      " 44%|████▎     | 87/200 [1:00:09<1:49:59, 58.40s/it]"
     ]
    },
    {
     "name": "stdout",
     "output_type": "stream",
     "text": [
      "Number of API call iterations required: 5\n"
     ]
    },
    {
     "name": "stderr",
     "output_type": "stream",
     "text": [
      " 44%|████▍     | 88/200 [1:01:11<1:50:40, 59.29s/it]"
     ]
    },
    {
     "name": "stdout",
     "output_type": "stream",
     "text": [
      "Number of API call iterations required: 4\n"
     ]
    },
    {
     "name": "stderr",
     "output_type": "stream",
     "text": [
      " 44%|████▍     | 89/200 [1:01:52<1:39:34, 53.82s/it]"
     ]
    },
    {
     "name": "stdout",
     "output_type": "stream",
     "text": [
      "Number of API call iterations required: 3\n"
     ]
    },
    {
     "name": "stderr",
     "output_type": "stream",
     "text": [
      " 45%|████▌     | 90/200 [1:03:35<2:05:50, 68.64s/it]"
     ]
    },
    {
     "name": "stdout",
     "output_type": "stream",
     "text": [
      "Number of API call iterations required: 6\n"
     ]
    },
    {
     "name": "stderr",
     "output_type": "stream",
     "text": [
      " 46%|████▌     | 91/200 [1:04:16<1:49:32, 60.30s/it]"
     ]
    },
    {
     "name": "stdout",
     "output_type": "stream",
     "text": [
      "Number of API call iterations required: 3\n"
     ]
    },
    {
     "name": "stderr",
     "output_type": "stream",
     "text": [
      " 46%|████▌     | 92/200 [1:04:37<1:27:35, 48.66s/it]"
     ]
    },
    {
     "name": "stdout",
     "output_type": "stream",
     "text": [
      "Number of API call iterations required: 2\n"
     ]
    },
    {
     "name": "stderr",
     "output_type": "stream",
     "text": [
      " 46%|████▋     | 93/200 [1:04:58<1:12:04, 40.42s/it]"
     ]
    },
    {
     "name": "stdout",
     "output_type": "stream",
     "text": [
      "Number of API call iterations required: 2\n"
     ]
    },
    {
     "name": "stderr",
     "output_type": "stream",
     "text": [
      " 47%|████▋     | 94/200 [1:05:19<1:00:51, 34.44s/it]"
     ]
    },
    {
     "name": "stdout",
     "output_type": "stream",
     "text": [
      "Number of API call iterations required: 2\n"
     ]
    },
    {
     "name": "stderr",
     "output_type": "stream",
     "text": [
      " 48%|████▊     | 95/200 [1:06:41<1:25:08, 48.66s/it]"
     ]
    },
    {
     "name": "stdout",
     "output_type": "stream",
     "text": [
      "Number of API call iterations required: 5\n"
     ]
    },
    {
     "name": "stderr",
     "output_type": "stream",
     "text": [
      " 48%|████▊     | 96/200 [1:07:22<1:20:26, 46.41s/it]"
     ]
    },
    {
     "name": "stdout",
     "output_type": "stream",
     "text": [
      "Number of API call iterations required: 3\n"
     ]
    },
    {
     "name": "stderr",
     "output_type": "stream",
     "text": [
      " 48%|████▊     | 97/200 [1:10:26<2:30:20, 87.58s/it]"
     ]
    },
    {
     "name": "stdout",
     "output_type": "stream",
     "text": [
      "No results found for https://github.com/uhh-iss/zeek after 10 iterations.\n",
      "Error processing https://github.com/uhh-iss/zeek for dnthayer: No results found for https://github.com/uhh-iss/zeek after 10 iterations.\n"
     ]
    },
    {
     "name": "stderr",
     "output_type": "stream",
     "text": [
      " 49%|████▉     | 98/200 [1:11:08<2:05:36, 73.89s/it]"
     ]
    },
    {
     "name": "stdout",
     "output_type": "stream",
     "text": [
      "Number of API call iterations required: 3\n"
     ]
    },
    {
     "name": "stderr",
     "output_type": "stream",
     "text": [
      " 50%|████▉     | 99/200 [1:12:09<1:58:16, 70.26s/it]"
     ]
    },
    {
     "name": "stdout",
     "output_type": "stream",
     "text": [
      "Number of API call iterations required: 4\n"
     ]
    },
    {
     "name": "stderr",
     "output_type": "stream",
     "text": [
      " 50%|█████     | 100/200 [1:13:12<1:53:09, 67.90s/it]"
     ]
    },
    {
     "name": "stdout",
     "output_type": "stream",
     "text": [
      "Number of API call iterations required: 4\n"
     ]
    },
    {
     "name": "stderr",
     "output_type": "stream",
     "text": [
      " 50%|█████     | 101/200 [1:13:32<1:28:42, 53.76s/it]"
     ]
    },
    {
     "name": "stdout",
     "output_type": "stream",
     "text": [
      "Number of API call iterations required: 2\n"
     ]
    },
    {
     "name": "stderr",
     "output_type": "stream",
     "text": [
      " 51%|█████     | 102/200 [1:14:14<1:21:41, 50.01s/it]"
     ]
    },
    {
     "name": "stdout",
     "output_type": "stream",
     "text": [
      "Number of API call iterations required: 3\n"
     ]
    },
    {
     "name": "stderr",
     "output_type": "stream",
     "text": [
      " 52%|█████▏    | 103/200 [1:14:55<1:16:36, 47.39s/it]"
     ]
    },
    {
     "name": "stdout",
     "output_type": "stream",
     "text": [
      "Number of API call iterations required: 3\n"
     ]
    },
    {
     "name": "stderr",
     "output_type": "stream",
     "text": [
      " 52%|█████▏    | 104/200 [1:16:37<1:42:09, 63.85s/it]"
     ]
    },
    {
     "name": "stdout",
     "output_type": "stream",
     "text": [
      "Number of API call iterations required: 6\n"
     ]
    },
    {
     "name": "stderr",
     "output_type": "stream",
     "text": [
      " 52%|█████▎    | 105/200 [1:16:58<1:20:33, 50.87s/it]"
     ]
    },
    {
     "name": "stdout",
     "output_type": "stream",
     "text": [
      "Number of API call iterations required: 2\n"
     ]
    },
    {
     "name": "stderr",
     "output_type": "stream",
     "text": [
      " 53%|█████▎    | 106/200 [1:20:01<2:22:01, 90.66s/it]"
     ]
    },
    {
     "name": "stdout",
     "output_type": "stream",
     "text": [
      "No results found for https://github.com/disi-unibo-nlp/medgenie after 10 iterations.\n",
      "Error processing https://github.com/disi-unibo-nlp/medgenie for disi-unibo-nlp: No results found for https://github.com/disi-unibo-nlp/medgenie after 10 iterations.\n"
     ]
    },
    {
     "name": "stderr",
     "output_type": "stream",
     "text": [
      " 54%|█████▎    | 107/200 [1:20:22<1:47:56, 69.64s/it]"
     ]
    },
    {
     "name": "stdout",
     "output_type": "stream",
     "text": [
      "Number of API call iterations required: 2\n"
     ]
    },
    {
     "name": "stderr",
     "output_type": "stream",
     "text": [
      " 54%|█████▍    | 108/200 [1:21:03<1:33:35, 61.04s/it]"
     ]
    },
    {
     "name": "stdout",
     "output_type": "stream",
     "text": [
      "Number of API call iterations required: 3\n"
     ]
    },
    {
     "name": "stderr",
     "output_type": "stream",
     "text": [
      " 55%|█████▍    | 109/200 [1:21:45<1:24:03, 55.43s/it]"
     ]
    },
    {
     "name": "stdout",
     "output_type": "stream",
     "text": [
      "Number of API call iterations required: 3\n"
     ]
    },
    {
     "name": "stderr",
     "output_type": "stream",
     "text": [
      " 55%|█████▌    | 110/200 [1:22:07<1:07:47, 45.19s/it]"
     ]
    },
    {
     "name": "stdout",
     "output_type": "stream",
     "text": [
      "Number of API call iterations required: 2\n"
     ]
    },
    {
     "name": "stderr",
     "output_type": "stream",
     "text": [
      " 56%|█████▌    | 111/200 [1:22:07<47:01, 31.71s/it]  "
     ]
    },
    {
     "name": "stdout",
     "output_type": "stream",
     "text": [
      "Number of API call iterations required: 1\n"
     ]
    },
    {
     "name": "stderr",
     "output_type": "stream",
     "text": [
      " 56%|█████▌    | 112/200 [1:22:48<50:32, 34.46s/it]"
     ]
    },
    {
     "name": "stdout",
     "output_type": "stream",
     "text": [
      "Number of API call iterations required: 3\n"
     ]
    },
    {
     "name": "stderr",
     "output_type": "stream",
     "text": [
      " 56%|█████▋    | 113/200 [1:23:50<1:01:52, 42.68s/it]"
     ]
    },
    {
     "name": "stdout",
     "output_type": "stream",
     "text": [
      "Number of API call iterations required: 4\n"
     ]
    },
    {
     "name": "stderr",
     "output_type": "stream",
     "text": [
      " 57%|█████▋    | 114/200 [1:24:11<52:03, 36.33s/it]  "
     ]
    },
    {
     "name": "stdout",
     "output_type": "stream",
     "text": [
      "Number of API call iterations required: 2\n"
     ]
    },
    {
     "name": "stderr",
     "output_type": "stream",
     "text": [
      " 57%|█████▊    | 115/200 [1:25:33<1:10:53, 50.04s/it]"
     ]
    },
    {
     "name": "stdout",
     "output_type": "stream",
     "text": [
      "Number of API call iterations required: 5\n"
     ]
    },
    {
     "name": "stderr",
     "output_type": "stream",
     "text": [
      " 58%|█████▊    | 116/200 [1:26:35<1:15:05, 53.64s/it]"
     ]
    },
    {
     "name": "stdout",
     "output_type": "stream",
     "text": [
      "Number of API call iterations required: 4\n"
     ]
    },
    {
     "name": "stderr",
     "output_type": "stream",
     "text": [
      " 58%|█████▊    | 117/200 [1:27:37<1:17:27, 55.99s/it]"
     ]
    },
    {
     "name": "stdout",
     "output_type": "stream",
     "text": [
      "Number of API call iterations required: 4\n"
     ]
    },
    {
     "name": "stderr",
     "output_type": "stream",
     "text": [
      " 59%|█████▉    | 118/200 [1:28:18<1:10:28, 51.57s/it]"
     ]
    },
    {
     "name": "stdout",
     "output_type": "stream",
     "text": [
      "Number of API call iterations required: 3\n"
     ]
    },
    {
     "name": "stderr",
     "output_type": "stream",
     "text": [
      " 60%|█████▉    | 119/200 [1:28:19<49:07, 36.39s/it]  "
     ]
    },
    {
     "name": "stdout",
     "output_type": "stream",
     "text": [
      "Number of API call iterations required: 1\n"
     ]
    },
    {
     "name": "stderr",
     "output_type": "stream",
     "text": [
      " 60%|██████    | 120/200 [1:29:00<50:23, 37.79s/it]"
     ]
    },
    {
     "name": "stdout",
     "output_type": "stream",
     "text": [
      "Number of API call iterations required: 3\n"
     ]
    },
    {
     "name": "stderr",
     "output_type": "stream",
     "text": [
      " 60%|██████    | 121/200 [1:30:22<1:07:05, 50.96s/it]"
     ]
    },
    {
     "name": "stdout",
     "output_type": "stream",
     "text": [
      "Number of API call iterations required: 5\n"
     ]
    },
    {
     "name": "stderr",
     "output_type": "stream",
     "text": [
      " 61%|██████    | 122/200 [1:33:28<1:58:58, 91.52s/it]"
     ]
    },
    {
     "name": "stdout",
     "output_type": "stream",
     "text": [
      "No results found for https://github.com/stevenireeves/amrex after 10 iterations.\n",
      "Error processing https://github.com/stevenireeves/amrex for adam-m-jcbs: No results found for https://github.com/stevenireeves/amrex after 10 iterations.\n"
     ]
    },
    {
     "name": "stderr",
     "output_type": "stream",
     "text": [
      " 62%|██████▏   | 123/200 [1:35:10<2:01:38, 94.79s/it]"
     ]
    },
    {
     "name": "stdout",
     "output_type": "stream",
     "text": [
      "Number of API call iterations required: 6\n"
     ]
    },
    {
     "name": "stderr",
     "output_type": "stream",
     "text": [
      " 62%|██████▏   | 124/200 [1:35:31<1:31:59, 72.63s/it]"
     ]
    },
    {
     "name": "stdout",
     "output_type": "stream",
     "text": [
      "Number of API call iterations required: 2\n"
     ]
    },
    {
     "name": "stderr",
     "output_type": "stream",
     "text": [
      " 62%|██████▎   | 125/200 [1:36:13<1:19:09, 63.33s/it]"
     ]
    },
    {
     "name": "stdout",
     "output_type": "stream",
     "text": [
      "Number of API call iterations required: 3\n"
     ]
    },
    {
     "name": "stderr",
     "output_type": "stream",
     "text": [
      " 63%|██████▎   | 126/200 [1:36:34<1:02:29, 50.67s/it]"
     ]
    },
    {
     "name": "stdout",
     "output_type": "stream",
     "text": [
      "Number of API call iterations required: 2\n"
     ]
    },
    {
     "name": "stderr",
     "output_type": "stream",
     "text": [
      " 64%|██████▎   | 127/200 [1:37:15<58:19, 47.93s/it]  "
     ]
    },
    {
     "name": "stdout",
     "output_type": "stream",
     "text": [
      "Number of API call iterations required: 3\n"
     ]
    },
    {
     "name": "stderr",
     "output_type": "stream",
     "text": [
      " 64%|██████▍   | 128/200 [1:37:57<55:09, 45.96s/it]"
     ]
    },
    {
     "name": "stdout",
     "output_type": "stream",
     "text": [
      "Number of API call iterations required: 3\n"
     ]
    },
    {
     "name": "stderr",
     "output_type": "stream",
     "text": [
      " 64%|██████▍   | 129/200 [1:39:39<1:14:30, 62.96s/it]"
     ]
    },
    {
     "name": "stdout",
     "output_type": "stream",
     "text": [
      "Number of API call iterations required: 6\n"
     ]
    },
    {
     "name": "stderr",
     "output_type": "stream",
     "text": [
      " 65%|██████▌   | 130/200 [1:40:00<58:43, 50.34s/it]  "
     ]
    },
    {
     "name": "stdout",
     "output_type": "stream",
     "text": [
      "Number of API call iterations required: 2\n"
     ]
    },
    {
     "name": "stderr",
     "output_type": "stream",
     "text": [
      " 66%|██████▌   | 131/200 [1:40:42<54:47, 47.64s/it]"
     ]
    },
    {
     "name": "stdout",
     "output_type": "stream",
     "text": [
      "Number of API call iterations required: 3\n"
     ]
    },
    {
     "name": "stderr",
     "output_type": "stream",
     "text": [
      " 66%|██████▌   | 132/200 [1:41:24<52:13, 46.08s/it]"
     ]
    },
    {
     "name": "stdout",
     "output_type": "stream",
     "text": [
      "Number of API call iterations required: 3\n"
     ]
    },
    {
     "name": "stderr",
     "output_type": "stream",
     "text": [
      " 66%|██████▋   | 133/200 [1:42:26<56:41, 50.77s/it]"
     ]
    },
    {
     "name": "stdout",
     "output_type": "stream",
     "text": [
      "Number of API call iterations required: 4\n"
     ]
    },
    {
     "name": "stderr",
     "output_type": "stream",
     "text": [
      " 67%|██████▋   | 134/200 [1:44:08<1:12:54, 66.29s/it]"
     ]
    },
    {
     "name": "stdout",
     "output_type": "stream",
     "text": [
      "Number of API call iterations required: 6\n"
     ]
    },
    {
     "name": "stderr",
     "output_type": "stream",
     "text": [
      " 68%|██████▊   | 135/200 [1:44:50<1:03:47, 58.89s/it]"
     ]
    },
    {
     "name": "stdout",
     "output_type": "stream",
     "text": [
      "Number of API call iterations required: 3\n"
     ]
    },
    {
     "name": "stderr",
     "output_type": "stream",
     "text": [
      " 68%|██████▊   | 136/200 [1:45:31<57:06, 53.54s/it]  "
     ]
    },
    {
     "name": "stdout",
     "output_type": "stream",
     "text": [
      "Number of API call iterations required: 3\n"
     ]
    },
    {
     "name": "stderr",
     "output_type": "stream",
     "text": [
      " 68%|██████▊   | 137/200 [1:47:54<1:24:32, 80.51s/it]"
     ]
    },
    {
     "name": "stdout",
     "output_type": "stream",
     "text": [
      "Number of API call iterations required: 8\n"
     ]
    },
    {
     "name": "stderr",
     "output_type": "stream",
     "text": [
      " 69%|██████▉   | 138/200 [1:48:35<1:10:58, 68.68s/it]"
     ]
    },
    {
     "name": "stdout",
     "output_type": "stream",
     "text": [
      "Number of API call iterations required: 3\n"
     ]
    },
    {
     "name": "stderr",
     "output_type": "stream",
     "text": [
      " 70%|██████▉   | 139/200 [1:48:57<55:36, 54.69s/it]  "
     ]
    },
    {
     "name": "stdout",
     "output_type": "stream",
     "text": [
      "Number of API call iterations required: 2\n"
     ]
    },
    {
     "name": "stderr",
     "output_type": "stream",
     "text": [
      " 70%|███████   | 140/200 [1:49:18<44:28, 44.47s/it]"
     ]
    },
    {
     "name": "stdout",
     "output_type": "stream",
     "text": [
      "Number of API call iterations required: 2\n"
     ]
    },
    {
     "name": "stderr",
     "output_type": "stream",
     "text": [
      " 70%|███████   | 141/200 [1:49:59<42:44, 43.47s/it]"
     ]
    },
    {
     "name": "stdout",
     "output_type": "stream",
     "text": [
      "Number of API call iterations required: 3\n"
     ]
    },
    {
     "name": "stderr",
     "output_type": "stream",
     "text": [
      " 71%|███████   | 142/200 [1:51:42<59:04, 61.11s/it]"
     ]
    },
    {
     "name": "stdout",
     "output_type": "stream",
     "text": [
      "Number of API call iterations required: 6\n"
     ]
    },
    {
     "name": "stderr",
     "output_type": "stream",
     "text": [
      " 72%|███████▏  | 143/200 [1:53:44<1:15:40, 79.66s/it]"
     ]
    },
    {
     "name": "stdout",
     "output_type": "stream",
     "text": [
      "Number of API call iterations required: 7\n"
     ]
    },
    {
     "name": "stderr",
     "output_type": "stream",
     "text": [
      " 72%|███████▏  | 144/200 [1:54:07<58:14, 62.41s/it]  "
     ]
    },
    {
     "name": "stdout",
     "output_type": "stream",
     "text": [
      "Number of API call iterations required: 2\n"
     ]
    },
    {
     "name": "stderr",
     "output_type": "stream",
     "text": [
      " 72%|███████▎  | 145/200 [1:54:28<45:57, 50.14s/it]"
     ]
    },
    {
     "name": "stdout",
     "output_type": "stream",
     "text": [
      "Number of API call iterations required: 2\n"
     ]
    },
    {
     "name": "stderr",
     "output_type": "stream",
     "text": [
      " 73%|███████▎  | 146/200 [1:55:50<53:43, 59.70s/it]"
     ]
    },
    {
     "name": "stdout",
     "output_type": "stream",
     "text": [
      "Number of API call iterations required: 5\n"
     ]
    },
    {
     "name": "stderr",
     "output_type": "stream",
     "text": [
      " 74%|███████▎  | 147/200 [1:56:11<42:23, 48.00s/it]"
     ]
    },
    {
     "name": "stdout",
     "output_type": "stream",
     "text": [
      "Number of API call iterations required: 2\n"
     ]
    },
    {
     "name": "stderr",
     "output_type": "stream",
     "text": [
      " 74%|███████▍  | 148/200 [1:57:12<45:07, 52.07s/it]"
     ]
    },
    {
     "name": "stdout",
     "output_type": "stream",
     "text": [
      "Number of API call iterations required: 4\n"
     ]
    },
    {
     "name": "stderr",
     "output_type": "stream",
     "text": [
      " 74%|███████▍  | 149/200 [1:58:14<46:38, 54.88s/it]"
     ]
    },
    {
     "name": "stdout",
     "output_type": "stream",
     "text": [
      "Number of API call iterations required: 4\n"
     ]
    },
    {
     "name": "stderr",
     "output_type": "stream",
     "text": [
      " 75%|███████▌  | 150/200 [1:58:34<37:09, 44.60s/it]"
     ]
    },
    {
     "name": "stdout",
     "output_type": "stream",
     "text": [
      "Number of API call iterations required: 2\n"
     ]
    },
    {
     "name": "stderr",
     "output_type": "stream",
     "text": [
      " 76%|███████▌  | 151/200 [1:58:55<30:34, 37.44s/it]"
     ]
    },
    {
     "name": "stdout",
     "output_type": "stream",
     "text": [
      "Number of API call iterations required: 2\n"
     ]
    },
    {
     "name": "stderr",
     "output_type": "stream",
     "text": [
      " 76%|███████▌  | 152/200 [1:59:36<30:46, 38.47s/it]"
     ]
    },
    {
     "name": "stdout",
     "output_type": "stream",
     "text": [
      "Number of API call iterations required: 3\n"
     ]
    },
    {
     "name": "stderr",
     "output_type": "stream",
     "text": [
      " 76%|███████▋  | 153/200 [2:00:17<30:44, 39.23s/it]"
     ]
    },
    {
     "name": "stdout",
     "output_type": "stream",
     "text": [
      "Number of API call iterations required: 3\n"
     ]
    },
    {
     "name": "stderr",
     "output_type": "stream",
     "text": [
      " 77%|███████▋  | 154/200 [2:01:18<35:06, 45.79s/it]"
     ]
    },
    {
     "name": "stdout",
     "output_type": "stream",
     "text": [
      "Number of API call iterations required: 4\n"
     ]
    },
    {
     "name": "stderr",
     "output_type": "stream",
     "text": [
      " 78%|███████▊  | 155/200 [2:01:59<33:15, 44.34s/it]"
     ]
    },
    {
     "name": "stdout",
     "output_type": "stream",
     "text": [
      "Number of API call iterations required: 3\n"
     ]
    },
    {
     "name": "stderr",
     "output_type": "stream",
     "text": [
      " 78%|███████▊  | 156/200 [2:03:00<36:14, 49.41s/it]"
     ]
    },
    {
     "name": "stdout",
     "output_type": "stream",
     "text": [
      "Number of API call iterations required: 4\n"
     ]
    },
    {
     "name": "stderr",
     "output_type": "stream",
     "text": [
      " 78%|███████▊  | 157/200 [2:03:21<29:14, 40.79s/it]"
     ]
    },
    {
     "name": "stdout",
     "output_type": "stream",
     "text": [
      "Number of API call iterations required: 2\n"
     ]
    },
    {
     "name": "stderr",
     "output_type": "stream",
     "text": [
      " 79%|███████▉  | 158/200 [2:05:24<45:47, 65.41s/it]"
     ]
    },
    {
     "name": "stdout",
     "output_type": "stream",
     "text": [
      "Number of API call iterations required: 7\n"
     ]
    },
    {
     "name": "stderr",
     "output_type": "stream",
     "text": [
      " 80%|███████▉  | 159/200 [2:07:46<1:00:30, 88.55s/it]"
     ]
    },
    {
     "name": "stdout",
     "output_type": "stream",
     "text": [
      "Number of API call iterations required: 8\n"
     ]
    },
    {
     "name": "stderr",
     "output_type": "stream",
     "text": [
      " 80%|████████  | 160/200 [2:08:49<53:47, 80.70s/it]  "
     ]
    },
    {
     "name": "stdout",
     "output_type": "stream",
     "text": [
      "Number of API call iterations required: 4\n"
     ]
    },
    {
     "name": "stderr",
     "output_type": "stream",
     "text": [
      " 80%|████████  | 161/200 [2:09:51<48:54, 75.25s/it]"
     ]
    },
    {
     "name": "stdout",
     "output_type": "stream",
     "text": [
      "Number of API call iterations required: 4\n"
     ]
    },
    {
     "name": "stderr",
     "output_type": "stream",
     "text": [
      " 81%|████████  | 162/200 [2:11:35<52:59, 83.66s/it]"
     ]
    },
    {
     "name": "stdout",
     "output_type": "stream",
     "text": [
      "Number of API call iterations required: 6\n"
     ]
    },
    {
     "name": "stderr",
     "output_type": "stream",
     "text": [
      " 82%|████████▏ | 163/200 [2:12:16<43:44, 70.92s/it]"
     ]
    },
    {
     "name": "stdout",
     "output_type": "stream",
     "text": [
      "Number of API call iterations required: 3\n"
     ]
    },
    {
     "name": "stderr",
     "output_type": "stream",
     "text": [
      " 82%|████████▏ | 164/200 [2:15:03<59:57, 99.92s/it]"
     ]
    },
    {
     "name": "stdout",
     "output_type": "stream",
     "text": [
      "Number of API call iterations required: 9\n"
     ]
    },
    {
     "name": "stderr",
     "output_type": "stream",
     "text": [
      " 82%|████████▎ | 165/200 [2:15:46<48:18, 82.82s/it]"
     ]
    },
    {
     "name": "stdout",
     "output_type": "stream",
     "text": [
      "Number of API call iterations required: 3\n"
     ]
    },
    {
     "name": "stderr",
     "output_type": "stream",
     "text": [
      " 83%|████████▎ | 166/200 [2:16:27<39:49, 70.27s/it]"
     ]
    },
    {
     "name": "stdout",
     "output_type": "stream",
     "text": [
      "Number of API call iterations required: 3\n"
     ]
    },
    {
     "name": "stderr",
     "output_type": "stream",
     "text": [
      " 84%|████████▎ | 167/200 [2:17:49<40:28, 73.60s/it]"
     ]
    },
    {
     "name": "stdout",
     "output_type": "stream",
     "text": [
      "Number of API call iterations required: 5\n"
     ]
    },
    {
     "name": "stderr",
     "output_type": "stream",
     "text": [
      " 84%|████████▍ | 168/200 [2:19:34<44:19, 83.11s/it]"
     ]
    },
    {
     "name": "stdout",
     "output_type": "stream",
     "text": [
      "Number of API call iterations required: 6\n"
     ]
    },
    {
     "name": "stderr",
     "output_type": "stream",
     "text": [
      " 84%|████████▍ | 169/200 [2:19:55<33:14, 64.33s/it]"
     ]
    },
    {
     "name": "stdout",
     "output_type": "stream",
     "text": [
      "Number of API call iterations required: 2\n"
     ]
    },
    {
     "name": "stderr",
     "output_type": "stream",
     "text": [
      " 85%|████████▌ | 170/200 [2:20:15<25:37, 51.24s/it]"
     ]
    },
    {
     "name": "stdout",
     "output_type": "stream",
     "text": [
      "Number of API call iterations required: 2\n"
     ]
    },
    {
     "name": "stderr",
     "output_type": "stream",
     "text": [
      " 86%|████████▌ | 171/200 [2:20:56<23:16, 48.17s/it]"
     ]
    },
    {
     "name": "stdout",
     "output_type": "stream",
     "text": [
      "Number of API call iterations required: 3\n"
     ]
    },
    {
     "name": "stderr",
     "output_type": "stream",
     "text": [
      " 86%|████████▌ | 172/200 [2:21:37<21:27, 45.97s/it]"
     ]
    },
    {
     "name": "stdout",
     "output_type": "stream",
     "text": [
      "Number of API call iterations required: 3\n"
     ]
    },
    {
     "name": "stderr",
     "output_type": "stream",
     "text": [
      " 86%|████████▋ | 173/200 [2:21:58<17:21, 38.56s/it]"
     ]
    },
    {
     "name": "stdout",
     "output_type": "stream",
     "text": [
      "Number of API call iterations required: 2\n"
     ]
    },
    {
     "name": "stderr",
     "output_type": "stream",
     "text": [
      " 87%|████████▋ | 174/200 [2:22:19<14:22, 33.18s/it]"
     ]
    },
    {
     "name": "stdout",
     "output_type": "stream",
     "text": [
      "Number of API call iterations required: 2\n"
     ]
    },
    {
     "name": "stderr",
     "output_type": "stream",
     "text": [
      " 88%|████████▊ | 175/200 [2:23:41<19:53, 47.75s/it]"
     ]
    },
    {
     "name": "stdout",
     "output_type": "stream",
     "text": [
      "Number of API call iterations required: 5\n"
     ]
    },
    {
     "name": "stderr",
     "output_type": "stream",
     "text": [
      " 88%|████████▊ | 176/200 [2:23:42<13:29, 33.73s/it]"
     ]
    },
    {
     "name": "stdout",
     "output_type": "stream",
     "text": [
      "Number of API call iterations required: 1\n"
     ]
    },
    {
     "name": "stderr",
     "output_type": "stream",
     "text": [
      " 88%|████████▊ | 177/200 [2:25:03<18:26, 48.09s/it]"
     ]
    },
    {
     "name": "stdout",
     "output_type": "stream",
     "text": [
      "Number of API call iterations required: 5\n"
     ]
    },
    {
     "name": "stderr",
     "output_type": "stream",
     "text": [
      " 89%|████████▉ | 178/200 [2:27:06<25:51, 70.54s/it]"
     ]
    },
    {
     "name": "stdout",
     "output_type": "stream",
     "text": [
      "Number of API call iterations required: 7\n"
     ]
    },
    {
     "name": "stderr",
     "output_type": "stream",
     "text": [
      " 90%|████████▉ | 179/200 [2:27:48<21:37, 61.78s/it]"
     ]
    },
    {
     "name": "stdout",
     "output_type": "stream",
     "text": [
      "Number of API call iterations required: 3\n"
     ]
    },
    {
     "name": "stderr",
     "output_type": "stream",
     "text": [
      " 90%|█████████ | 180/200 [2:28:29<18:32, 55.62s/it]"
     ]
    },
    {
     "name": "stdout",
     "output_type": "stream",
     "text": [
      "Number of API call iterations required: 3\n"
     ]
    },
    {
     "name": "stderr",
     "output_type": "stream",
     "text": [
      " 90%|█████████ | 181/200 [2:28:50<14:18, 45.21s/it]"
     ]
    },
    {
     "name": "stdout",
     "output_type": "stream",
     "text": [
      "Number of API call iterations required: 2\n"
     ]
    },
    {
     "name": "stderr",
     "output_type": "stream",
     "text": [
      " 91%|█████████ | 182/200 [2:29:51<15:03, 50.17s/it]"
     ]
    },
    {
     "name": "stdout",
     "output_type": "stream",
     "text": [
      "Number of API call iterations required: 4\n"
     ]
    },
    {
     "name": "stderr",
     "output_type": "stream",
     "text": [
      " 92%|█████████▏| 183/200 [2:30:33<13:27, 47.48s/it]"
     ]
    },
    {
     "name": "stdout",
     "output_type": "stream",
     "text": [
      "Number of API call iterations required: 3\n"
     ]
    },
    {
     "name": "stderr",
     "output_type": "stream",
     "text": [
      " 92%|█████████▏| 184/200 [2:31:14<12:09, 45.62s/it]"
     ]
    },
    {
     "name": "stdout",
     "output_type": "stream",
     "text": [
      "Number of API call iterations required: 3\n"
     ]
    },
    {
     "name": "stderr",
     "output_type": "stream",
     "text": [
      " 92%|█████████▎| 185/200 [2:31:17<08:12, 32.80s/it]"
     ]
    },
    {
     "name": "stdout",
     "output_type": "stream",
     "text": [
      "Number of API call iterations required: 1\n"
     ]
    },
    {
     "name": "stderr",
     "output_type": "stream",
     "text": [
      " 93%|█████████▎| 186/200 [2:31:58<08:16, 35.43s/it]"
     ]
    },
    {
     "name": "stdout",
     "output_type": "stream",
     "text": [
      "Number of API call iterations required: 3\n"
     ]
    },
    {
     "name": "stderr",
     "output_type": "stream",
     "text": [
      " 94%|█████████▎| 187/200 [2:35:03<17:21, 80.12s/it]"
     ]
    },
    {
     "name": "stdout",
     "output_type": "stream",
     "text": [
      "No results found for https://github.com/uhh-iss/zeek after 10 iterations.\n",
      "Error processing https://github.com/uhh-iss/zeek for jrolli: No results found for https://github.com/uhh-iss/zeek after 10 iterations.\n"
     ]
    },
    {
     "name": "stderr",
     "output_type": "stream",
     "text": [
      " 94%|█████████▍| 188/200 [2:36:04<14:52, 74.40s/it]"
     ]
    },
    {
     "name": "stdout",
     "output_type": "stream",
     "text": [
      "Number of API call iterations required: 4\n"
     ]
    },
    {
     "name": "stderr",
     "output_type": "stream",
     "text": [
      " 94%|█████████▍| 189/200 [2:36:25<10:41, 58.29s/it]"
     ]
    },
    {
     "name": "stdout",
     "output_type": "stream",
     "text": [
      "Number of API call iterations required: 2\n"
     ]
    },
    {
     "name": "stderr",
     "output_type": "stream",
     "text": [
      " 95%|█████████▌| 190/200 [2:37:06<08:51, 53.19s/it]"
     ]
    },
    {
     "name": "stdout",
     "output_type": "stream",
     "text": [
      "Number of API call iterations required: 3\n"
     ]
    },
    {
     "name": "stderr",
     "output_type": "stream",
     "text": [
      " 96%|█████████▌| 191/200 [2:39:08<11:05, 73.90s/it]"
     ]
    },
    {
     "name": "stdout",
     "output_type": "stream",
     "text": [
      "Number of API call iterations required: 7\n"
     ]
    },
    {
     "name": "stderr",
     "output_type": "stream",
     "text": [
      " 96%|█████████▌| 192/200 [2:39:29<07:43, 57.94s/it]"
     ]
    },
    {
     "name": "stdout",
     "output_type": "stream",
     "text": [
      "Number of API call iterations required: 2\n"
     ]
    },
    {
     "name": "stderr",
     "output_type": "stream",
     "text": [
      " 96%|█████████▋| 193/200 [2:39:51<05:29, 47.08s/it]"
     ]
    },
    {
     "name": "stdout",
     "output_type": "stream",
     "text": [
      "Number of API call iterations required: 2\n"
     ]
    },
    {
     "name": "stderr",
     "output_type": "stream",
     "text": [
      " 97%|█████████▋| 194/200 [2:40:12<03:55, 39.29s/it]"
     ]
    },
    {
     "name": "stdout",
     "output_type": "stream",
     "text": [
      "Number of API call iterations required: 2\n"
     ]
    },
    {
     "name": "stderr",
     "output_type": "stream",
     "text": [
      " 98%|█████████▊| 195/200 [2:40:13<02:19, 27.81s/it]"
     ]
    },
    {
     "name": "stdout",
     "output_type": "stream",
     "text": [
      "Number of API call iterations required: 1\n"
     ]
    },
    {
     "name": "stderr",
     "output_type": "stream",
     "text": [
      " 98%|█████████▊| 196/200 [2:40:54<02:07, 31.83s/it]"
     ]
    },
    {
     "name": "stdout",
     "output_type": "stream",
     "text": [
      "Number of API call iterations required: 3\n"
     ]
    },
    {
     "name": "stderr",
     "output_type": "stream",
     "text": [
      " 98%|█████████▊| 197/200 [2:41:15<01:26, 28.68s/it]"
     ]
    },
    {
     "name": "stdout",
     "output_type": "stream",
     "text": [
      "Number of API call iterations required: 2\n"
     ]
    },
    {
     "name": "stderr",
     "output_type": "stream",
     "text": [
      " 99%|█████████▉| 198/200 [2:41:17<00:41, 20.73s/it]"
     ]
    },
    {
     "name": "stdout",
     "output_type": "stream",
     "text": [
      "Number of API call iterations required: 1\n"
     ]
    },
    {
     "name": "stderr",
     "output_type": "stream",
     "text": [
      "100%|█████████▉| 199/200 [2:42:39<00:39, 39.04s/it]"
     ]
    },
    {
     "name": "stdout",
     "output_type": "stream",
     "text": [
      "Number of API call iterations required: 5\n"
     ]
    },
    {
     "name": "stderr",
     "output_type": "stream",
     "text": [
      "100%|██████████| 200/200 [2:44:22<00:00, 49.31s/it]"
     ]
    },
    {
     "name": "stdout",
     "output_type": "stream",
     "text": [
      "Number of API call iterations required: 6\n"
     ]
    },
    {
     "name": "stderr",
     "output_type": "stream",
     "text": [
      "\n"
     ]
    }
   ],
   "source": [
    "# Take a random sample of 200 rows\n",
    "sampled_rows = cc_na_individuals_no_push_after_pub.drop_duplicates(\n",
    "    \"developer_account_id\", keep=\"first\"\n",
    ").sample(n=200, random_state=12)\n",
    "\n",
    "annotation_ready = []\n",
    "for _, row in tqdm(\n",
    "    sampled_rows.iterrows(),\n",
    "    total=len(sampled_rows),\n",
    "):\n",
    "    # Prepare the row for annotation\n",
    "    annotation_ready.append(prep_for_annotation(row))\n",
    "\n",
    "    # Convert to DataFrame\n",
    "    annotated_df = pd.DataFrame(annotation_ready)\n",
    "    annotated_df.to_csv(\"cc-na-individuals-full.csv\", index=False)\n",
    "\n",
    "# Convert to DataFrame\n",
    "annotated_df = pd.DataFrame(annotation_ready)\n",
    "annotated_df.to_csv(\"cc-na-individuals-full.csv\", index=False)"
   ]
  },
  {
   "cell_type": "code",
   "execution_count": null,
   "id": "66542d0d",
   "metadata": {},
   "outputs": [],
   "source": []
  }
 ],
 "metadata": {
  "kernelspec": {
   "display_name": "rs-graph",
   "language": "python",
   "name": "python3"
  },
  "language_info": {
   "codemirror_mode": {
    "name": "ipython",
    "version": 3
   },
   "file_extension": ".py",
   "mimetype": "text/x-python",
   "name": "python",
   "nbconvert_exporter": "python",
   "pygments_lexer": "ipython3",
   "version": "3.12.9"
  }
 },
 "nbformat": 4,
 "nbformat_minor": 5
}
